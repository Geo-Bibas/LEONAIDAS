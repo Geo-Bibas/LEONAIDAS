{
 "cells": [
  {
   "cell_type": "markdown",
   "metadata": {},
   "source": [
    "- FILTER SEMESTER (FIRST, SECOND, SUMMER, SUMMER2)\n",
    "- grade_final should only have numerical values such as (1.00 -5.00 excluding 3.50), INC, and DRP.\n",
    "- create new column, numerical_grade (Ilipat ang grade_reexam to grade_finals if INC). "
   ]
  },
  {
   "cell_type": "markdown",
   "metadata": {},
   "source": [
    "COLUMNS TO BE CLEANED:\n",
    "- grade_reexam\n",
    "- grade_finals\n",
    "\n",
    "CLEANED / FILTERED\n",
    "- semester \n",
    "- schoolyear (with _x)\n",
    "- drop schoolyear without - EXAMPLE (\"2004\")"
   ]
  },
  {
   "cell_type": "markdown",
   "metadata": {},
   "source": [
    "EXTRACT DATA"
   ]
  },
  {
   "cell_type": "code",
   "execution_count": 1,
   "metadata": {},
   "outputs": [],
   "source": [
    "from pyspark.sql import SparkSession\n",
    "\n",
    "jdbc_url = \"jdbc:postgresql://localhost:5432/local_student_grades\"\n",
    "properties = {\n",
    "    \"user\": \"postgres\", \n",
    "    \"password\": \"password\",  \n",
    "    \"driver\": \"org.postgresql.Driver\",\n",
    "    \"fetchsize\": \"10000\"\n",
    "}\n",
    "postgres_driver_path = \"C:\\postgresql-42.7.5.jar\"\n",
    "\n",
    "def extract(jdbc_url, table_name, properties, postgres_driver_path):\n",
    "    \"\"\" Extract data from PostgreSQL database using Spark.\"\"\"\n",
    "    # Initialize Spark session\n",
    "    spark = SparkSession.builder \\\n",
    "        .appName(\"Postgres Connection\") \\\n",
    "        .config(\"spark.jars\", postgres_driver_path) \\\n",
    "        .config(\"spark.driver.memory\", \"8g\") \\\n",
    "        .config(\"spark.executor.memory\", \"8g\") \\\n",
    "        .config(\"spark.executor.memoryOverhead\", \"2g\") \\\n",
    "        .config(\"spark.driver.memoryOverhead\", \"2g\") \\\n",
    "        .getOrCreate()\n",
    "\n",
    "    # Extracts data from PostgreSQL database\n",
    "    df = spark.read.jdbc(\n",
    "        url=jdbc_url,\n",
    "        table=table_name,\n",
    "        properties=properties,\n",
    "    )\n",
    "    \n",
    "    return df, spark"
   ]
  },
  {
   "cell_type": "code",
   "execution_count": 2,
   "metadata": {},
   "outputs": [
    {
     "name": "stdout",
     "output_type": "stream",
     "text": [
      "Number of rows: 2009740\n",
      "root\n",
      " |-- id: integer (nullable = true)\n",
      " |-- schoolyear: string (nullable = true)\n",
      " |-- semester: string (nullable = true)\n",
      " |-- code: string (nullable = true)\n",
      " |-- description: string (nullable = true)\n",
      " |-- credits: integer (nullable = true)\n",
      " |-- instructor_id: integer (nullable = true)\n",
      " |-- instructor: string (nullable = true)\n",
      " |-- srcode: integer (nullable = true)\n",
      " |-- fullname: string (nullable = true)\n",
      " |-- campus: string (nullable = true)\n",
      " |-- college: string (nullable = true)\n",
      " |-- program: string (nullable = true)\n",
      " |-- grade_final: string (nullable = true)\n",
      " |-- grade_reexam: string (nullable = true)\n",
      " |-- status: string (nullable = true)\n",
      "\n"
     ]
    }
   ],
   "source": [
    "# Extract data once\n",
    "raw_df, spark = extract(jdbc_url, \"raw_student_grades\", properties, postgres_driver_path)\n",
    "\n",
    "# Check the number of rows\n",
    "row_count = raw_df.count()\n",
    "print(f'Number of rows: {row_count}')\n",
    "\n",
    "# Print schema\n",
    "raw_df.printSchema()"
   ]
  },
  {
   "cell_type": "code",
   "execution_count": 3,
   "metadata": {},
   "outputs": [
    {
     "name": "stdout",
     "output_type": "stream",
     "text": [
      "+---+----------+--------+---------+--------------------+-------+-------------+--------------+------+------------------+---------+--------------------+--------------------+-----------+------------+------+\n",
      "| id|schoolyear|semester|     code|         description|credits|instructor_id|    instructor|srcode|          fullname|   campus|             college|             program|grade_final|grade_reexam|status|\n",
      "+---+----------+--------+---------+--------------------+-------+-------------+--------------+------+------------------+---------+--------------------+--------------------+-----------+------------+------+\n",
      "|  1| 2021-2022|   FIRST| Educ 504|Philosophical and...|      3|         2913|LN2913, FN2913|118442|LN118442, FN118442| PB      |     Graduate School|Master of Arts in...|       1.00|           -|PASSED|\n",
      "|  2| 2021-2022|   FIRST|Math 501 |Pre-Calculus Math...|      3|         2576|LN2576, FN2576|118442|LN118442, FN118442| PB      |     Graduate School|Master of Arts in...|       1.00|           -|PASSED|\n",
      "|  3| 2021-2022|   FIRST| Educ 501|Research Methodology|      3|         3615|LN3615, FN3615|118442|LN118442, FN118442| PB      |     Graduate School|Master of Arts in...|       1.25|           -|PASSED|\n",
      "|  4| 2022-2023|   FIRST|Math 506 |Differential Equa...|      3|         5438|LN5438, FN5438|118442|LN118442, FN118442| PB      |     Graduate School|Master of Arts in...|       1.25|           -|PASSED|\n",
      "|  5| 2022-2023|   FIRST| Math 502|Modern Plane Geom...|      3|         1844|LN1844, FN1844|118442|LN118442, FN118442| PB      |     Graduate School|Master of Arts in...|       1.25|           -|PASSED|\n",
      "|  6| 2022-2023|   FIRST| Math 507|Theory of Probabi...|      3|         1844|LN1844, FN1844|118442|LN118442, FN118442| PB      |     Graduate School|Master of Arts in...|       1.25|           -|PASSED|\n",
      "|  7| 2021-2022|  SUMMER| Educ 509|Psychology of Tea...|      3|         5201|LN5201, FN5201|118442|LN118442, FN118442| PB      |     Graduate School|Master of Arts in...|       1.00|           -|PASSED|\n",
      "|  8| 2021-2022|  SUMMER| Educ 502|Educational Measu...|      3|         2437|LN2437, FN2437|118442|LN118442, FN118442| PB      |     Graduate School|Master of Arts in...|       1.00|           -|PASSED|\n",
      "|  9| 2021-2022|  SECOND| Math 503|Mathematical Anal...|      3|         5437|LN5437, FN5437|118442|LN118442, FN118442| PB      |     Graduate School|Master of Arts in...|       1.25|           -|PASSED|\n",
      "| 10| 2021-2022|  SECOND| Math 505|Mathematical Anal...|      3|         5438|LN5438, FN5438|118442|LN118442, FN118442| PB      |     Graduate School|Master of Arts in...|       1.25|           -|PASSED|\n",
      "| 11| 2021-2022|  SECOND| Math 504|Mathematical Anal...|      3|         3605|LN3605, FN3605|118442|LN118442, FN118442| PB      |     Graduate School|Master of Arts in...|       1.25|           -|PASSED|\n",
      "| 12| 2022-2023|   FIRST| ENGG 414|   Numerical Methods|      3|         3857|LN3857, FN3857| 90100|  LN90100, FN90100|ALANGILAN|College of Engine...|BS Mechanical Eng...|       1.50|           -|PASSED|\n",
      "| 13| 2022-2023|   FIRST|   ME 413|Materials Enginee...|      3|         3892|LN3892, FN3892| 90100|  LN90100, FN90100|ALANGILAN|College of Engine...|BS Mechanical Eng...|       2.25|           -|PASSED|\n",
      "| 14| 2022-2023|   FIRST|   ME 414|       ME Elective 1|      2|         3907|LN3907, FN3907| 90100|  LN90100, FN90100|ALANGILAN|College of Engine...|BS Mechanical Eng...|       1.75|           -|PASSED|\n",
      "| 15| 2022-2023|   FIRST|   ME 409|       Heat Transfer|      3|         3373|LN3373, FN3373| 90100|  LN90100, FN90100|ALANGILAN|College of Engine...|BS Mechanical Eng...|        INC|        3.00|PASSED|\n",
      "| 16| 2022-2023|   FIRST|   ME 410|Combustion Engine...|      3|         3429|LN3429, FN3429| 90100|  LN90100, FN90100|ALANGILAN|College of Engine...|BS Mechanical Eng...|       3.00|           -|PASSED|\n",
      "| 17| 2022-2023|   FIRST|   ME 415|     ME Laboratory 1|      1|         3120|LN3120, FN3120| 90100|  LN90100, FN90100|ALANGILAN|College of Engine...|BS Mechanical Eng...|       1.25|           -|PASSED|\n",
      "| 18| 2022-2023|   FIRST|   ME 411|     Fluid Machinery|      3|         2423|LN2423, FN2423| 90100|  LN90100, FN90100|ALANGILAN|College of Engine...|BS Mechanical Eng...|        INC|        3.00|PASSED|\n",
      "| 19| 2022-2023|   FIRST|   ME 412|    Machine Elements|      3|         1439|LN1439, FN1439| 90100|  LN90100, FN90100|ALANGILAN|College of Engine...|BS Mechanical Eng...|       3.00|           -|PASSED|\n",
      "| 20| 2022-2023|   FIRST| ENGG 416|    Research Methods|      3|          866|  LN866, FN866| 90100|  LN90100, FN90100|ALANGILAN|College of Engine...|BS Mechanical Eng...|       3.00|           -|PASSED|\n",
      "+---+----------+--------+---------+--------------------+-------+-------------+--------------+------+------------------+---------+--------------------+--------------------+-----------+------------+------+\n",
      "only showing top 20 rows\n",
      "\n"
     ]
    }
   ],
   "source": [
    "raw_df.show()"
   ]
  },
  {
   "cell_type": "code",
   "execution_count": 4,
   "metadata": {},
   "outputs": [],
   "source": [
    "from pyspark.sql.functions import col, upper\n",
    "\n",
    "# Uppercase all supposed to be uppercase data just to be sure\n",
    "df = raw_df.withColumn('grade_final', upper(col('grade_final')))\\\n",
    "                .withColumn('campus', upper(col('campus')))\\\n",
    "                .withColumn('semester', upper(col('semester')))\\\n",
    "                .withColumn('schoolyear', upper(col('schoolyear'))       \n",
    ")"
   ]
  },
  {
   "cell_type": "markdown",
   "metadata": {},
   "source": [
    "CHECK FOR TYPO ERROR AND UNWANTED VALUES UNDER semester COLUMN"
   ]
  },
  {
   "cell_type": "code",
   "execution_count": 5,
   "metadata": {},
   "outputs": [
    {
     "name": "stdout",
     "output_type": "stream",
     "text": [
      "+---------------+----------+\n",
      "|       semester|occurences|\n",
      "+---------------+----------+\n",
      "|          THURD|         1|\n",
      "|          THIRD|        10|\n",
      "|         SECOND|    770300|\n",
      "|           1.75|         1|\n",
      "|        SUMMER2|        43|\n",
      "|           1.25|         1|\n",
      "|SECOND SEMESTER|         1|\n",
      "|       SECOND_X|         4|\n",
      "|         SUMMER|     56200|\n",
      "|             --|         1|\n",
      "|          FIRST|   1183177|\n",
      "|THIRD TRIMESTER|         1|\n",
      "+---------------+----------+\n",
      "\n"
     ]
    }
   ],
   "source": [
    "df.createOrReplaceTempView('raw_student_grades')\n",
    "show_data = spark.sql(\"\"\"SELECT semester, COUNT(*) AS occurences \n",
    "                         FROM raw_student_grades \n",
    "                         GROUP BY semester\"\"\")\n",
    "show_data.show(22)"
   ]
  },
  {
   "cell_type": "markdown",
   "metadata": {},
   "source": [
    "FILTER TYPO ERRORS AND INSTANCES FOR SECOND SEMESTER, AND REMOVE ROWS WITH INVALID semester VALUES"
   ]
  },
  {
   "cell_type": "code",
   "execution_count": 6,
   "metadata": {},
   "outputs": [],
   "source": [
    "from pyspark.sql.functions import when\n",
    "\n",
    "valid_semesters = [\"FIRST\", \"SECOND\", \"SUMMER\", \"SUMMER2\"]\n",
    "df = df.withColumn(\n",
    "    \"semester\",\n",
    "    when(df[\"semester\"].isin(\"SECOND_X\", \"SECOND SEMESTER\"), \"SECOND\")\n",
    "    .when(df[\"semester\"].isin(valid_semesters), df[\"semester\"])\n",
    "    .otherwise(None)  # Assign None to invalid semesters so they can be filtered\n",
    ").filter(col(\"semester\").isNotNull())  # Remove rows where semester is None (invalid)"
   ]
  },
  {
   "cell_type": "code",
   "execution_count": 7,
   "metadata": {},
   "outputs": [
    {
     "name": "stdout",
     "output_type": "stream",
     "text": [
      "+--------+----------+\n",
      "|semester|occurences|\n",
      "+--------+----------+\n",
      "|  SECOND|    770305|\n",
      "| SUMMER2|        43|\n",
      "|  SUMMER|     56200|\n",
      "|   FIRST|   1183177|\n",
      "+--------+----------+\n",
      "\n"
     ]
    }
   ],
   "source": [
    "df.createOrReplaceTempView('raw_student_grades')\n",
    "show_data = spark.sql(\"\"\"SELECT semester, COUNT(*) AS occurences \n",
    "                         FROM raw_student_grades \n",
    "                         GROUP BY semester\"\"\")\n",
    "show_data.show()"
   ]
  },
  {
   "cell_type": "markdown",
   "metadata": {},
   "source": [
    "CHECK FOR SPECIAL CHARACTERS AND CATEGORICAL DATA IN grade_final COLUMN"
   ]
  },
  {
   "cell_type": "code",
   "execution_count": 8,
   "metadata": {},
   "outputs": [
    {
     "name": "stdout",
     "output_type": "stream",
     "text": [
      "+-----------+----------+\n",
      "|grade_final|occurences|\n",
      "+-----------+----------+\n",
      "|     PASSED|       255|\n",
      "|          P|        27|\n",
      "|         OG|      1581|\n",
      "|        INC|     60402|\n",
      "|          F|         1|\n",
      "|        DRP|      2907|\n",
      "|       5.00|     15360|\n",
      "|       4.00|       142|\n",
      "|       3.50|         1|\n",
      "|       3.00|    118143|\n",
      "|       2.75|     90548|\n",
      "|       2.50|    177289|\n",
      "|       2.25|    160248|\n",
      "|       2.00|    289305|\n",
      "|       1.75|    259871|\n",
      "|       1.50|    452501|\n",
      "|       1.25|    317688|\n",
      "|       1.00|     63424|\n",
      "|         --|         2|\n",
      "|          -|        19|\n",
      "|        -- |        11|\n",
      "+-----------+----------+\n",
      "\n"
     ]
    }
   ],
   "source": [
    "df.createOrReplaceTempView('raw_student_grades')\n",
    "show_data = spark.sql(\"\"\"SELECT grade_final, COUNT(*) AS occurences \n",
    "                         FROM raw_student_grades \n",
    "                         GROUP BY grade_final \n",
    "                         ORDER BY grade_final DESC\"\"\")\n",
    "show_data.show(22)"
   ]
  },
  {
   "cell_type": "markdown",
   "metadata": {},
   "source": [
    "REMOVE WHITE SPACES FROM ALL THE COLUMNS"
   ]
  },
  {
   "cell_type": "code",
   "execution_count": 9,
   "metadata": {},
   "outputs": [],
   "source": [
    "from pyspark.sql.functions import trim\n",
    "\n",
    "df = df.withColumn('schoolyear', trim('schoolyear'))\\\n",
    ".withColumn('semester', trim('semester'))\\\n",
    ".withColumn('code', trim('code'))\\\n",
    ".withColumn('description', trim('description'))\\\n",
    ".withColumn('credits', trim('credits'))\\\n",
    ".withColumn('instructor_id', trim('instructor_id'))\\\n",
    ".withColumn('instructor', trim('instructor'))\\\n",
    ".withColumn('srcode', trim('srcode'))\\\n",
    ".withColumn('fullname', trim('fullname'))\\\n",
    ".withColumn('campus', trim('campus'))\\\n",
    ".withColumn('college', trim('college'))\\\n",
    ".withColumn('program', trim('program'))\\\n",
    ".withColumn('grade_final', trim('grade_final'))\\\n",
    ".withColumn('grade_reexam', trim('grade_reexam'))\\\n",
    ".withColumn('status', trim('status'))\n",
    "\n"
   ]
  },
  {
   "cell_type": "code",
   "execution_count": 10,
   "metadata": {},
   "outputs": [
    {
     "name": "stdout",
     "output_type": "stream",
     "text": [
      "+----+----------+--------+--------+--------------------+-------+-------------+--------------+------+------------------+------+--------------------+--------------------+-----------+------------+------+\n",
      "|  id|schoolyear|semester|    code|         description|credits|instructor_id|    instructor|srcode|          fullname|campus|             college|             program|grade_final|grade_reexam|status|\n",
      "+----+----------+--------+--------+--------------------+-------+-------------+--------------+------+------------------+------+--------------------+--------------------+-----------+------------+------+\n",
      "|9901| 2021-2022|  SECOND|  Ed 102|The Teaching Prof...|      3|         2342|LN2342, FN2342|121285|LN121285, FN121285|MALVAR|College of Teache...|Bachelor of Secon...|       1.25|           -|PASSED|\n",
      "|9902| 2021-2022|  SECOND|  PE 102| Rhythmic Activities|      2|         2362|LN2362, FN2362|121285|LN121285, FN121285|MALVAR|College of Teache...|Bachelor of Secon...|       1.25|           -|PASSED|\n",
      "|9903| 2022-2023|  SECOND|Fili 102|Filipino sa Iba't...|      3|         4389|LN4389, FN4389|121285|LN121285, FN121285|MALVAR|College of Teache...|Bachelor of Secon...|       1.25|           -|PASSED|\n",
      "|9904| 2021-2022|  SECOND| GEd 106|Purposive Communi...|      3|         1980|LN1980, FN1980|121285|LN121285, FN121285|MALVAR|College of Teache...|Bachelor of Secon...|       1.75|           -|PASSED|\n",
      "|9905| 2021-2022|  SECOND|Litr 101|Sosyedad at Liter...|      3|         2157|LN2157, FN2157|121285|LN121285, FN121285|MALVAR|College of Teache...|Bachelor of Secon...|       1.50|           -|PASSED|\n",
      "|9906| 2021-2022|  SECOND| GEd 104|The Contemporary ...|      3|         2158|LN2158, FN2158|121285|LN121285, FN121285|MALVAR|College of Teache...|Bachelor of Secon...|       1.25|           -|PASSED|\n",
      "|9907| 2021-2022|  SECOND| GEd 105|Readings in Phili...|      3|         2158|LN2158, FN2158|121285|LN121285, FN121285|MALVAR|College of Teache...|Bachelor of Secon...|       1.50|           -|PASSED|\n",
      "|9908| 2023-2024|   FIRST|Fili 103|Retorika - Masini...|      3|         2157|LN2157, FN2157|121285|LN121285, FN121285|MALVAR|College of Teache...|Bachelor of Secon...|       1.50|           -|PASSED|\n",
      "|9909| 2023-2024|   FIRST|  Ed 109|Assessment in Lea...|      3|         1813|LN1813, FN1813|121285|LN121285, FN121285|MALVAR|College of Teache...|Bachelor of Secon...|       1.50|           -|PASSED|\n",
      "|9910| 2023-2024|   FIRST| SEd 315|Research in Scien...|      3|         2020|LN2020, FN2020|121285|LN121285, FN121285|MALVAR|College of Teache...|Bachelor of Secon...|       1.50|           -|PASSED|\n",
      "|9911| 2023-2024|   FIRST| SEd 311|Cell and Molecula...|      4|         2021|LN2021, FN2021|121285|LN121285, FN121285|MALVAR|College of Teache...|Bachelor of Secon...|       1.50|           -|PASSED|\n",
      "|9912| 2023-2024|   FIRST| SEd 312|    Waves and Optics|      4|         1519|LN1519, FN1519|121285|LN121285, FN121285|MALVAR|College of Teache...|Bachelor of Secon...|       2.50|           -|PASSED|\n",
      "|9913| 2023-2024|   FIRST| SEd 314|         Meteorology|      3|         1519|LN1519, FN1519|121285|LN121285, FN121285|MALVAR|College of Teache...|Bachelor of Secon...|       2.50|           -|PASSED|\n",
      "|9914| 2021-2022|  SUMMER| SEd 132|     Fluid Mechanics|      3|         1519|LN1519, FN1519|121285|LN121285, FN121285|MALVAR|College of Teache...|Bachelor of Secon...|       1.50|           -|PASSED|\n",
      "|9915| 2021-2022|  SUMMER| SEd 131|       Earth Science|      3|         3478|LN3478, FN3478|121285|LN121285, FN121285|MALVAR|College of Teache...|Bachelor of Secon...|       1.25|           -|PASSED|\n",
      "|9916| 2023-2024|  SECOND| SEd 321|Technology Applic...|      3|         4148|LN4148, FN4148|121285|LN121285, FN121285|MALVAR|College of Teache...|Bachelor of Secon...|       1.50|           -|PASSED|\n",
      "|9917| 2023-2024|  SECOND| SEd 324|Anatomy and Physi...|      4|         4148|LN4148, FN4148|121285|LN121285, FN121285|MALVAR|College of Teache...|Bachelor of Secon...|       1.75|           -|PASSED|\n",
      "|9918| 2022-2023|   FIRST| SEd 211|      Thermodynamics|      4|         1519|LN1519, FN1519|121285|LN121285, FN121285|MALVAR|College of Teache...|Bachelor of Secon...|       1.75|           -|PASSED|\n",
      "|9919| 2022-2023|   FIRST| GEd 107|              Ethics|      3|         2158|LN2158, FN2158|121285|LN121285, FN121285|MALVAR|College of Teache...|Bachelor of Secon...|       1.25|           -|PASSED|\n",
      "|9920| 2022-2023|   FIRST|  Ed 104|Assessment in Lea...|      3|         1813|LN1813, FN1813|121285|LN121285, FN121285|MALVAR|College of Teache...|Bachelor of Secon...|       1.50|           -|PASSED|\n",
      "|9921| 2022-2023|   FIRST|  PE 103|Individual and Du...|      2|         1943|LN1943, FN1943|121285|LN121285, FN121285|MALVAR|College of Teache...|Bachelor of Secon...|       1.25|           -|PASSED|\n",
      "|9922| 2022-2023|   FIRST|  Ed 105|Facilitating Lear...|      3|         1980|LN1980, FN1980|121285|LN121285, FN121285|MALVAR|College of Teache...|Bachelor of Secon...|       1.50|           -|PASSED|\n",
      "+----+----------+--------+--------+--------------------+-------+-------------+--------------+------+------------------+------+--------------------+--------------------+-----------+------------+------+\n",
      "only showing top 22 rows\n",
      "\n"
     ]
    }
   ],
   "source": [
    "df.createOrReplaceTempView('raw_student_grades')\n",
    "\n",
    "show_data = spark.sql(\"SELECT * FROM raw_student_grades\")\n",
    "show_data.show(22)"
   ]
  },
  {
   "cell_type": "code",
   "execution_count": 11,
   "metadata": {},
   "outputs": [
    {
     "name": "stdout",
     "output_type": "stream",
     "text": [
      "+-----------+----------+\n",
      "| schoolyear|occurences|\n",
      "+-----------+----------+\n",
      "|  2024-2025|    392358|\n",
      "|2023-2024_X|         4|\n",
      "|  2023-2024|    698500|\n",
      "|  2022-2023|    551385|\n",
      "|  2021-2022|    306076|\n",
      "|  2020-2021|     45721|\n",
      "|  2019-2022|         1|\n",
      "|  2019-2020|     10394|\n",
      "|  2018-2019|      2550|\n",
      "|  2017-2018|       759|\n",
      "|  2016-2017|       606|\n",
      "|  2015-2016|       681|\n",
      "|  2014-2015|       266|\n",
      "|  2013-2014|       103|\n",
      "|  2012-2013|        99|\n",
      "|  2011-2012|        56|\n",
      "|  2010-2011|        36|\n",
      "|  2009-2010|        21|\n",
      "|  2008-2009|        12|\n",
      "|  2007-2008|        17|\n",
      "|  2006-2007|         2|\n",
      "|  2005-2006|         3|\n",
      "|  2004-2005|        23|\n",
      "|       2004|         1|\n",
      "|  2003-2004|        23|\n",
      "|  2002-2003|        12|\n",
      "|  2001-2002|         4|\n",
      "|  2000-2001|         8|\n",
      "|  1999-2000|         4|\n",
      "+-----------+----------+\n",
      "\n"
     ]
    }
   ],
   "source": [
    "df.createOrReplaceTempView('raw_student_grades')\n",
    "\n",
    "show_data = spark.sql(\"\"\"SELECT schoolyear, COUNT(*) AS occurences \n",
    "                         FROM raw_student_grades \n",
    "                         GROUP BY schoolyear \n",
    "                         ORDER BY schoolyear DESC\"\"\")\n",
    "\n",
    "show_data.show(50)"
   ]
  },
  {
   "cell_type": "markdown",
   "metadata": {},
   "source": [
    "FILTERING schoolyear AND REMOVE/REPLACE UNWANTED VALUES"
   ]
  },
  {
   "cell_type": "code",
   "execution_count": 12,
   "metadata": {},
   "outputs": [],
   "source": [
    "from pyspark.sql.functions import regexp_extract, col\n",
    "\n",
    "# 1. Extract the YYYY-YYYY pattern (handles cases with trailing _X)\n",
    "df = df.withColumn(\n",
    "    \"schoolyear\", regexp_extract(col(\"schoolyear\"), r\"(\\d{4}-\\d{4})\", 1)\n",
    ")\n",
    "\n",
    "# 2. Filter out rows WITHOUT the YYYY-YYYY pattern\n",
    "schoolyear_regex = r\"^\\d{4}-\\d{4}$\"  # Regex for exact YYYY-YYYY format\n",
    "df = df.filter(col(\"schoolyear\").rlike(schoolyear_regex))  # Keep only matching rows"
   ]
  },
  {
   "cell_type": "code",
   "execution_count": 13,
   "metadata": {},
   "outputs": [
    {
     "name": "stdout",
     "output_type": "stream",
     "text": [
      "+----------+----------+\n",
      "|schoolyear|occurences|\n",
      "+----------+----------+\n",
      "| 2024-2025|    392358|\n",
      "| 2023-2024|    698504|\n",
      "| 2022-2023|    551385|\n",
      "| 2021-2022|    306076|\n",
      "| 2020-2021|     45721|\n",
      "| 2019-2022|         1|\n",
      "| 2019-2020|     10394|\n",
      "| 2018-2019|      2550|\n",
      "| 2017-2018|       759|\n",
      "| 2016-2017|       606|\n",
      "| 2015-2016|       681|\n",
      "| 2014-2015|       266|\n",
      "| 2013-2014|       103|\n",
      "| 2012-2013|        99|\n",
      "| 2011-2012|        56|\n",
      "| 2010-2011|        36|\n",
      "| 2009-2010|        21|\n",
      "| 2008-2009|        12|\n",
      "| 2007-2008|        17|\n",
      "| 2006-2007|         2|\n",
      "| 2005-2006|         3|\n",
      "| 2004-2005|        23|\n",
      "| 2003-2004|        23|\n",
      "| 2002-2003|        12|\n",
      "| 2001-2002|         4|\n",
      "| 2000-2001|         8|\n",
      "| 1999-2000|         4|\n",
      "+----------+----------+\n",
      "\n"
     ]
    }
   ],
   "source": [
    "df.createOrReplaceTempView('raw_student_grades')\n",
    "\n",
    "show_data = spark.sql(\"\"\"SELECT schoolyear, COUNT(*) AS occurences \n",
    "                         FROM raw_student_grades \n",
    "                         GROUP BY schoolyear \n",
    "                         ORDER BY schoolyear DESC\"\"\")\n",
    "\n",
    "show_data.show(50)"
   ]
  },
  {
   "cell_type": "code",
   "execution_count": 14,
   "metadata": {},
   "outputs": [
    {
     "name": "stdout",
     "output_type": "stream",
     "text": [
      "+-----------+------------+----------+\n",
      "|grade_final|grade_reexam|occurences|\n",
      "+-----------+------------+----------+\n",
      "|       1.50|           -|    452457|\n",
      "|       1.25|           -|    317624|\n",
      "|       2.00|           -|    289284|\n",
      "|       1.75|           -|    259850|\n",
      "|       2.50|           -|    177260|\n",
      "|       2.25|           -|    160236|\n",
      "|       3.00|           -|    118116|\n",
      "|       2.75|           -|     90523|\n",
      "|       1.00|           -|     63412|\n",
      "|        INC|        3.00|     35140|\n",
      "|        INC|        5.00|     16175|\n",
      "|       5.00|           -|     15352|\n",
      "|        DRP|           -|      2902|\n",
      "|        INC|           -|      1867|\n",
      "|         OG|           -|      1581|\n",
      "|        INC|        2.50|      1469|\n",
      "|        INC|        2.75|      1437|\n",
      "|        INC|        2.00|      1294|\n",
      "|        INC|        2.25|       904|\n",
      "|        INC|        1.75|       893|\n",
      "|        INC|        1.50|       847|\n",
      "|        INC|        1.25|       310|\n",
      "|     PASSED|           -|       255|\n",
      "|       4.00|        3.00|       117|\n",
      "|       1.25|          --|        62|\n",
      "|        INC|        1.00|        51|\n",
      "|       1.50|          --|        37|\n",
      "|          P|           -|        27|\n",
      "|       4.00|        5.00|        25|\n",
      "|       2.50|        NULL|        22|\n",
      "|       3.00|        NULL|        18|\n",
      "|          -|           -|        15|\n",
      "|       1.75|          --|        15|\n",
      "|       2.75|        NULL|        14|\n",
      "|         --|          --|        13|\n",
      "|        INC|          --|        12|\n",
      "|       1.00|          --|        12|\n",
      "|       2.00|        NULL|        11|\n",
      "|       2.75|          --|         9|\n",
      "|       3.00|          --|         9|\n",
      "|       2.25|        NULL|         9|\n",
      "|       2.00|          --|         7|\n",
      "|       2.50|          --|         7|\n",
      "|       5.00|          --|         7|\n",
      "|       1.50|        NULL|         6|\n",
      "|       1.75|        NULL|         5|\n",
      "|        DRP|          --|         5|\n",
      "|        INC|        NULL|         3|\n",
      "|       2.25|          --|         3|\n",
      "|       2.00|        1.50|         2|\n",
      "|          -|        1.00|         1|\n",
      "|       1.75|         INC|         1|\n",
      "|       3.50|           -|         1|\n",
      "|       1.50|        null|         1|\n",
      "|          -|        1.50|         1|\n",
      "|       1.25|        NULL|         1|\n",
      "|       2.75|        1.50|         1|\n",
      "|          -|        1.25|         1|\n",
      "|          F|           -|         1|\n",
      "|       5.00|        null|         1|\n",
      "|       2.00|        null|         1|\n",
      "|       2.75|         INC|         1|\n",
      "|          -|        2.00|         1|\n",
      "+-----------+------------+----------+\n",
      "\n"
     ]
    }
   ],
   "source": [
    "df.createOrReplaceTempView('raw_student_grades')\n",
    "show_data = spark.sql(\"\"\"SELECT grade_final, grade_reexam, COUNT(*) AS occurences \n",
    "                         FROM raw_student_grades \n",
    "                         GROUP BY grade_final, grade_reexam \n",
    "                         ORDER BY occurences DESC\"\"\")\n",
    "show_data.show(80)"
   ]
  },
  {
   "cell_type": "code",
   "execution_count": 15,
   "metadata": {},
   "outputs": [
    {
     "name": "stdout",
     "output_type": "stream",
     "text": [
      "Total instances: 2009724\n"
     ]
    }
   ],
   "source": [
    "total_count = df.count()\n",
    "print(f\"Total instances: {total_count}\")"
   ]
  },
  {
   "cell_type": "markdown",
   "metadata": {},
   "source": [
    "CREATING grade_numeric and grade_classification COLUMNS and inserting values accordingly"
   ]
  },
  {
   "cell_type": "code",
   "execution_count": 16,
   "metadata": {},
   "outputs": [],
   "source": [
    "from pyspark.sql.functions import when, col, regexp_extract, lit, coalesce, isnull, format_number\n",
    "\n",
    "# 1. Filter out rows with invalid grade_final values (excluding \"-\", \"--\")\n",
    "invalid_grades = [\"PASSED\", \"P\", \"OG\", \"F\"]\n",
    "df = df.filter(~col(\"grade_final\").isin(invalid_grades))\n",
    "\n",
    "# 2. Create the 'grade_numeric' column\n",
    "df = df.withColumn(\n",
    "    \"grade_numeric\",\n",
    "    when(\n",
    "        (df[\"grade_reexam\"].isNotNull()) & (~df[\"grade_reexam\"].isin(invalid_grades)) & (df[\"grade_reexam\"].rlike(r\"^\\d+\\.?\\d*$\")),\n",
    "        regexp_extract(df[\"grade_reexam\"], r\"(\\d+\\.?\\d*)\", 1)\n",
    "    ).when(\n",
    "        (~df[\"grade_final\"].isin(\"DRP\", \"INC\")) & (df[\"grade_final\"].rlike(r\"^\\d+\\.?\\d*$\")),\n",
    "        regexp_extract(df[\"grade_final\"], r\"(\\d+\\.?\\d*)\", 1)\n",
    "    ).when(\n",
    "       (df[\"grade_final\"] == \"INC\") & (df[\"grade_reexam\"].isNotNull()) & (~df[\"grade_reexam\"].isin(invalid_grades)) & (df[\"grade_reexam\"].rlike(r\"^\\d+\\.?\\d*$\")),\n",
    "        regexp_extract(df[\"grade_reexam\"], r\"(\\d+\\.?\\d*)\", 1)\n",
    "    )\n",
    "    .otherwise(None)\n",
    ").withColumn(\"grade_numeric\", col(\"grade_numeric\").cast(\"double\")).fillna({\"grade_numeric\": 0.0})\n",
    "\n",
    "\n",
    "# 3. Filter valid numeric grades\n",
    "valid_numeric_grades = ['1.00','1.25','1.50','1.75','2.00','2.25','2.50','2.75','3.00','4.00','5.00']\n",
    "df = df.filter(\n",
    "    when(~df[\"grade_numeric\"].isin(0.0), df[\"grade_numeric\"].isin([float(x) for x in valid_numeric_grades])).otherwise(True)\n",
    ")\n",
    "\n",
    "\n",
    "# Format grade_numeric to two decimal places x.xx\n",
    "df = df.withColumn(\"grade_numeric\", format_number(\"grade_numeric\", 2))\n",
    "\n",
    "\n",
    "# 4. Create the 'grade_classification' column\n",
    "df = df.withColumn(\n",
    "    \"grade_classification\",\n",
    "    when(\n",
    "        (df[\"grade_final\"].rlike(r\"^\\d+\\.\\d+$\")) & (isnull(df[\"grade_reexam\"]) | (df[\"grade_reexam\"].isin(invalid_grades))), 0  # Normal\n",
    "    ).when(\n",
    "         (df[\"grade_final\"].isin([\"-\", \"--\"])) & (df[\"grade_reexam\"].rlike(r\"^\\d+\\.\\d+$\")), 0 # Normal case when grade_final is - or -- but grade_reexam has valid grade\n",
    "    ).when(\n",
    "        (df[\"grade_final\"] == \"INC\") & (df[\"grade_reexam\"].rlike(r\"^\\d+\\.\\d+$\")), 1  # INC/x.xx, complied\n",
    "    ).when(\n",
    "        df[\"grade_final\"] == \"DRP\", 2  # Dropped\n",
    "    ).when(\n",
    "        (df[\"grade_final\"].rlike(r\"^\\d+\\.\\d+$\")) & (df[\"grade_reexam\"] == \"INC\") |  #Misinput INC\n",
    "        (df[\"grade_final\"].rlike(r\"^\\d+\\.\\d+$\")) & (df[\"grade_reexam\"].isin(invalid_grades)), 1 # Late to comply...\n",
    "    ).otherwise(3)  # Reexam result\n",
    ")"
   ]
  },
  {
   "cell_type": "code",
   "execution_count": 17,
   "metadata": {},
   "outputs": [
    {
     "name": "stdout",
     "output_type": "stream",
     "text": [
      "root\n",
      " |-- id: integer (nullable = true)\n",
      " |-- schoolyear: string (nullable = true)\n",
      " |-- semester: string (nullable = true)\n",
      " |-- code: string (nullable = true)\n",
      " |-- description: string (nullable = true)\n",
      " |-- credits: string (nullable = true)\n",
      " |-- instructor_id: string (nullable = true)\n",
      " |-- instructor: string (nullable = true)\n",
      " |-- srcode: string (nullable = true)\n",
      " |-- fullname: string (nullable = true)\n",
      " |-- campus: string (nullable = true)\n",
      " |-- college: string (nullable = true)\n",
      " |-- program: string (nullable = true)\n",
      " |-- grade_final: string (nullable = true)\n",
      " |-- grade_reexam: string (nullable = true)\n",
      " |-- status: string (nullable = true)\n",
      " |-- grade_numeric: string (nullable = true)\n",
      " |-- grade_classification: integer (nullable = false)\n",
      "\n"
     ]
    }
   ],
   "source": [
    "df.printSchema()"
   ]
  },
  {
   "cell_type": "code",
   "execution_count": 18,
   "metadata": {},
   "outputs": [
    {
     "name": "stdout",
     "output_type": "stream",
     "text": [
      "+-----------+------------+-------------+--------------------+----------+\n",
      "|grade_final|grade_reexam|grade_numeric|grade_classification|occurences|\n",
      "+-----------+------------+-------------+--------------------+----------+\n",
      "|       1.50|           -|         1.50|                   3|    452457|\n",
      "|       1.25|           -|         1.25|                   3|    317624|\n",
      "|       2.00|           -|         2.00|                   3|    289284|\n",
      "|       1.75|           -|         1.75|                   3|    259850|\n",
      "|       2.50|           -|         2.50|                   3|    177260|\n",
      "|       2.25|           -|         2.25|                   3|    160236|\n",
      "|       3.00|           -|         3.00|                   3|    118116|\n",
      "|       2.75|           -|         2.75|                   3|     90523|\n",
      "|       1.00|           -|         1.00|                   3|     63412|\n",
      "|        INC|        3.00|         3.00|                   1|     35140|\n",
      "|        INC|        5.00|         5.00|                   1|     16175|\n",
      "|       5.00|           -|         5.00|                   3|     15352|\n",
      "|        DRP|           -|         0.00|                   2|      2902|\n",
      "|        INC|           -|         0.00|                   3|      1867|\n",
      "|        INC|        2.50|         2.50|                   1|      1469|\n",
      "|        INC|        2.75|         2.75|                   1|      1437|\n",
      "|        INC|        2.00|         2.00|                   1|      1294|\n",
      "|        INC|        2.25|         2.25|                   1|       904|\n",
      "|        INC|        1.75|         1.75|                   1|       893|\n",
      "|        INC|        1.50|         1.50|                   1|       847|\n",
      "|        INC|        1.25|         1.25|                   1|       310|\n",
      "|       4.00|        3.00|         3.00|                   3|       117|\n",
      "|       1.25|          --|         1.25|                   3|        62|\n",
      "|        INC|        1.00|         1.00|                   1|        51|\n",
      "|       1.50|          --|         1.50|                   3|        37|\n",
      "|       4.00|        5.00|         5.00|                   3|        25|\n",
      "|       2.50|        NULL|         2.50|                   0|        22|\n",
      "|       3.00|        NULL|         3.00|                   0|        18|\n",
      "|          -|           -|         0.00|                   3|        15|\n",
      "|       1.75|          --|         1.75|                   3|        15|\n",
      "|       2.75|        NULL|         2.75|                   0|        14|\n",
      "|         --|          --|         0.00|                   3|        13|\n",
      "|        INC|          --|         0.00|                   3|        12|\n",
      "|       1.00|          --|         1.00|                   3|        12|\n",
      "|       2.00|        NULL|         2.00|                   0|        11|\n",
      "|       2.75|          --|         2.75|                   3|         9|\n",
      "|       2.25|        NULL|         2.25|                   0|         9|\n",
      "|       3.00|          --|         3.00|                   3|         9|\n",
      "|       2.50|          --|         2.50|                   3|         7|\n",
      "|       2.00|          --|         2.00|                   3|         7|\n",
      "|       5.00|          --|         5.00|                   3|         7|\n",
      "|       1.50|        NULL|         1.50|                   0|         6|\n",
      "|        DRP|          --|         0.00|                   2|         5|\n",
      "|       1.75|        NULL|         1.75|                   0|         5|\n",
      "|       2.25|          --|         2.25|                   3|         3|\n",
      "|        INC|        NULL|         0.00|                   3|         3|\n",
      "|       2.00|        1.50|         1.50|                   3|         2|\n",
      "|       2.75|         INC|         2.75|                   1|         1|\n",
      "|       5.00|        null|         5.00|                   3|         1|\n",
      "|          -|        1.00|         1.00|                   0|         1|\n",
      "|       2.75|        1.50|         1.50|                   3|         1|\n",
      "|          -|        1.25|         1.25|                   0|         1|\n",
      "|       2.00|        null|         2.00|                   3|         1|\n",
      "|          -|        1.50|         1.50|                   0|         1|\n",
      "|       1.75|         INC|         1.75|                   1|         1|\n",
      "|       1.50|        null|         1.50|                   3|         1|\n",
      "|          -|        2.00|         2.00|                   0|         1|\n",
      "|       1.25|        NULL|         1.25|                   0|         1|\n",
      "+-----------+------------+-------------+--------------------+----------+\n",
      "\n"
     ]
    }
   ],
   "source": [
    "df.createOrReplaceTempView('raw_student_grades')\n",
    "show_data = spark.sql(\"\"\"SELECT grade_final, grade_reexam, grade_numeric, grade_classification, COUNT(*) AS occurences \n",
    "                         FROM raw_student_grades \n",
    "                         GROUP BY grade_final, grade_reexam, grade_numeric, grade_classification\n",
    "                         ORDER BY occurences DESC\"\"\")\n",
    "show_data.show(80)"
   ]
  },
  {
   "cell_type": "code",
   "execution_count": 19,
   "metadata": {},
   "outputs": [
    {
     "name": "stdout",
     "output_type": "stream",
     "text": [
      "Total instances: 2007859\n"
     ]
    }
   ],
   "source": [
    "total_count = df.count()\n",
    "print(f\"Total instances: {total_count}\")"
   ]
  },
  {
   "cell_type": "markdown",
   "metadata": {},
   "source": [
    "FILTER OUT (OG, P, Passed, F, DRP)"
   ]
  },
  {
   "cell_type": "code",
   "execution_count": 20,
   "metadata": {},
   "outputs": [],
   "source": [
    "# Filter out the data that is not included on the list\n",
    "allowed_data = ['1.00','1.25','1.50',\n",
    "                '1.75','2.00','2.25',\n",
    "                '2.50','2.75','3.00',\n",
    "                '4.00','5.00', 'INC', 'DRP']"
   ]
  },
  {
   "cell_type": "markdown",
   "metadata": {},
   "source": [
    "CONVERT \"NULL\" STRINGS INTO ACTUAL NULL"
   ]
  },
  {
   "cell_type": "code",
   "execution_count": 21,
   "metadata": {},
   "outputs": [],
   "source": [
    "from pyspark.sql.functions import when\n",
    "\n",
    "df = df.withColumn(\"campus\", when(col(\"campus\") == \"NULL\", None).otherwise(col(\"campus\")))\n"
   ]
  },
  {
   "cell_type": "code",
   "execution_count": 22,
   "metadata": {},
   "outputs": [
    {
     "name": "stdout",
     "output_type": "stream",
     "text": [
      "+-----------+------------+----------+\n",
      "|grade_final|grade_reexam|occurences|\n",
      "+-----------+------------+----------+\n",
      "|       1.50|           -|    452457|\n",
      "|       1.25|           -|    317624|\n",
      "|       2.00|           -|    289284|\n",
      "|       1.75|           -|    259850|\n",
      "|       2.50|           -|    177260|\n",
      "|       2.25|           -|    160236|\n",
      "|       3.00|           -|    118116|\n",
      "|       2.75|           -|     90523|\n",
      "|       1.00|           -|     63412|\n",
      "|       5.00|           -|     15352|\n",
      "|        DRP|           -|      2902|\n",
      "|        INC|           -|      1867|\n",
      "|       1.25|          --|        62|\n",
      "|       1.50|          --|        37|\n",
      "|       2.50|        NULL|        22|\n",
      "|       3.00|        NULL|        18|\n",
      "|          -|           -|        15|\n",
      "|       1.75|          --|        15|\n",
      "|       2.75|        NULL|        14|\n",
      "|         --|          --|        13|\n",
      "|        INC|          --|        12|\n",
      "|       1.00|          --|        12|\n",
      "|       2.00|        NULL|        11|\n",
      "|       2.75|          --|         9|\n",
      "|       3.00|          --|         9|\n",
      "|       2.25|        NULL|         9|\n",
      "|       2.00|          --|         7|\n",
      "|       2.50|          --|         7|\n",
      "|       5.00|          --|         7|\n",
      "|       1.50|        NULL|         6|\n",
      "|       1.75|        NULL|         5|\n",
      "|        DRP|          --|         5|\n",
      "|        INC|        NULL|         3|\n",
      "|       2.25|          --|         3|\n",
      "|       1.25|        NULL|         1|\n",
      "+-----------+------------+----------+\n",
      "\n"
     ]
    }
   ],
   "source": [
    "df.createOrReplaceTempView('raw_student_grades')\n",
    "show_data = spark.sql(\"\"\"SELECT grade_final, grade_reexam, COUNT(*) AS occurences \n",
    "                         FROM raw_student_grades \n",
    "                         WHERE grade_reexam = '-' OR grade_reexam = '--' OR grade_reexam = 'NULL' OR grade_reexam IS NULL\n",
    "                         GROUP BY grade_final, grade_reexam \n",
    "                         ORDER BY occurences DESC\"\"\")\n",
    "show_data.show(50)"
   ]
  },
  {
   "cell_type": "markdown",
   "metadata": {},
   "source": [
    "ONLY ALLOW NUMERICAL STRINGS IN GRADE_REEXAM COLUMN"
   ]
  },
  {
   "cell_type": "code",
   "execution_count": 23,
   "metadata": {},
   "outputs": [],
   "source": [
    "df = df.withColumn(\n",
    "    \"grade_reexam\", when(col(\"grade_reexam\").rlike(\"^[0-9]*\\.?[0-9]+$\"), col(\"grade_reexam\")).otherwise(None)\n",
    ")"
   ]
  },
  {
   "cell_type": "code",
   "execution_count": 24,
   "metadata": {},
   "outputs": [
    {
     "name": "stdout",
     "output_type": "stream",
     "text": [
      "+-----------+------------+----------+\n",
      "|grade_final|grade_reexam|occurences|\n",
      "+-----------+------------+----------+\n",
      "|        INC|        3.00|     35140|\n",
      "|        INC|        5.00|     16175|\n",
      "|        DRP|        NULL|      2907|\n",
      "|        INC|        NULL|      1882|\n",
      "|        INC|        2.50|      1469|\n",
      "|        INC|        2.75|      1437|\n",
      "|        INC|        2.00|      1294|\n",
      "|        INC|        2.25|       904|\n",
      "|        INC|        1.75|       893|\n",
      "|        INC|        1.50|       847|\n",
      "|        INC|        1.25|       310|\n",
      "|        INC|        1.00|        51|\n",
      "+-----------+------------+----------+\n",
      "\n"
     ]
    }
   ],
   "source": [
    "df.createOrReplaceTempView('raw_student_grades')\n",
    "show_data = spark.sql(\"\"\"SELECT grade_final, grade_reexam, COUNT(*) AS occurences \n",
    "                         FROM raw_student_grades \n",
    "                         WHERE grade_final = 'INC' OR grade_final = 'DRP' \n",
    "                         GROUP BY grade_final, grade_reexam \n",
    "                         ORDER BY occurences DESC\"\"\")\n",
    "show_data.show(22)"
   ]
  },
  {
   "cell_type": "code",
   "execution_count": 25,
   "metadata": {},
   "outputs": [
    {
     "name": "stdout",
     "output_type": "stream",
     "text": [
      "+-----------+------------+----------+\n",
      "|grade_final|grade_reexam|occurences|\n",
      "+-----------+------------+----------+\n",
      "|       1.50|        NULL|    452501|\n",
      "|       1.25|        NULL|    317687|\n",
      "|       2.00|        NULL|    289303|\n",
      "|       1.75|        NULL|    259871|\n",
      "|       2.50|        NULL|    177289|\n",
      "|       2.25|        NULL|    160248|\n",
      "|       3.00|        NULL|    118143|\n",
      "|       2.75|        NULL|     90547|\n",
      "|       1.00|        NULL|     63424|\n",
      "|        INC|        3.00|     35140|\n",
      "|        INC|        5.00|     16175|\n",
      "|       5.00|        NULL|     15360|\n",
      "|        DRP|        NULL|      2907|\n",
      "|        INC|        NULL|      1882|\n",
      "|        INC|        2.50|      1469|\n",
      "|        INC|        2.75|      1437|\n",
      "|        INC|        2.00|      1294|\n",
      "|        INC|        2.25|       904|\n",
      "|        INC|        1.75|       893|\n",
      "|        INC|        1.50|       847|\n",
      "|        INC|        1.25|       310|\n",
      "|       4.00|        3.00|       117|\n",
      "+-----------+------------+----------+\n",
      "only showing top 22 rows\n",
      "\n"
     ]
    }
   ],
   "source": [
    "df.createOrReplaceTempView('raw_student_grades')\n",
    "show_data = spark.sql(\"\"\"SELECT grade_final, grade_reexam, COUNT(*) AS occurences \n",
    "                         FROM raw_student_grades\n",
    "                         GROUP BY grade_final, grade_reexam \n",
    "                         ORDER BY occurences DESC\"\"\")\n",
    "show_data.show(22)"
   ]
  },
  {
   "cell_type": "code",
   "execution_count": 26,
   "metadata": {},
   "outputs": [
    {
     "name": "stdout",
     "output_type": "stream",
     "text": [
      "+----------+----------+\n",
      "|schoolyear|occurences|\n",
      "+----------+----------+\n",
      "+----------+----------+\n",
      "\n"
     ]
    }
   ],
   "source": [
    "df.createOrReplaceTempView('raw_student_grades')\n",
    "show_data = spark.sql(\"\"\"SELECT schoolyear, COUNT(*) AS occurences \n",
    "                         FROM raw_student_grades \n",
    "                         WHERE schoolyear = '2023-2024_x' \n",
    "                         GROUP BY schoolyear\n",
    "                         ORDER BY occurences DESC\"\"\")\n",
    "show_data.show(22)"
   ]
  },
  {
   "cell_type": "code",
   "execution_count": 27,
   "metadata": {},
   "outputs": [
    {
     "name": "stdout",
     "output_type": "stream",
     "text": [
      "+---------+----------+\n",
      "|   campus|occurences|\n",
      "+---------+----------+\n",
      "|ALANGILAN|    745300|\n",
      "|       PB|    530649|\n",
      "|  NASUGBU|    239742|\n",
      "|   MALVAR|    189020|\n",
      "|     LIPA|    155627|\n",
      "|  ROSARIO|     41678|\n",
      "|   LEMERY|     36747|\n",
      "|  BALAYAN|     27566|\n",
      "| SAN JUAN|     16036|\n",
      "|     LOBO|     12597|\n",
      "|     NULL|      8162|\n",
      "|   MABINI|      4735|\n",
      "+---------+----------+\n",
      "\n"
     ]
    }
   ],
   "source": [
    "df.createOrReplaceTempView('raw_student_grades')\n",
    "show_data = spark.sql(\"\"\"SELECT campus, COUNT(*) AS occurences \n",
    "                         FROM raw_student_grades \n",
    "                         GROUP BY campus\n",
    "                         ORDER BY occurences DESC\"\"\")\n",
    "\n",
    "show_data.show()"
   ]
  },
  {
   "cell_type": "code",
   "execution_count": 28,
   "metadata": {},
   "outputs": [],
   "source": [
    "filtered_df = df.withColumn(\"credits\",df.credits.cast('int'))\\\n",
    "    .withColumn(\"grade_numeric\", df.grade_numeric.cast('double'))"
   ]
  },
  {
   "cell_type": "code",
   "execution_count": 29,
   "metadata": {},
   "outputs": [
    {
     "name": "stdout",
     "output_type": "stream",
     "text": [
      "root\n",
      " |-- id: integer (nullable = true)\n",
      " |-- schoolyear: string (nullable = true)\n",
      " |-- semester: string (nullable = true)\n",
      " |-- code: string (nullable = true)\n",
      " |-- description: string (nullable = true)\n",
      " |-- credits: integer (nullable = true)\n",
      " |-- instructor_id: string (nullable = true)\n",
      " |-- instructor: string (nullable = true)\n",
      " |-- srcode: string (nullable = true)\n",
      " |-- fullname: string (nullable = true)\n",
      " |-- campus: string (nullable = true)\n",
      " |-- college: string (nullable = true)\n",
      " |-- program: string (nullable = true)\n",
      " |-- grade_final: string (nullable = true)\n",
      " |-- grade_reexam: string (nullable = true)\n",
      " |-- status: string (nullable = true)\n",
      " |-- grade_numeric: double (nullable = true)\n",
      " |-- grade_classification: integer (nullable = false)\n",
      "\n"
     ]
    }
   ],
   "source": [
    "filtered_df.printSchema()"
   ]
  }
 ],
 "metadata": {
  "kernelspec": {
   "display_name": "Python 3",
   "language": "python",
   "name": "python3"
  },
  "language_info": {
   "codemirror_mode": {
    "name": "ipython",
    "version": 3
   },
   "file_extension": ".py",
   "mimetype": "text/x-python",
   "name": "python",
   "nbconvert_exporter": "python",
   "pygments_lexer": "ipython3",
   "version": "3.11.5"
  }
 },
 "nbformat": 4,
 "nbformat_minor": 2
}
