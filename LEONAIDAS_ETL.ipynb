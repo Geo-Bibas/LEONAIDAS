{
 "cells": [
  {
   "cell_type": "markdown",
   "metadata": {},
   "source": [
    "EXTRACT DATA\n"
   ]
  },
  {
   "cell_type": "code",
   "execution_count": 1,
   "metadata": {},
   "outputs": [],
   "source": [
    "from pyspark.sql import SparkSession\n",
    "\n",
    "jdbc_url = \"jdbc:postgresql://192.168.20.11:5432/demo_db\"\n",
    "properties = {\n",
    "    \"user\": \"postgres\", \n",
    "    \"password\": \"postgres\",  \n",
    "    \"driver\": \"org.postgresql.Driver\",\n",
    "    \"fetchsize\": \"10000\"\n",
    "}\n",
    "postgres_driver_path = \"C:/Users/denve/Downloads/postgresql-42.7.5.jar\"\n",
    "\n",
    "def extract(jdbc_url, table_name, properties, postgres_driver_path):\n",
    "    \"\"\" Extract data from PostgreSQL database using Spark.\"\"\"\n",
    "    # Initialize Spark session\n",
    "    spark = SparkSession.builder \\\n",
    "        .appName(\"Postgres Connection\") \\\n",
    "        .config(\"spark.jars\", postgres_driver_path) \\\n",
    "        .config(\"spark.driver.memory\", \"8g\") \\\n",
    "        .config(\"spark.executor.memory\", \"8g\") \\\n",
    "        .config(\"spark.executor.memoryOverhead\", \"2g\") \\\n",
    "        .config(\"spark.driver.memoryOverhead\", \"2g\") \\\n",
    "        .getOrCreate()\n",
    "\n",
    "    # Extracts data from PostgreSQL database\n",
    "    df = spark.read.jdbc(\n",
    "        url=jdbc_url,\n",
    "        table=table_name,\n",
    "        properties=properties,\n",
    "    )\n",
    "    \n",
    "    return df, spark"
   ]
  },
  {
   "cell_type": "code",
   "execution_count": null,
   "metadata": {},
   "outputs": [],
   "source": [
    "# Extract data once\n",
    "raw_df, spark = extract(jdbc_url, \"raw_student_grades\", properties, postgres_driver_path)\n"
   ]
  },
  {
   "cell_type": "markdown",
   "metadata": {},
   "source": [
    "CHECK FOR SPECIAL CHARACTERS AND CATEGORICAL DATA IN grade_final COLUMN"
   ]
  },
  {
   "cell_type": "code",
   "execution_count": 5,
   "metadata": {},
   "outputs": [
    {
     "ename": "NameError",
     "evalue": "name 'raw_df' is not defined",
     "output_type": "error",
     "traceback": [
      "\u001b[1;31m---------------------------------------------------------------------------\u001b[0m",
      "\u001b[1;31mNameError\u001b[0m                                 Traceback (most recent call last)",
      "Cell \u001b[1;32mIn[5], line 1\u001b[0m\n\u001b[1;32m----> 1\u001b[0m \u001b[43mraw_df\u001b[49m\u001b[38;5;241m.\u001b[39mcreateOrReplaceTempView(\u001b[38;5;124m'\u001b[39m\u001b[38;5;124mraw_student_grades\u001b[39m\u001b[38;5;124m'\u001b[39m)\n\u001b[0;32m      2\u001b[0m show_data \u001b[38;5;241m=\u001b[39m spark\u001b[38;5;241m.\u001b[39msql(\u001b[38;5;124m'\u001b[39m\u001b[38;5;124mSELECT grade_final, COUNT(*) AS occurences FROM raw_student_grades GROUP BY grade_final ORDER BY grade_final DESC\u001b[39m\u001b[38;5;124m'\u001b[39m)\n\u001b[0;32m      3\u001b[0m show_data\u001b[38;5;241m.\u001b[39mshow(\u001b[38;5;241m22\u001b[39m)\n",
      "\u001b[1;31mNameError\u001b[0m: name 'raw_df' is not defined"
     ]
    }
   ],
   "source": [
    "raw_df.createOrReplaceTempView('raw_student_grades')\n",
    "show_data = spark.sql('SELECT grade_final, COUNT(*) AS occurences FROM raw_student_grades GROUP BY grade_final ORDER BY grade_final DESC')\n",
    "show_data.show(22)"
   ]
  },
  {
   "cell_type": "markdown",
   "metadata": {},
   "source": [
    "REMOVE WHITE SPACES"
   ]
  },
  {
   "cell_type": "code",
   "execution_count": 459,
   "metadata": {},
   "outputs": [],
   "source": [
    "from pyspark.sql.functions import trim\n",
    "\n",
    "raw_df = raw_df.withColumn('grade_final', trim('grade_final'))\\\n",
    ".withColumn('grade_reexam', trim('grade_reexam'))\n"
   ]
  },
  {
   "cell_type": "code",
   "execution_count": 460,
   "metadata": {},
   "outputs": [
    {
     "name": "stdout",
     "output_type": "stream",
     "text": [
      "+-----------+----------+\n",
      "|grade_final|occurences|\n",
      "+-----------+----------+\n",
      "|        inc|         1|\n",
      "|     Passed|       255|\n",
      "|          P|        27|\n",
      "|         OG|      1581|\n",
      "|        INC|     60401|\n",
      "|          F|         1|\n",
      "|        DRP|      2907|\n",
      "|       5.00|     15360|\n",
      "|       4.00|       142|\n",
      "|       3.50|         1|\n",
      "|       3.00|    118143|\n",
      "|       2.75|     90548|\n",
      "|       2.50|    177290|\n",
      "|       2.25|    160248|\n",
      "|       2.00|    289306|\n",
      "|       1.75|    259871|\n",
      "|       1.50|    452504|\n",
      "|       1.25|    317692|\n",
      "|       1.00|     63427|\n",
      "|         --|        14|\n",
      "|          -|        21|\n",
      "+-----------+----------+\n",
      "\n"
     ]
    }
   ],
   "source": [
    "raw_df.createOrReplaceTempView('raw_student_grades')\n",
    "\n",
    "show_data = spark.sql(\"SELECT grade_final, COUNT(*) AS occurences FROM raw_student_grades GROUP BY grade_final ORDER BY grade_final DESC\")\n",
    "show_data.show(22)"
   ]
  },
  {
   "cell_type": "code",
   "execution_count": 461,
   "metadata": {},
   "outputs": [
    {
     "name": "stdout",
     "output_type": "stream",
     "text": [
      "+-----------+------------+----------+\n",
      "|grade_final|grade_reexam|occurences|\n",
      "+-----------+------------+----------+\n",
      "|         --|          --|        14|\n",
      "+-----------+------------+----------+\n",
      "\n"
     ]
    }
   ],
   "source": [
    "show_data = spark.sql(\"SELECT grade_final, grade_reexam, COUNT(*) AS occurences FROM raw_student_grades WHERE grade_final = '--' GROUP BY grade_final, grade_reexam ORDER BY occurences\")\n",
    "\n",
    "show_data.show()"
   ]
  },
  {
   "cell_type": "code",
   "execution_count": 462,
   "metadata": {},
   "outputs": [
    {
     "name": "stdout",
     "output_type": "stream",
     "text": [
      "+-----------+------------+----------+\n",
      "|grade_final|grade_reexam|occurences|\n",
      "+-----------+------------+----------+\n",
      "|          -|        1.00|         1|\n",
      "|          -|        1.50|         1|\n",
      "|          -|        1.25|         1|\n",
      "|          -|        2.00|         1|\n",
      "|          -|           -|        17|\n",
      "+-----------+------------+----------+\n",
      "\n"
     ]
    }
   ],
   "source": [
    "show_data = spark.sql(\"SELECT grade_final, grade_reexam, COUNT(*) AS occurences FROM raw_student_grades WHERE grade_final = '-' GROUP BY grade_final, grade_reexam ORDER BY occurences\")\n",
    "\n",
    "show_data.show()"
   ]
  },
  {
   "cell_type": "markdown",
   "metadata": {},
   "source": [
    "ASSIGN NUMERIC VALUES TO THE CATEGORICAL DATA (DRP = 0, INC = -1, OG = -2, P = -3, Passed = -4, F = -5)"
   ]
  },
  {
   "cell_type": "code",
   "execution_count": 463,
   "metadata": {},
   "outputs": [],
   "source": [
    "from pyspark.sql.functions import when, col, upper\n",
    "\n",
    "# Convert grades based on conditions and retain numeric values\n",
    "raw_df = raw_df.withColumn(\n",
    "    'new_grade_final',\n",
    "    when(upper(col('grade_final')) == \"DRP\", 0)\n",
    "    .when(upper(col('grade_final')) == \"INC\", -1)\n",
    "    .when(upper(col('grade_final')) == \"OG\", -2)\n",
    "    .when(upper(col('grade_final')) == \"P\", -3)\n",
    "    .when(upper(col('grade_final')) == \"PASSED\", -4)\n",
    "    .when(upper(col('grade_final')) == \"F\", -5)\n",
    "    .otherwise(col('grade_final'))\n",
    ")"
   ]
  },
  {
   "cell_type": "code",
   "execution_count": 464,
   "metadata": {},
   "outputs": [
    {
     "name": "stdout",
     "output_type": "stream",
     "text": [
      "+---------------+----------+\n",
      "|new_grade_final|occurences|\n",
      "+---------------+----------+\n",
      "|           1.50|    452504|\n",
      "|           1.25|    317692|\n",
      "|           2.00|    289306|\n",
      "|           1.75|    259871|\n",
      "|           2.50|    177290|\n",
      "|           2.25|    160248|\n",
      "|           3.00|    118143|\n",
      "|           2.75|     90548|\n",
      "|           1.00|     63427|\n",
      "|             -1|     60402|\n",
      "|           5.00|     15360|\n",
      "|              0|      2907|\n",
      "|             -2|      1581|\n",
      "|             -4|       255|\n",
      "|           4.00|       142|\n",
      "|             -3|        27|\n",
      "|              -|        21|\n",
      "|             --|        14|\n",
      "|           3.50|         1|\n",
      "|             -5|         1|\n",
      "+---------------+----------+\n",
      "\n"
     ]
    }
   ],
   "source": [
    "raw_df.createOrReplaceTempView('raw_student_grades')\n",
    "show_data = spark.sql(\"SELECT new_grade_final, COUNT(*) AS occurences FROM raw_student_grades GROUP BY new_grade_final ORDER BY occurences DESC\")\n",
    "show_data.show()"
   ]
  },
  {
   "cell_type": "code",
   "execution_count": 465,
   "metadata": {},
   "outputs": [
    {
     "name": "stdout",
     "output_type": "stream",
     "text": [
      "+---------------+------------+------+----------+\n",
      "|new_grade_final|grade_reexam|status|occurences|\n",
      "+---------------+------------+------+----------+\n",
      "|              -|        1.25|PASSED|         1|\n",
      "|              -|        2.00|PASSED|         1|\n",
      "|              -|        1.50|PASSED|         1|\n",
      "|              -|        1.00|PASSED|         1|\n",
      "|              -|           -|FAILED|        17|\n",
      "+---------------+------------+------+----------+\n",
      "\n"
     ]
    }
   ],
   "source": [
    "show_data = spark.sql(\"SELECT new_grade_final, grade_reexam, status, COUNT(*) AS occurences FROM raw_student_grades WHERE grade_final = '-' GROUP BY new_grade_final, grade_reexam, status ORDER BY occurences ASC\")\n",
    "show_data.show()"
   ]
  },
  {
   "cell_type": "code",
   "execution_count": 466,
   "metadata": {},
   "outputs": [
    {
     "name": "stdout",
     "output_type": "stream",
     "text": [
      "+---------------+------------+----------+\n",
      "|new_grade_final|grade_reexam|occurences|\n",
      "+---------------+------------+----------+\n",
      "|             --|          --|        14|\n",
      "+---------------+------------+----------+\n",
      "\n"
     ]
    }
   ],
   "source": [
    "show_data = spark.sql(\"SELECT new_grade_final, grade_reexam, COUNT(*) AS occurences FROM raw_student_grades WHERE new_grade_final = '--' OR new_grade_final = ' -- ' GROUP BY new_grade_final, grade_reexam ORDER BY occurences ASC\")\n",
    "show_data.show()"
   ]
  },
  {
   "cell_type": "markdown",
   "metadata": {},
   "source": [
    "FILTER OUT THE CHARACTERS SUCH AS \"-\", \"--\""
   ]
  },
  {
   "cell_type": "code",
   "execution_count": 468,
   "metadata": {},
   "outputs": [],
   "source": [
    "raw_df = raw_df.filter(~((col('new_grade_final') == \"-\") & (col('grade_reexam') == '-')))\\\n",
    ".filter(~((col('new_grade_final') == \"--\") & (col('grade_reexam') == '--')))\n"
   ]
  },
  {
   "cell_type": "code",
   "execution_count": 469,
   "metadata": {},
   "outputs": [
    {
     "name": "stdout",
     "output_type": "stream",
     "text": [
      "+---------------+----------+\n",
      "|new_grade_final|occurences|\n",
      "+---------------+----------+\n",
      "|           1.50|    452504|\n",
      "|           1.25|    317692|\n",
      "|           2.00|    289306|\n",
      "|           1.75|    259871|\n",
      "|           2.50|    177290|\n",
      "|           2.25|    160248|\n",
      "|           3.00|    118143|\n",
      "|           2.75|     90548|\n",
      "|           1.00|     63427|\n",
      "|             -1|     60402|\n",
      "|           5.00|     15360|\n",
      "|              0|      2907|\n",
      "|             -2|      1581|\n",
      "|             -4|       255|\n",
      "|           4.00|       142|\n",
      "|             -3|        27|\n",
      "|              -|         4|\n",
      "|           3.50|         1|\n",
      "|             -5|         1|\n",
      "+---------------+----------+\n",
      "\n"
     ]
    }
   ],
   "source": [
    "raw_df.createOrReplaceTempView('raw_student_grades')\n",
    "\n",
    "show_data = spark.sql(\"SELECT new_grade_final, COUNT(*) AS occurences FROM raw_student_grades GROUP BY new_grade_final ORDER BY occurences DESC\")\n",
    "show_data.show()"
   ]
  },
  {
   "cell_type": "code",
   "execution_count": 470,
   "metadata": {},
   "outputs": [
    {
     "name": "stdout",
     "output_type": "stream",
     "text": [
      "+---------------+------------+------+----------+\n",
      "|new_grade_final|grade_reexam|status|occurences|\n",
      "+---------------+------------+------+----------+\n",
      "|              -|        1.25|PASSED|         1|\n",
      "|              -|        2.00|PASSED|         1|\n",
      "|              -|        1.50|PASSED|         1|\n",
      "|              -|        1.00|PASSED|         1|\n",
      "+---------------+------------+------+----------+\n",
      "\n"
     ]
    }
   ],
   "source": [
    "show_data = spark.sql(\"SELECT new_grade_final, grade_reexam, status, COUNT(*) AS occurences FROM raw_student_grades WHERE grade_final = '-' GROUP BY new_grade_final, grade_reexam, status ORDER BY occurences ASC\")\n",
    "show_data.show()"
   ]
  },
  {
   "cell_type": "code",
   "execution_count": 471,
   "metadata": {},
   "outputs": [],
   "source": [
    "raw_df = raw_df.withColumn(\n",
    "    'new_grade_final',\n",
    "    when(upper(col('grade_final')) == \"-\", -1)\n",
    "    .otherwise(col('new_grade_final'))\n",
    ")"
   ]
  },
  {
   "cell_type": "code",
   "execution_count": 474,
   "metadata": {},
   "outputs": [
    {
     "name": "stdout",
     "output_type": "stream",
     "text": [
      "+---------------+-----------+\n",
      "|new_grade_final|occurrences|\n",
      "+---------------+-----------+\n",
      "|           1.50|     452504|\n",
      "|           1.25|     317692|\n",
      "|           2.00|     289306|\n",
      "|           1.75|     259871|\n",
      "|           2.50|     177290|\n",
      "|           2.25|     160248|\n",
      "|           3.00|     118143|\n",
      "|           2.75|      90548|\n",
      "|           1.00|      63427|\n",
      "|             -1|      60406|\n",
      "|           5.00|      15360|\n",
      "|              0|       2907|\n",
      "|             -2|       1581|\n",
      "|             -4|        255|\n",
      "|           4.00|        142|\n",
      "|             -3|         27|\n",
      "|           3.50|          1|\n",
      "|             -5|          1|\n",
      "+---------------+-----------+\n",
      "\n"
     ]
    }
   ],
   "source": [
    "raw_df.createOrReplaceTempView('raw_student_grades')\n",
    "\n",
    "show_data = spark.sql(\"\"\"\n",
    "    SELECT new_grade_final, COUNT(*) AS occurrences \n",
    "    FROM raw_student_grades \n",
    "    GROUP BY new_grade_final \n",
    "    ORDER BY occurrences DESC\n",
    "\"\"\")\n",
    "show_data.show()\n"
   ]
  },
  {
   "cell_type": "markdown",
   "metadata": {},
   "source": [
    "CAST THE new_grade_final FROM STRING INTO DOUBLE (FLOAT)"
   ]
  },
  {
   "cell_type": "code",
   "execution_count": 477,
   "metadata": {},
   "outputs": [],
   "source": [
    "raw_df = raw_df.withColumn(\"new_grade_final\", col(\"new_grade_final\").cast(\"double\"))"
   ]
  },
  {
   "cell_type": "code",
   "execution_count": 478,
   "metadata": {},
   "outputs": [
    {
     "name": "stdout",
     "output_type": "stream",
     "text": [
      "root\n",
      " |-- id: integer (nullable = true)\n",
      " |-- schoolyear: string (nullable = true)\n",
      " |-- semester: string (nullable = true)\n",
      " |-- code: string (nullable = true)\n",
      " |-- description: string (nullable = true)\n",
      " |-- credits: integer (nullable = true)\n",
      " |-- instructor_id: integer (nullable = true)\n",
      " |-- instructor: string (nullable = true)\n",
      " |-- srcode: integer (nullable = true)\n",
      " |-- fullname: string (nullable = true)\n",
      " |-- campus: string (nullable = true)\n",
      " |-- college: string (nullable = true)\n",
      " |-- program: string (nullable = true)\n",
      " |-- grade_final: string (nullable = true)\n",
      " |-- grade_reexam: string (nullable = true)\n",
      " |-- status: string (nullable = true)\n",
      " |-- new_grade_final: double (nullable = true)\n",
      "\n"
     ]
    }
   ],
   "source": [
    "raw_df.printSchema()"
   ]
  },
  {
   "cell_type": "code",
   "execution_count": 1,
   "metadata": {},
   "outputs": [
    {
     "ename": "NameError",
     "evalue": "name 'raw_df' is not defined",
     "output_type": "error",
     "traceback": [
      "\u001b[1;31m---------------------------------------------------------------------------\u001b[0m",
      "\u001b[1;31mNameError\u001b[0m                                 Traceback (most recent call last)",
      "Cell \u001b[1;32mIn[1], line 1\u001b[0m\n\u001b[1;32m----> 1\u001b[0m \u001b[43mraw_df\u001b[49m\u001b[38;5;241m.\u001b[39mshow()\n",
      "\u001b[1;31mNameError\u001b[0m: name 'raw_df' is not defined"
     ]
    }
   ],
   "source": [
    "raw_df.show()"
   ]
  }
 ],
 "metadata": {
  "kernelspec": {
   "display_name": "Python 3",
   "language": "python",
   "name": "python3"
  },
  "language_info": {
   "codemirror_mode": {
    "name": "ipython",
    "version": 3
   },
   "file_extension": ".py",
   "mimetype": "text/x-python",
   "name": "python",
   "nbconvert_exporter": "python",
   "pygments_lexer": "ipython3",
   "version": "3.11.5"
  }
 },
 "nbformat": 4,
 "nbformat_minor": 2
}
