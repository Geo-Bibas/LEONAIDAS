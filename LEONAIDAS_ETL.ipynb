{
 "cells": [
  {
   "cell_type": "markdown",
   "metadata": {},
   "source": [
    "- FILTER SEMESTER (FIRST, SECOND, SUMMER, SUMMER2)\n",
    "- grade_final should only have numerical values such as (1.00 -5.00 excluding 3.50), INC, and DRP.\n",
    "- create new column, numerical_grade (Ilipat ang grade_reexam to grade_finals if INC). "
   ]
  },
  {
   "cell_type": "markdown",
   "metadata": {},
   "source": [
    "COLUMNS TO BE CLEANED:\n",
    "- grade_reexam\n",
    "- grade_finals\n",
    "\n",
    "CLEANED / FILTERED\n",
    "- semester \n",
    "- schoolyear (with _x)\n",
    "- drop schoolyear without - EXAMPLE (\"2004\")"
   ]
  },
  {
   "cell_type": "markdown",
   "metadata": {},
   "source": [
    "EXTRACT DATA"
   ]
  },
  {
   "cell_type": "code",
   "execution_count": null,
   "metadata": {},
   "outputs": [],
   "source": [
    "from pyspark.sql import SparkSession\n",
    "\n",
    "jdbc_url = \"jdbc:postgresql://192.168.20.11:5432/demo_db\"\n",
    "properties = {\n",
    "    \"user\": \"postgres\", \n",
    "    \"password\": \"postgres\",  \n",
    "    \"driver\": \"org.postgresql.Driver\",\n",
    "    \"fetchsize\": \"10000\"\n",
    "}\n",
    "postgres_driver_path = \"C:\\postgresql-42.7.5.jar\"\n",
    "\n",
    "\n",
    "\n",
    "def extract(jdbc_url, table_name, properties, postgres_driver_path):\n",
    "    \"\"\" Extract data from PostgreSQL database using Spark.\"\"\"\n",
    "    # Initialize Spark session\n",
    "    spark = SparkSession.builder \\\n",
    "        .appName(\"Postgres Connection\") \\\n",
    "        .config(\"spark.jars\", postgres_driver_path) \\\n",
    "        .config(\"spark.driver.memory\", \"8g\") \\\n",
    "        .config(\"spark.executor.memory\", \"8g\") \\\n",
    "        .config(\"spark.executor.memoryOverhead\", \"2g\") \\\n",
    "        .config(\"spark.driver.memoryOverhead\", \"2g\") \\\n",
    "        .getOrCreate()\n",
    "\n",
    "    # Extracts data from PostgreSQL database\n",
    "    df = spark.read.jdbc(\n",
    "        url=jdbc_url,\n",
    "        table=table_name,\n",
    "        properties=properties,\n",
    "    )\n",
    "    \n",
    "    return df, spark"
   ]
  },
  {
   "cell_type": "code",
   "execution_count": 4,
   "metadata": {},
   "outputs": [
    {
     "name": "stdout",
     "output_type": "stream",
     "text": [
      "Number of rows: 2009740\n",
      "root\n",
      " |-- id: integer (nullable = true)\n",
      " |-- schoolyear: string (nullable = true)\n",
      " |-- semester: string (nullable = true)\n",
      " |-- code: string (nullable = true)\n",
      " |-- description: string (nullable = true)\n",
      " |-- credits: integer (nullable = true)\n",
      " |-- instructor_id: string (nullable = true)\n",
      " |-- instructor: string (nullable = true)\n",
      " |-- srcode: string (nullable = true)\n",
      " |-- fullname: string (nullable = true)\n",
      " |-- campus: string (nullable = true)\n",
      " |-- college: string (nullable = true)\n",
      " |-- program: string (nullable = true)\n",
      " |-- grade_final: string (nullable = true)\n",
      " |-- grade_reexam: string (nullable = true)\n",
      " |-- status: string (nullable = true)\n",
      "\n"
     ]
    }
   ],
   "source": [
    "# Extract data once\n",
    "raw_df, spark = extract(jdbc_url, \"sample_data_ai_with_id\", properties, postgres_driver_path)\n",
    "\n",
    "# Check the number of rows\n",
    "row_count = raw_df.count()\n",
    "print(f'Number of rows: {row_count}')\n",
    "\n",
    "# Print schema\n",
    "raw_df.printSchema()"
   ]
  },
  {
   "cell_type": "code",
   "execution_count": 41,
   "metadata": {},
   "outputs": [
    {
     "name": "stdout",
     "output_type": "stream",
     "text": [
      "+-----+----------+--------+----------+--------------------+-------+-------------+--------------+------+------------------+---------+--------------------+--------------------+-----------+------------+------+\n",
      "|   id|schoolyear|semester|      code|         description|credits|instructor_id|    instructor|srcode|          fullname|   campus|             college|             program|grade_final|grade_reexam|status|\n",
      "+-----+----------+--------+----------+--------------------+-------+-------------+--------------+------+------------------+---------+--------------------+--------------------+-----------+------------+------+\n",
      "|41284| 2024-2025|   FIRST|  Litr 101|Sosyedad at Liter...|      3|         4885|LN4885, FN4885|167053|LN167053, FN167053|  NASUGBU|College of Crimin...|      BS Criminology|       2.50|           -|PASSED|\n",
      "|41285| 2024-2025|   FIRST|   CDI 101|Fundamentals of C...|      4|         4952|LN4952, FN4952|167053|LN167053, FN167053|  NASUGBU|College of Crimin...|      BS Criminology|       5.00|           -|FAILED|\n",
      "|41286| 2024-2025|   FIRST|   GEd 107|              Ethics|      3|         4584|LN4584, FN4584|167053|LN167053, FN167053|  NASUGBU|College of Crimin...|      BS Criminology|       2.75|           -|PASSED|\n",
      "|41287| 2024-2025|   FIRST|   GEd 105|Readings in Phili...|      3|         5493|LN5493, FN5493|157706|LN157706, FN157706|ALANGILAN|College of Engine...|BS Computer Engin...|       1.50|           -|PASSED|\n",
      "|41288| 2024-2025|   FIRST|   GEd 106|Purposive Communi...|      3|         4945|LN4945, FN4945|157706|LN157706, FN157706|ALANGILAN|College of Engine...|BS Computer Engin...|       1.50|           -|PASSED|\n",
      "|41289| 2024-2025|   FIRST|   GEd 102|Mathematics in th...|      3|         4978|LN4978, FN4978|157706|LN157706, FN157706|ALANGILAN|College of Engine...|BS Computer Engin...|       2.50|           -|PASSED|\n",
      "|41290| 2024-2025|   FIRST|   SCI 401|   General Chemistry|      4|         4202|LN4202, FN4202|157706|LN157706, FN157706|ALANGILAN|College of Engine...|BS Computer Engin...|       2.00|           -|PASSED|\n",
      "|41291| 2024-2025|   FIRST|  MATH 401|Differential Calc...|      3|         2809|LN2809, FN2809|157706|LN157706, FN157706|ALANGILAN|College of Engine...|BS Computer Engin...|       3.00|           -|PASSED|\n",
      "|41292| 2024-2025|   FIRST|NSTP 111CW|NSTP - Civic Welf...|      3|         2594|LN2594, FN2594|157706|LN157706, FN157706|ALANGILAN|College of Engine...|BS Computer Engin...|       1.25|           -|PASSED|\n",
      "|41293| 2024-2025|   FIRST| PATHFit 1|Movement Competen...|      2|         2453|LN2453, FN2453|157706|LN157706, FN157706|ALANGILAN|College of Engine...|BS Computer Engin...|       1.25|           -|PASSED|\n",
      "|41294| 2024-2025|   FIRST|  ENGG 401|Introduction to E...|      1|         1218|LN1218, FN1218|157706|LN157706, FN157706|ALANGILAN|College of Engine...|BS Computer Engin...|       1.75|           -|PASSED|\n",
      "|41295| 2024-2025|   FIRST| PATHFit 1|Movement Competen...|      2|          310|  LN310, FN310|164367|LN164367, FN164367|       PB|College of Arts a...|       BS Psychology|       1.50|           -|PASSED|\n",
      "|41296| 2024-2025|   FIRST|   GEd 108|    Art Appreciation|      3|         2435|LN2435, FN2435|164367|LN164367, FN164367|       PB|College of Arts a...|       BS Psychology|       1.75|           -|PASSED|\n",
      "|41297| 2024-2025|   FIRST|NSTP 111CW|NSTP - Civic Welf...|      3|         2639|LN2639, FN2639|164367|LN164367, FN164367|       PB|College of Arts a...|       BS Psychology|       1.00|           -|PASSED|\n",
      "|41298| 2024-2025|   FIRST|   PSY 301|Introduction to P...|      3|         2946|LN2946, FN2946|164367|LN164367, FN164367|       PB|College of Arts a...|       BS Psychology|       1.00|           -|PASSED|\n",
      "|41299| 2024-2025|   FIRST|   GEd 105|Readings in Phili...|      3|         4117|LN4117, FN4117|164367|LN164367, FN164367|       PB|College of Arts a...|       BS Psychology|       1.25|           -|PASSED|\n",
      "|41300| 2024-2025|   FIRST|  Fili 101|Kontekstwalisadon...|      3|         4100|LN4100, FN4100|164367|LN164367, FN164367|       PB|College of Arts a...|       BS Psychology|       1.00|           -|PASSED|\n",
      "|41301| 2024-2025|   FIRST|   GEd 101|Understanding the...|      3|         3707|LN3707, FN3707|164367|LN164367, FN164367|       PB|College of Arts a...|       BS Psychology|       1.00|           -|PASSED|\n",
      "|41302| 2024-2025|   FIRST|  Litr 101|Sosyedad at Liter...|      3|         4167|LN4167, FN4167|164367|LN164367, FN164367|       PB|College of Arts a...|       BS Psychology|       1.25|           -|PASSED|\n",
      "|41303| 2024-2025|   FIRST|  Litr 101|Sosyedad at Liter...|      3|         4208|LN4208, FN4208|161118|LN161118, FN161118|     LIPA|College of Arts a...|       BS Psychology|       2.25|           -|PASSED|\n",
      "+-----+----------+--------+----------+--------------------+-------+-------------+--------------+------+------------------+---------+--------------------+--------------------+-----------+------------+------+\n",
      "only showing top 20 rows\n",
      "\n"
     ]
    }
   ],
   "source": [
    "raw_df.show()"
   ]
  },
  {
   "cell_type": "code",
   "execution_count": 42,
   "metadata": {},
   "outputs": [
    {
     "name": "stdout",
     "output_type": "stream",
     "text": [
      "Total instances: 2009724\n"
     ]
    }
   ],
   "source": [
    "total_count = df.count()\n",
    "print(f\"Total instances: {total_count}\")"
   ]
  },
  {
   "cell_type": "code",
   "execution_count": 43,
   "metadata": {},
   "outputs": [],
   "source": [
    "from pyspark.sql.functions import col, upper\n",
    "\n",
    "# Uppercase all supposed to be uppercase data just to be sure\n",
    "df = raw_df.withColumn('grade_final', upper(col('grade_final')))\\\n",
    "                .withColumn('campus', upper(col('campus')))\\\n",
    "                .withColumn('semester', upper(col('semester')))\\\n",
    "                .withColumn('schoolyear', upper(col('schoolyear'))       \n",
    ")"
   ]
  },
  {
   "cell_type": "markdown",
   "metadata": {},
   "source": [
    "CHECK FOR TYPO ERROR AND UNWANTED VALUES UNDER semester COLUMN"
   ]
  },
  {
   "cell_type": "code",
   "execution_count": 44,
   "metadata": {},
   "outputs": [
    {
     "name": "stdout",
     "output_type": "stream",
     "text": [
      "+---------------+----------+\n",
      "|       semester|occurences|\n",
      "+---------------+----------+\n",
      "|          THURD|         1|\n",
      "|          THIRD|        10|\n",
      "|         SECOND|    770300|\n",
      "|           1.75|         1|\n",
      "|        SUMMER2|        43|\n",
      "|           1.25|         1|\n",
      "|SECOND SEMESTER|         1|\n",
      "|       SECOND_X|         4|\n",
      "|         SUMMER|     56200|\n",
      "|             --|         1|\n",
      "|          FIRST|   1183177|\n",
      "|THIRD TRIMESTER|         1|\n",
      "+---------------+----------+\n",
      "\n"
     ]
    }
   ],
   "source": [
    "df.createOrReplaceTempView('sample_data_ai_with_id')\n",
    "show_data = spark.sql(\"\"\"SELECT semester, COUNT(*) AS occurences \n",
    "                         FROM sample_data_ai_with_id \n",
    "                         GROUP BY semester\"\"\")\n",
    "show_data.show(22)"
   ]
  },
  {
   "cell_type": "markdown",
   "metadata": {},
   "source": [
    "FILTER TYPO ERRORS AND INSTANCES FOR SECOND SEMESTER, AND REMOVE ROWS WITH INVALID semester VALUES"
   ]
  },
  {
   "cell_type": "code",
   "execution_count": 45,
   "metadata": {},
   "outputs": [],
   "source": [
    "from pyspark.sql.functions import when\n",
    "\n",
    "valid_semesters = [\"FIRST\", \"SECOND\", \"SUMMER\", \"SUMMER2\"]\n",
    "df = df.withColumn(\n",
    "    \"semester\",\n",
    "    when(df[\"semester\"].isin(\"SECOND_X\", \"SECOND SEMESTER\"), \"SECOND\")\n",
    "    .when(df[\"semester\"].isin(valid_semesters), df[\"semester\"])\n",
    "    .otherwise(None)  # Assign None to invalid semesters so they can be filtered\n",
    ").filter(col(\"semester\").isNotNull())  # Remove rows where semester is None (invalid)"
   ]
  },
  {
   "cell_type": "code",
   "execution_count": 46,
   "metadata": {},
   "outputs": [
    {
     "name": "stdout",
     "output_type": "stream",
     "text": [
      "+--------+----------+\n",
      "|semester|occurences|\n",
      "+--------+----------+\n",
      "|  SECOND|    770305|\n",
      "| SUMMER2|        43|\n",
      "|  SUMMER|     56200|\n",
      "|   FIRST|   1183177|\n",
      "+--------+----------+\n",
      "\n"
     ]
    }
   ],
   "source": [
    "df.createOrReplaceTempView('sample_data_ai_with_id')\n",
    "show_data = spark.sql(\"\"\"SELECT semester, COUNT(*) AS occurences \n",
    "                         FROM sample_data_ai_with_id \n",
    "                         GROUP BY semester\"\"\")\n",
    "show_data.show()"
   ]
  },
  {
   "cell_type": "markdown",
   "metadata": {},
   "source": [
    "CHECK FOR SPECIAL CHARACTERS AND CATEGORICAL DATA IN grade_final COLUMN"
   ]
  },
  {
   "cell_type": "code",
   "execution_count": 47,
   "metadata": {},
   "outputs": [
    {
     "name": "stdout",
     "output_type": "stream",
     "text": [
      "+-----------+----------+\n",
      "|grade_final|occurences|\n",
      "+-----------+----------+\n",
      "|     PASSED|       255|\n",
      "|          P|        27|\n",
      "|         OG|      1581|\n",
      "|        INC|     60402|\n",
      "|          F|         1|\n",
      "|        DRP|      2907|\n",
      "|       5.00|     15360|\n",
      "|       4.00|       142|\n",
      "|       3.50|         1|\n",
      "|       3.00|    118143|\n",
      "|       2.75|     90548|\n",
      "|       2.50|    177289|\n",
      "|       2.25|    160248|\n",
      "|       2.00|    289305|\n",
      "|       1.75|    259871|\n",
      "|       1.50|    452501|\n",
      "|       1.25|    317688|\n",
      "|       1.00|     63424|\n",
      "|         --|         2|\n",
      "|          -|        19|\n",
      "|        -- |        11|\n",
      "+-----------+----------+\n",
      "\n"
     ]
    }
   ],
   "source": [
    "df.createOrReplaceTempView('sample_data_ai_with_id')\n",
    "show_data = spark.sql(\"\"\"SELECT grade_final, COUNT(*) AS occurences \n",
    "                         FROM sample_data_ai_with_id \n",
    "                         GROUP BY grade_final \n",
    "                         ORDER BY grade_final DESC\"\"\")\n",
    "show_data.show(22)"
   ]
  },
  {
   "cell_type": "markdown",
   "metadata": {},
   "source": [
    "REMOVE WHITE SPACES FROM ALL THE COLUMNS"
   ]
  },
  {
   "cell_type": "code",
   "execution_count": 48,
   "metadata": {},
   "outputs": [],
   "source": [
    "from pyspark.sql.functions import trim\n",
    "\n",
    "df = df.withColumn('schoolyear', trim('schoolyear'))\\\n",
    ".withColumn('semester', trim('semester'))\\\n",
    ".withColumn('code', trim('code'))\\\n",
    ".withColumn('description', trim('description'))\\\n",
    ".withColumn('credits', trim('credits'))\\\n",
    ".withColumn('instructor_id', trim('instructor_id'))\\\n",
    ".withColumn('instructor', trim('instructor'))\\\n",
    ".withColumn('srcode', trim('srcode'))\\\n",
    ".withColumn('fullname', trim('fullname'))\\\n",
    ".withColumn('campus', trim('campus'))\\\n",
    ".withColumn('college', trim('college'))\\\n",
    ".withColumn('program', trim('program'))\\\n",
    ".withColumn('grade_final', trim('grade_final'))\\\n",
    ".withColumn('grade_reexam', trim('grade_reexam'))\\\n",
    ".withColumn('status', trim('status'))\n",
    "\n"
   ]
  },
  {
   "cell_type": "code",
   "execution_count": 49,
   "metadata": {},
   "outputs": [
    {
     "name": "stdout",
     "output_type": "stream",
     "text": [
      "+-----+----------+--------+---------+--------------------+-------+-------------+--------------+------+------------------+---------+--------------------+--------------------+-----------+------------+------+\n",
      "|   id|schoolyear|semester|     code|         description|credits|instructor_id|    instructor|srcode|          fullname|   campus|             college|             program|grade_final|grade_reexam|status|\n",
      "+-----+----------+--------+---------+--------------------+-------+-------------+--------------+------+------------------+---------+--------------------+--------------------+-----------+------------+------+\n",
      "|51783| 2023-2024|  SECOND|  GEd 108|    Art Appreciation|      3|         1253|LN1253, FN1253|141906|LN141906, FN141906|ALANGILAN|College of Engine...|BS Mechanical Eng...|       1.50|           -|PASSED|\n",
      "|51784| 2023-2024|  SECOND| MATH 402|   Integral Calculus|      3|         3605|LN3605, FN3605|141906|LN141906, FN141906|ALANGILAN|College of Engine...|BS Mechanical Eng...|        INC|        3.00|PASSED|\n",
      "|51785| 2024-2025|   FIRST| Fili 101|Kontekstwalisadon...|      3|         4963|LN4963, FN4963|141906|LN141906, FN141906|ALANGILAN|College of Engine...|BS Mechanical Eng...|       1.25|           -|PASSED|\n",
      "|51786| 2024-2025|   FIRST| ENGG 407|Statics of Rigid ...|      3|         4869|LN4869, FN4869|141906|LN141906, FN141906|ALANGILAN|College of Engine...|BS Mechanical Eng...|       2.50|           -|PASSED|\n",
      "|51787| 2024-2025|   FIRST| MATH 403|Engineering Data ...|      3|         5017|LN5017, FN5017|141906|LN141906, FN141906|ALANGILAN|College of Engine...|BS Mechanical Eng...|       2.00|           -|PASSED|\n",
      "|51788| 2024-2025|   FIRST|   ME 402|    Thermodynamics 1|      3|         4440|LN4440, FN4440|141906|LN141906, FN141906|ALANGILAN|College of Engine...|BS Mechanical Eng...|        INC|        3.00|PASSED|\n",
      "|51789| 2024-2025|   FIRST|   ME 401|      ME Orientation|      1|         4455|LN4455, FN4455|141906|LN141906, FN141906|ALANGILAN|College of Engine...|BS Mechanical Eng...|       1.25|           -|PASSED|\n",
      "|51790| 2024-2025|   FIRST|   EE 419|Basic Electrical ...|      3|         2445|LN2445, FN2445|141906|LN141906, FN141906|ALANGILAN|College of Engine...|BS Mechanical Eng...|       2.75|           -|PASSED|\n",
      "|51791| 2024-2025|   FIRST|PATHFit 3|Traditional and R...|      2|         2453|LN2453, FN2453|141906|LN141906, FN141906|ALANGILAN|College of Engine...|BS Mechanical Eng...|       1.25|           -|PASSED|\n",
      "|51792| 2023-2024|   FIRST|   PA 205|Service Delivery ...|      3|         4217|LN4217, FN4217|131954|LN131954, FN131954|     LIPA|College of Accoun...|Bachelor of Publi...|       3.00|           -|PASSED|\n",
      "|51793| 2024-2025|   FIRST| Litr 102|    ASEAN Literature|      3|         4989|LN4989, FN4989|131954|LN131954, FN131954|     LIPA|College of Accoun...|Bachelor of Publi...|       2.50|           -|PASSED|\n",
      "|51794| 2024-2025|   FIRST|   PA 312|Office and System...|      3|         5005|LN5005, FN5005|131954|LN131954, FN131954|     LIPA|College of Accoun...|Bachelor of Publi...|       2.50|           -|PASSED|\n",
      "|51795| 2023-2024|   FIRST|  GEd 107|              Ethics|      3|         4647|LN4647, FN4647|131954|LN131954, FN131954|     LIPA|College of Accoun...|Bachelor of Publi...|       2.50|           -|PASSED|\n",
      "|51796| 2023-2024|   FIRST|  SOC 211|           Sociology|      3|         4580|LN4580, FN4580|131954|LN131954, FN131954|     LIPA|College of Accoun...|Bachelor of Publi...|       2.50|           -|PASSED|\n",
      "|51797| 2023-2024|   FIRST|  GEd 109|Science, Technolo...|      3|         4580|LN4580, FN4580|131954|LN131954, FN131954|     LIPA|College of Accoun...|Bachelor of Publi...|       2.25|           -|PASSED|\n",
      "|51798| 2023-2024|   FIRST|   PA 204|Knowledge Managem...|      3|         4629|LN4629, FN4629|131954|LN131954, FN131954|     LIPA|College of Accoun...|Bachelor of Publi...|       3.00|           -|PASSED|\n",
      "|51799| 2024-2025|   FIRST|   PA 311|Public Fiscal Adm...|      3|         4217|LN4217, FN4217|131954|LN131954, FN131954|     LIPA|College of Accoun...|Bachelor of Publi...|       3.00|           -|PASSED|\n",
      "|51800| 2023-2024|   FIRST|   PE 103|Individual and Du...|      2|         2441|LN2441, FN2441|131954|LN131954, FN131954|     LIPA|College of Accoun...|Bachelor of Publi...|       1.50|           -|PASSED|\n",
      "|51801| 2022-2023|   FIRST|  GEd 101|Understanding the...|      3|         4129|LN4129, FN4129|131954|LN131954, FN131954|     LIPA|College of Accoun...|Bachelor of Publi...|       2.50|           -|PASSED|\n",
      "|51802| 2022-2023|   FIRST|  GEd 106|Purposive Communi...|      3|         4134|LN4134, FN4134|131954|LN131954, FN131954|     LIPA|College of Accoun...|Bachelor of Publi...|       2.25|           -|PASSED|\n",
      "|51803| 2024-2025|   FIRST|   PA 314|Public Policy and...|      3|         4099|LN4099, FN4099|131954|LN131954, FN131954|     LIPA|College of Accoun...|Bachelor of Publi...|       2.50|           -|PASSED|\n",
      "|51804| 2022-2023|   FIRST|   PE 101|Physical Fitness,...|      2|         2441|LN2441, FN2441|131954|LN131954, FN131954|     LIPA|College of Accoun...|Bachelor of Publi...|       1.50|           -|PASSED|\n",
      "+-----+----------+--------+---------+--------------------+-------+-------------+--------------+------+------------------+---------+--------------------+--------------------+-----------+------------+------+\n",
      "only showing top 22 rows\n",
      "\n"
     ]
    }
   ],
   "source": [
    "df.createOrReplaceTempView('sample_data_ai_with_id')\n",
    "\n",
    "show_data = spark.sql(\"SELECT * FROM sample_data_ai_with_id\")\n",
    "show_data.show(22)"
   ]
  },
  {
   "cell_type": "code",
   "execution_count": 50,
   "metadata": {},
   "outputs": [
    {
     "name": "stdout",
     "output_type": "stream",
     "text": [
      "+-----------+----------+\n",
      "| schoolyear|occurences|\n",
      "+-----------+----------+\n",
      "|  2024-2025|    392358|\n",
      "|2023-2024_X|         4|\n",
      "|  2023-2024|    698500|\n",
      "|  2022-2023|    551385|\n",
      "|  2021-2022|    306076|\n",
      "|  2020-2021|     45721|\n",
      "|  2019-2022|         1|\n",
      "|  2019-2020|     10394|\n",
      "|  2018-2019|      2550|\n",
      "|  2017-2018|       759|\n",
      "|  2016-2017|       606|\n",
      "|  2015-2016|       681|\n",
      "|  2014-2015|       266|\n",
      "|  2013-2014|       103|\n",
      "|  2012-2013|        99|\n",
      "|  2011-2012|        56|\n",
      "|  2010-2011|        36|\n",
      "|  2009-2010|        21|\n",
      "|  2008-2009|        12|\n",
      "|  2007-2008|        17|\n",
      "|  2006-2007|         2|\n",
      "|  2005-2006|         3|\n",
      "|  2004-2005|        23|\n",
      "|       2004|         1|\n",
      "|  2003-2004|        23|\n",
      "|  2002-2003|        12|\n",
      "|  2001-2002|         4|\n",
      "|  2000-2001|         8|\n",
      "|  1999-2000|         4|\n",
      "+-----------+----------+\n",
      "\n"
     ]
    }
   ],
   "source": [
    "df.createOrReplaceTempView('sample_data_ai_with_id')\n",
    "\n",
    "show_data = spark.sql(\"\"\"SELECT schoolyear, COUNT(*) AS occurences \n",
    "                         FROM sample_data_ai_with_id \n",
    "                         GROUP BY schoolyear \n",
    "                         ORDER BY schoolyear DESC\"\"\")\n",
    "\n",
    "show_data.show(50)"
   ]
  },
  {
   "cell_type": "markdown",
   "metadata": {},
   "source": [
    "FILTERING schoolyear AND REMOVE/REPLACE UNWANTED VALUES"
   ]
  },
  {
   "cell_type": "code",
   "execution_count": 51,
   "metadata": {},
   "outputs": [],
   "source": [
    "from pyspark.sql.functions import regexp_extract, col\n",
    "\n",
    "# 1. Extract the YYYY-YYYY pattern (handles cases with trailing _X)\n",
    "df = df.withColumn(\n",
    "    \"schoolyear\", regexp_extract(col(\"schoolyear\"), r\"(\\d{4}-\\d{4})\", 1)\n",
    ")\n",
    "\n",
    "# 2. Filter out rows WITHOUT the YYYY-YYYY pattern\n",
    "schoolyear_regex = r\"^\\d{4}-\\d{4}$\"  # Regex for exact YYYY-YYYY format\n",
    "df = df.filter(col(\"schoolyear\").rlike(schoolyear_regex))  # Keep only matching rows"
   ]
  },
  {
   "cell_type": "code",
   "execution_count": 52,
   "metadata": {},
   "outputs": [
    {
     "name": "stdout",
     "output_type": "stream",
     "text": [
      "+----------+----------+\n",
      "|schoolyear|occurences|\n",
      "+----------+----------+\n",
      "| 2024-2025|    392358|\n",
      "| 2023-2024|    698504|\n",
      "| 2022-2023|    551385|\n",
      "| 2021-2022|    306076|\n",
      "| 2020-2021|     45721|\n",
      "| 2019-2022|         1|\n",
      "| 2019-2020|     10394|\n",
      "| 2018-2019|      2550|\n",
      "| 2017-2018|       759|\n",
      "| 2016-2017|       606|\n",
      "| 2015-2016|       681|\n",
      "| 2014-2015|       266|\n",
      "| 2013-2014|       103|\n",
      "| 2012-2013|        99|\n",
      "| 2011-2012|        56|\n",
      "| 2010-2011|        36|\n",
      "| 2009-2010|        21|\n",
      "| 2008-2009|        12|\n",
      "| 2007-2008|        17|\n",
      "| 2006-2007|         2|\n",
      "| 2005-2006|         3|\n",
      "| 2004-2005|        23|\n",
      "| 2003-2004|        23|\n",
      "| 2002-2003|        12|\n",
      "| 2001-2002|         4|\n",
      "| 2000-2001|         8|\n",
      "| 1999-2000|         4|\n",
      "+----------+----------+\n",
      "\n"
     ]
    }
   ],
   "source": [
    "df.createOrReplaceTempView('sample_data_ai_with_id')\n",
    "\n",
    "show_data = spark.sql(\"\"\"SELECT schoolyear, COUNT(*) AS occurences \n",
    "                         FROM sample_data_ai_with_id \n",
    "                         GROUP BY schoolyear \n",
    "                         ORDER BY schoolyear DESC\"\"\")\n",
    "\n",
    "show_data.show(50)"
   ]
  },
  {
   "cell_type": "code",
   "execution_count": 53,
   "metadata": {},
   "outputs": [
    {
     "name": "stdout",
     "output_type": "stream",
     "text": [
      "+-----------+------------+----------+\n",
      "|grade_final|grade_reexam|occurences|\n",
      "+-----------+------------+----------+\n",
      "|       1.50|           -|    452457|\n",
      "|       1.25|           -|    317624|\n",
      "|       2.00|           -|    289284|\n",
      "|       1.75|           -|    259850|\n",
      "|       2.50|           -|    177260|\n",
      "|       2.25|           -|    160236|\n",
      "|       3.00|           -|    118116|\n",
      "|       2.75|           -|     90523|\n",
      "|       1.00|           -|     63412|\n",
      "|        INC|        3.00|     35140|\n",
      "|        INC|        5.00|     16175|\n",
      "|       5.00|           -|     15352|\n",
      "|        DRP|           -|      2902|\n",
      "|        INC|           -|      1867|\n",
      "|         OG|           -|      1581|\n",
      "|        INC|        2.50|      1469|\n",
      "|        INC|        2.75|      1437|\n",
      "|        INC|        2.00|      1294|\n",
      "|        INC|        2.25|       904|\n",
      "|        INC|        1.75|       893|\n",
      "|        INC|        1.50|       847|\n",
      "|        INC|        1.25|       310|\n",
      "|     PASSED|           -|       255|\n",
      "|       4.00|        3.00|       117|\n",
      "|       1.25|          --|        62|\n",
      "|        INC|        1.00|        51|\n",
      "|       1.50|          --|        37|\n",
      "|          P|           -|        27|\n",
      "|       4.00|        5.00|        25|\n",
      "|       2.50|        null|        22|\n",
      "|       3.00|        null|        18|\n",
      "|       1.75|          --|        15|\n",
      "|          -|           -|        15|\n",
      "|       2.75|        null|        14|\n",
      "|         --|          --|        13|\n",
      "|        INC|          --|        12|\n",
      "|       1.00|          --|        12|\n",
      "|       2.00|        null|        11|\n",
      "|       3.00|          --|         9|\n",
      "|       2.25|        null|         9|\n",
      "|       2.75|          --|         9|\n",
      "|       2.00|          --|         7|\n",
      "|       2.50|          --|         7|\n",
      "|       5.00|          --|         7|\n",
      "|       1.50|        null|         6|\n",
      "|        DRP|          --|         5|\n",
      "|       1.75|        null|         5|\n",
      "|       2.25|          --|         3|\n",
      "|        INC|        null|         3|\n",
      "|       2.00|        1.50|         2|\n",
      "|          -|        1.00|         1|\n",
      "|       1.75|         INC|         1|\n",
      "|       3.50|           -|         1|\n",
      "|       1.25|        null|         1|\n",
      "|       1.50|        null|         1|\n",
      "|       2.75|        1.50|         1|\n",
      "|       5.00|        null|         1|\n",
      "|          -|        1.50|         1|\n",
      "|          -|        1.25|         1|\n",
      "|       2.00|        null|         1|\n",
      "|       2.75|         INC|         1|\n",
      "|          F|           -|         1|\n",
      "|          -|        2.00|         1|\n",
      "+-----------+------------+----------+\n",
      "\n"
     ]
    }
   ],
   "source": [
    "df.createOrReplaceTempView('sample_data_ai_with_id')\n",
    "show_data = spark.sql(\"\"\"SELECT grade_final, grade_reexam, COUNT(*) AS occurences \n",
    "                         FROM sample_data_ai_with_id \n",
    "                         GROUP BY grade_final, grade_reexam \n",
    "                         ORDER BY occurences DESC\"\"\")\n",
    "show_data.show(80)"
   ]
  },
  {
   "cell_type": "code",
   "execution_count": 54,
   "metadata": {},
   "outputs": [
    {
     "name": "stdout",
     "output_type": "stream",
     "text": [
      "Total instances: 2009724\n"
     ]
    }
   ],
   "source": [
    "total_count = df.count()\n",
    "print(f\"Total instances: {total_count}\")"
   ]
  },
  {
   "cell_type": "markdown",
   "metadata": {},
   "source": [
    "CREATING grade_numeric and grade_classification COLUMNS and inserting values accordingly"
   ]
  },
  {
   "cell_type": "code",
   "execution_count": 55,
   "metadata": {},
   "outputs": [],
   "source": [
    "from pyspark.sql.functions import when, col, regexp_extract, lit, coalesce, isnull, format_number\n",
    "\n",
    "# 1. Filter out rows with invalid grade_final values (excluding \"-\", \"--\")\n",
    "invalid_grades = [\"PASSED\", \"P\", \"OG\", \"F\"]\n",
    "df = df.filter(~col(\"grade_final\").isin(invalid_grades))\n",
    "\n",
    "# 2. Create the 'grade_numeric' column\n",
    "df = df.withColumn(\n",
    "    \"grade_numeric\",\n",
    "    when(\n",
    "        (df[\"grade_reexam\"].isNotNull()) & (~df[\"grade_reexam\"].isin(invalid_grades)) & (df[\"grade_reexam\"].rlike(r\"^\\d+\\.?\\d*$\")),\n",
    "        regexp_extract(df[\"grade_reexam\"], r\"(\\d+\\.?\\d*)\", 1)\n",
    "    ).when(\n",
    "        (~df[\"grade_final\"].isin(\"DRP\", \"INC\")) & (df[\"grade_final\"].rlike(r\"^\\d+\\.?\\d*$\")),\n",
    "        regexp_extract(df[\"grade_final\"], r\"(\\d+\\.?\\d*)\", 1)\n",
    "    ).when(\n",
    "       (df[\"grade_final\"] == \"INC\") & (df[\"grade_reexam\"].isNotNull()) & (~df[\"grade_reexam\"].isin(invalid_grades)) & (df[\"grade_reexam\"].rlike(r\"^\\d+\\.?\\d*$\")),\n",
    "        regexp_extract(df[\"grade_reexam\"], r\"(\\d+\\.?\\d*)\", 1)\n",
    "    ).when(df[\"grade_final\"] == \"DRP\", 0\n",
    "    )\n",
    "    .otherwise(None)\n",
    ").withColumn(\"grade_numeric\", col(\"grade_numeric\").cast(\"double\")).fillna({\"grade_numeric\": 5})\n",
    "\n",
    "\n",
    "# 3. Filter valid numeric grades\n",
    "valid_numeric_grades = ['1.00','1.25','1.50','1.75','2.00','2.25','2.50','2.75','3.00','4.00','5.00']\n",
    "df = df.filter(\n",
    "    when(~df[\"grade_numeric\"].isin(0.0), df[\"grade_numeric\"].isin([float(x) for x in valid_numeric_grades])).otherwise(True)\n",
    ")\n",
    "\n",
    "\n",
    "# Format grade_numeric to two decimal places x.xx\n",
    "df = df.withColumn(\"grade_numeric\", format_number(\"grade_numeric\", 2))\n",
    "\n",
    "\n",
    "# 4. Create the 'grade_classification' column\n",
    "df = df.withColumn(\n",
    "    \"grade_classification\",\n",
    "    when(\n",
    "        (df[\"grade_final\"].rlike(r\"^\\d+\\.\\d+$\")) & (isnull(df[\"grade_reexam\"]) | df[\"grade_reexam\"].isin(invalid_grades)),\n",
    "        'NORMAL')\n",
    "    .when(\n",
    "        (df[\"grade_final\"].isin([\"-\", \"--\"])) & (df[\"grade_reexam\"].rlike(r\"^\\d+\\.\\d+$\")),\n",
    "        'NORMAL')\n",
    "    .when(\n",
    "        (df[\"grade_final\"] == \"INC\") & (df[\"grade_reexam\"].rlike(r\"^\\d+\\.\\d+$\")),\n",
    "        'INC')\n",
    "    .when(\n",
    "        df[\"grade_final\"] == \"DRP\",\n",
    "        'DROP')\n",
    "    .when(\n",
    "        ((df[\"grade_final\"].rlike(r\"^\\d+\\.\\d+$\")) & (df[\"grade_reexam\"] == \"INC\")) |\n",
    "        ((df[\"grade_final\"].rlike(r\"^\\d+\\.\\d+$\")) & (df[\"grade_reexam\"].isin(invalid_grades))),\n",
    "        'INC')\n",
    "    .when(\n",
    "        (df[\"grade_final\"].rlike(r\"^\\d+\\.\\d+$\")) & (~df[\"grade_reexam\"].rlike(r\"^\\d+\\.\\d+$\")),\n",
    "        'NORMAL')\n",
    "    .when(\n",
    "        (df[\"grade_final\"].rlike(r\"^\\d+\\.\\d+$\")) & (df[\"grade_reexam\"].rlike(r\"^\\d+\\.\\d+$\")) &\n",
    "        (col(\"grade_final\").cast(\"double\") > col(\"grade_reexam\").cast(\"double\")),\n",
    "        'IMPROVED(REEXAM)')\n",
    "    .when(\n",
    "        (df[\"grade_final\"].rlike(r\"^\\d+\\.\\d+$\")) & (df[\"grade_reexam\"].rlike(r\"^\\d+\\.\\d+$\")) &\n",
    "        (col(\"grade_final\").cast(\"double\") < col(\"grade_reexam\").cast(\"double\")),\n",
    "        'FAILED(REEXAM)')\n",
    "            \n",
    "    .otherwise(\"INVALID\")\n",
    ")\n"
   ]
  },
  {
   "cell_type": "code",
   "execution_count": 56,
   "metadata": {},
   "outputs": [
    {
     "name": "stdout",
     "output_type": "stream",
     "text": [
      "root\n",
      " |-- id: integer (nullable = true)\n",
      " |-- schoolyear: string (nullable = true)\n",
      " |-- semester: string (nullable = true)\n",
      " |-- code: string (nullable = true)\n",
      " |-- description: string (nullable = true)\n",
      " |-- credits: string (nullable = true)\n",
      " |-- instructor_id: string (nullable = true)\n",
      " |-- instructor: string (nullable = true)\n",
      " |-- srcode: string (nullable = true)\n",
      " |-- fullname: string (nullable = true)\n",
      " |-- campus: string (nullable = true)\n",
      " |-- college: string (nullable = true)\n",
      " |-- program: string (nullable = true)\n",
      " |-- grade_final: string (nullable = true)\n",
      " |-- grade_reexam: string (nullable = true)\n",
      " |-- status: string (nullable = true)\n",
      " |-- grade_numeric: string (nullable = true)\n",
      " |-- grade_classification: string (nullable = false)\n",
      "\n"
     ]
    }
   ],
   "source": [
    "df.printSchema()"
   ]
  },
  {
   "cell_type": "code",
   "execution_count": 57,
   "metadata": {},
   "outputs": [
    {
     "name": "stdout",
     "output_type": "stream",
     "text": [
      "+-----------+------------+-------------+--------------------+----------+\n",
      "|grade_final|grade_reexam|grade_numeric|grade_classification|occurences|\n",
      "+-----------+------------+-------------+--------------------+----------+\n",
      "|       1.50|           -|         1.50|              NORMAL|    452457|\n",
      "|       1.25|           -|         1.25|              NORMAL|    317624|\n",
      "|       2.00|           -|         2.00|              NORMAL|    289284|\n",
      "|       1.75|           -|         1.75|              NORMAL|    259850|\n",
      "|       2.50|           -|         2.50|              NORMAL|    177260|\n",
      "|       2.25|           -|         2.25|              NORMAL|    160236|\n",
      "|       3.00|           -|         3.00|              NORMAL|    118116|\n",
      "|       2.75|           -|         2.75|              NORMAL|     90523|\n",
      "|       1.00|           -|         1.00|              NORMAL|     63412|\n",
      "|        INC|        3.00|         3.00|                 INC|     35140|\n",
      "|        INC|        5.00|         5.00|                 INC|     16175|\n",
      "|       5.00|           -|         5.00|              NORMAL|     15352|\n",
      "|        DRP|           -|         0.00|                DROP|      2902|\n",
      "|        INC|           -|         5.00|             INVALID|      1867|\n",
      "|        INC|        2.50|         2.50|                 INC|      1469|\n",
      "|        INC|        2.75|         2.75|                 INC|      1437|\n",
      "|        INC|        2.00|         2.00|                 INC|      1294|\n",
      "|        INC|        2.25|         2.25|                 INC|       904|\n",
      "|        INC|        1.75|         1.75|                 INC|       893|\n",
      "|        INC|        1.50|         1.50|                 INC|       847|\n",
      "|        INC|        1.25|         1.25|                 INC|       310|\n",
      "|       4.00|        3.00|         3.00|    IMPROVED(REEXAM)|       117|\n",
      "|       1.25|          --|         1.25|              NORMAL|        62|\n",
      "|        INC|        1.00|         1.00|                 INC|        51|\n",
      "|       1.50|          --|         1.50|              NORMAL|        37|\n",
      "|       4.00|        5.00|         5.00|      FAILED(REEXAM)|        25|\n",
      "|       2.50|        null|         2.50|              NORMAL|        22|\n",
      "|       3.00|        null|         3.00|              NORMAL|        18|\n",
      "|          -|           -|         5.00|             INVALID|        15|\n",
      "|       1.75|          --|         1.75|              NORMAL|        15|\n",
      "|       2.75|        null|         2.75|              NORMAL|        14|\n",
      "|         --|          --|         5.00|             INVALID|        13|\n",
      "|       1.00|          --|         1.00|              NORMAL|        12|\n",
      "|        INC|          --|         5.00|             INVALID|        12|\n",
      "|       2.00|        null|         2.00|              NORMAL|        11|\n",
      "|       2.25|        null|         2.25|              NORMAL|         9|\n",
      "|       2.75|          --|         2.75|              NORMAL|         9|\n",
      "|       3.00|          --|         3.00|              NORMAL|         9|\n",
      "|       2.50|          --|         2.50|              NORMAL|         7|\n",
      "|       5.00|          --|         5.00|              NORMAL|         7|\n",
      "|       2.00|          --|         2.00|              NORMAL|         7|\n",
      "|       1.50|        null|         1.50|              NORMAL|         6|\n",
      "|       1.75|        null|         1.75|              NORMAL|         5|\n",
      "|        DRP|          --|         0.00|                DROP|         5|\n",
      "|       2.25|          --|         2.25|              NORMAL|         3|\n",
      "|        INC|        null|         5.00|             INVALID|         3|\n",
      "|       2.00|        1.50|         1.50|    IMPROVED(REEXAM)|         2|\n",
      "|       2.75|         INC|         2.75|                 INC|         1|\n",
      "|          -|        1.25|         1.25|              NORMAL|         1|\n",
      "|       1.25|        null|         1.25|              NORMAL|         1|\n",
      "|       2.75|        1.50|         1.50|    IMPROVED(REEXAM)|         1|\n",
      "|          -|        1.00|         1.00|              NORMAL|         1|\n",
      "|          -|        2.00|         2.00|              NORMAL|         1|\n",
      "|       1.75|         INC|         1.75|                 INC|         1|\n",
      "|          -|        1.50|         1.50|              NORMAL|         1|\n",
      "|       2.00|        null|         2.00|              NORMAL|         1|\n",
      "|       5.00|        null|         5.00|              NORMAL|         1|\n",
      "|       1.50|        null|         1.50|              NORMAL|         1|\n",
      "+-----------+------------+-------------+--------------------+----------+\n",
      "\n"
     ]
    }
   ],
   "source": [
    "df.createOrReplaceTempView('sample_data_ai_with_id')\n",
    "show_data = spark.sql(\"\"\"SELECT grade_final, grade_reexam, grade_numeric, grade_classification, COUNT(*) AS occurences \n",
    "                         FROM sample_data_ai_with_id \n",
    "                         GROUP BY grade_final, grade_reexam, grade_numeric, grade_classification\n",
    "                         ORDER BY occurences DESC\"\"\")\n",
    "show_data.show(80)"
   ]
  },
  {
   "cell_type": "code",
   "execution_count": 58,
   "metadata": {},
   "outputs": [
    {
     "name": "stdout",
     "output_type": "stream",
     "text": [
      "Total instances: 2007859\n"
     ]
    }
   ],
   "source": [
    "total_count = df.count()\n",
    "print(f\"Total instances: {total_count}\")"
   ]
  },
  {
   "cell_type": "markdown",
   "metadata": {},
   "source": [
    "FILTER OUT (OG, P, Passed, F, DRP)"
   ]
  },
  {
   "cell_type": "code",
   "execution_count": 59,
   "metadata": {},
   "outputs": [],
   "source": [
    "# Filter out the data that is not included on the list\n",
    "allowed_data = ['1.00','1.25','1.50',\n",
    "                '1.75','2.00','2.25',\n",
    "                '2.50','2.75','3.00',\n",
    "                '4.00','5.00', 'INC', 'DRP']"
   ]
  },
  {
   "cell_type": "markdown",
   "metadata": {},
   "source": [
    "CONVERT \"NULL\" STRINGS INTO ACTUAL NULL"
   ]
  },
  {
   "cell_type": "code",
   "execution_count": 60,
   "metadata": {},
   "outputs": [],
   "source": [
    "from pyspark.sql.functions import when\n",
    "\n",
    "df = df.withColumn(\"campus\", when(col(\"campus\") == \"NULL\", None).otherwise(col(\"campus\")))\n"
   ]
  },
  {
   "cell_type": "code",
   "execution_count": 61,
   "metadata": {},
   "outputs": [
    {
     "name": "stdout",
     "output_type": "stream",
     "text": [
      "+-----------+------------+----------+\n",
      "|grade_final|grade_reexam|occurences|\n",
      "+-----------+------------+----------+\n",
      "|       1.50|           -|    452457|\n",
      "|       1.25|           -|    317624|\n",
      "|       2.00|           -|    289284|\n",
      "|       1.75|           -|    259850|\n",
      "|       2.50|           -|    177260|\n",
      "|       2.25|           -|    160236|\n",
      "|       3.00|           -|    118116|\n",
      "|       2.75|           -|     90523|\n",
      "|       1.00|           -|     63412|\n",
      "|       5.00|           -|     15352|\n",
      "|        DRP|           -|      2902|\n",
      "|        INC|           -|      1867|\n",
      "|       1.25|          --|        62|\n",
      "|       1.50|          --|        37|\n",
      "|       2.50|        null|        22|\n",
      "|       3.00|        null|        18|\n",
      "|          -|           -|        15|\n",
      "|       1.75|          --|        15|\n",
      "|       2.75|        null|        14|\n",
      "|         --|          --|        13|\n",
      "|       1.00|          --|        12|\n",
      "|        INC|          --|        12|\n",
      "|       2.00|        null|        11|\n",
      "|       3.00|          --|         9|\n",
      "|       2.25|        null|         9|\n",
      "|       2.75|          --|         9|\n",
      "|       2.00|          --|         7|\n",
      "|       2.50|          --|         7|\n",
      "|       5.00|          --|         7|\n",
      "|       1.50|        null|         6|\n",
      "|       1.75|        null|         5|\n",
      "|        DRP|          --|         5|\n",
      "|        INC|        null|         3|\n",
      "|       2.25|          --|         3|\n",
      "|       1.25|        null|         1|\n",
      "+-----------+------------+----------+\n",
      "\n"
     ]
    }
   ],
   "source": [
    "df.createOrReplaceTempView('sample_data_ai_with_id')\n",
    "show_data = spark.sql(\"\"\"SELECT grade_final, grade_reexam, COUNT(*) AS occurences \n",
    "                         FROM sample_data_ai_with_id \n",
    "                         WHERE grade_reexam = '-' OR grade_reexam = '--' OR grade_reexam = 'NULL' OR grade_reexam IS NULL\n",
    "                         GROUP BY grade_final, grade_reexam \n",
    "                         ORDER BY occurences DESC\"\"\")\n",
    "show_data.show(50)"
   ]
  },
  {
   "cell_type": "markdown",
   "metadata": {},
   "source": [
    "ONLY ALLOW NUMERICAL STRINGS IN GRADE_REEXAM COLUMN"
   ]
  },
  {
   "cell_type": "code",
   "execution_count": 62,
   "metadata": {},
   "outputs": [],
   "source": [
    "df = df.withColumn(\n",
    "    \"grade_reexam\", when(col(\"grade_reexam\").rlike(\"^[0-9]*\\.?[0-9]+$\"), col(\"grade_reexam\")).otherwise(None)\n",
    ")"
   ]
  },
  {
   "cell_type": "code",
   "execution_count": 63,
   "metadata": {},
   "outputs": [
    {
     "name": "stdout",
     "output_type": "stream",
     "text": [
      "+-----------+------------+----------+\n",
      "|grade_final|grade_reexam|occurences|\n",
      "+-----------+------------+----------+\n",
      "|        INC|        3.00|     35140|\n",
      "|        INC|        5.00|     16175|\n",
      "|        DRP|        null|      2907|\n",
      "|        INC|        null|      1882|\n",
      "|        INC|        2.50|      1469|\n",
      "|        INC|        2.75|      1437|\n",
      "|        INC|        2.00|      1294|\n",
      "|        INC|        2.25|       904|\n",
      "|        INC|        1.75|       893|\n",
      "|        INC|        1.50|       847|\n",
      "|        INC|        1.25|       310|\n",
      "|        INC|        1.00|        51|\n",
      "+-----------+------------+----------+\n",
      "\n"
     ]
    }
   ],
   "source": [
    "df.createOrReplaceTempView('sample_data_ai_with_id')\n",
    "show_data = spark.sql(\"\"\"SELECT grade_final, grade_reexam, COUNT(*) AS occurences \n",
    "                         FROM sample_data_ai_with_id \n",
    "                         WHERE grade_final = 'INC' OR grade_final = 'DRP' \n",
    "                         GROUP BY grade_final, grade_reexam \n",
    "                         ORDER BY occurences DESC\"\"\")\n",
    "show_data.show(22)"
   ]
  },
  {
   "cell_type": "code",
   "execution_count": 64,
   "metadata": {},
   "outputs": [
    {
     "name": "stdout",
     "output_type": "stream",
     "text": [
      "+-----------+------------+----------+\n",
      "|grade_final|grade_reexam|occurences|\n",
      "+-----------+------------+----------+\n",
      "|       1.50|        null|    452501|\n",
      "|       1.25|        null|    317687|\n",
      "|       2.00|        null|    289303|\n",
      "|       1.75|        null|    259871|\n",
      "|       2.50|        null|    177289|\n",
      "|       2.25|        null|    160248|\n",
      "|       3.00|        null|    118143|\n",
      "|       2.75|        null|     90547|\n",
      "|       1.00|        null|     63424|\n",
      "|        INC|        3.00|     35140|\n",
      "|        INC|        5.00|     16175|\n",
      "|       5.00|        null|     15360|\n",
      "|        DRP|        null|      2907|\n",
      "|        INC|        null|      1882|\n",
      "|        INC|        2.50|      1469|\n",
      "|        INC|        2.75|      1437|\n",
      "|        INC|        2.00|      1294|\n",
      "|        INC|        2.25|       904|\n",
      "|        INC|        1.75|       893|\n",
      "|        INC|        1.50|       847|\n",
      "|        INC|        1.25|       310|\n",
      "|       4.00|        3.00|       117|\n",
      "+-----------+------------+----------+\n",
      "only showing top 22 rows\n",
      "\n"
     ]
    }
   ],
   "source": [
    "df.createOrReplaceTempView('sample_data_ai_with_id')\n",
    "show_data = spark.sql(\"\"\"SELECT grade_final, grade_reexam, COUNT(*) AS occurences \n",
    "                         FROM sample_data_ai_with_id\n",
    "                         GROUP BY grade_final, grade_reexam \n",
    "                         ORDER BY occurences DESC\"\"\")\n",
    "show_data.show(22)"
   ]
  },
  {
   "cell_type": "code",
   "execution_count": 65,
   "metadata": {},
   "outputs": [
    {
     "name": "stdout",
     "output_type": "stream",
     "text": [
      "+----------+----------+\n",
      "|schoolyear|occurences|\n",
      "+----------+----------+\n",
      "+----------+----------+\n",
      "\n"
     ]
    }
   ],
   "source": [
    "df.createOrReplaceTempView('sample_data_ai_with_id')\n",
    "show_data = spark.sql(\"\"\"SELECT schoolyear, COUNT(*) AS occurences \n",
    "                         FROM sample_data_ai_with_id \n",
    "                         WHERE schoolyear = '2023-2024_x' \n",
    "                         GROUP BY schoolyear\n",
    "                         ORDER BY occurences DESC\"\"\")\n",
    "show_data.show(22)"
   ]
  },
  {
   "cell_type": "code",
   "execution_count": 66,
   "metadata": {},
   "outputs": [
    {
     "name": "stdout",
     "output_type": "stream",
     "text": [
      "+---------+----------+\n",
      "|   campus|occurences|\n",
      "+---------+----------+\n",
      "|ALANGILAN|    745300|\n",
      "|       PB|    530649|\n",
      "|  NASUGBU|    239742|\n",
      "|   MALVAR|    189020|\n",
      "|     LIPA|    155627|\n",
      "|  ROSARIO|     41678|\n",
      "|   LEMERY|     36747|\n",
      "|  BALAYAN|     27566|\n",
      "| SAN JUAN|     16036|\n",
      "|     LOBO|     12597|\n",
      "|     null|      8162|\n",
      "|   MABINI|      4735|\n",
      "+---------+----------+\n",
      "\n"
     ]
    }
   ],
   "source": [
    "df.createOrReplaceTempView('sample_data_ai_with_id')\n",
    "show_data = spark.sql(\"\"\"SELECT campus, COUNT(*) AS occurences \n",
    "                         FROM sample_data_ai_with_id \n",
    "                         GROUP BY campus\n",
    "                         ORDER BY occurences DESC\"\"\")\n",
    "\n",
    "show_data.show()"
   ]
  },
  {
   "cell_type": "code",
   "execution_count": 67,
   "metadata": {},
   "outputs": [],
   "source": [
    "from pyspark.sql.types import DecimalType\n",
    "\n",
    "filtered_df = df.withColumn(\"credits\", df.credits.cast(\"int\"))\\\n",
    "    .withColumn(\"grade_numeric\", df.grade_numeric.cast(DecimalType(5, 2)))\n"
   ]
  },
  {
   "cell_type": "code",
   "execution_count": 68,
   "metadata": {},
   "outputs": [
    {
     "name": "stdout",
     "output_type": "stream",
     "text": [
      "root\n",
      " |-- id: integer (nullable = true)\n",
      " |-- schoolyear: string (nullable = true)\n",
      " |-- semester: string (nullable = true)\n",
      " |-- code: string (nullable = true)\n",
      " |-- description: string (nullable = true)\n",
      " |-- credits: integer (nullable = true)\n",
      " |-- instructor_id: string (nullable = true)\n",
      " |-- instructor: string (nullable = true)\n",
      " |-- srcode: string (nullable = true)\n",
      " |-- fullname: string (nullable = true)\n",
      " |-- campus: string (nullable = true)\n",
      " |-- college: string (nullable = true)\n",
      " |-- program: string (nullable = true)\n",
      " |-- grade_final: string (nullable = true)\n",
      " |-- grade_reexam: string (nullable = true)\n",
      " |-- status: string (nullable = true)\n",
      " |-- grade_numeric: decimal(5,2) (nullable = true)\n",
      " |-- grade_classification: string (nullable = false)\n",
      "\n"
     ]
    }
   ],
   "source": [
    "filtered_df.printSchema()"
   ]
  },
  {
   "cell_type": "markdown",
   "metadata": {},
   "source": [
    "CREATE A TEMPORARY DATABASE THAT WRITES THE FILTERED_DF INTO POSTGRESQL"
   ]
  },
  {
   "cell_type": "code",
   "execution_count": null,
   "metadata": {},
   "outputs": [],
   "source": [
    "'''filtered_df.write \\\n",
    "        .format(\"jdbc\") \\\n",
    "        .option(\"url\", jdbc_url) \\\n",
    "        .option(\"dbtable\", \"filtered_data_with_id\") \\\n",
    "        .option(\"user\", properties[\"user\"]) \\\n",
    "        .option(\"password\", properties[\"password\"]) \\\n",
    "        .option(\"driver\", properties[\"driver\"]) \\\n",
    "        .mode(\"overwrite\") \\\n",
    "        .save()'''"
   ]
  },
  {
   "cell_type": "code",
   "execution_count": 70,
   "metadata": {},
   "outputs": [
    {
     "name": "stdout",
     "output_type": "stream",
     "text": [
      "+-------------+\n",
      "|grade_numeric|\n",
      "+-------------+\n",
      "|         2.00|\n",
      "|         1.50|\n",
      "|         1.00|\n",
      "|         1.25|\n",
      "|         1.50|\n",
      "|         1.75|\n",
      "|         1.50|\n",
      "|         1.25|\n",
      "|         1.25|\n",
      "|         1.25|\n",
      "|         1.50|\n",
      "|         1.00|\n",
      "|         1.25|\n",
      "|         1.50|\n",
      "|         1.50|\n",
      "|         1.25|\n",
      "|         2.50|\n",
      "|         2.50|\n",
      "|         2.75|\n",
      "|         2.25|\n",
      "|         2.50|\n",
      "|         3.00|\n",
      "+-------------+\n",
      "only showing top 22 rows\n",
      "\n"
     ]
    }
   ],
   "source": [
    "df.createOrReplaceTempView('sample_data_ai_with_id')\n",
    "show_data = spark.sql(\"\"\"SELECT grade_numeric\n",
    "                         FROM sample_data_ai_with_id \"\"\")\n",
    "show_data.show(22)"
   ]
  },
  {
   "cell_type": "code",
   "execution_count": 71,
   "metadata": {},
   "outputs": [
    {
     "name": "stdout",
     "output_type": "stream",
     "text": [
      "root\n",
      " |-- id: integer (nullable = true)\n",
      " |-- schoolyear: string (nullable = true)\n",
      " |-- semester: string (nullable = true)\n",
      " |-- code: string (nullable = true)\n",
      " |-- description: string (nullable = true)\n",
      " |-- credits: integer (nullable = true)\n",
      " |-- instructor_id: string (nullable = true)\n",
      " |-- instructor: string (nullable = true)\n",
      " |-- srcode: string (nullable = true)\n",
      " |-- fullname: string (nullable = true)\n",
      " |-- campus: string (nullable = true)\n",
      " |-- college: string (nullable = true)\n",
      " |-- program: string (nullable = true)\n",
      " |-- grade_final: string (nullable = true)\n",
      " |-- grade_reexam: string (nullable = true)\n",
      " |-- status: string (nullable = true)\n",
      " |-- grade_numeric: decimal(5,2) (nullable = true)\n",
      " |-- grade_classification: string (nullable = false)\n",
      "\n"
     ]
    }
   ],
   "source": [
    "filtered_df.printSchema()"
   ]
  }
 ],
 "metadata": {
  "kernelspec": {
   "display_name": "Python 3",
   "language": "python",
   "name": "python3"
  },
  "language_info": {
   "codemirror_mode": {
    "name": "ipython",
    "version": 3
   },
   "file_extension": ".py",
   "mimetype": "text/x-python",
   "name": "python",
   "nbconvert_exporter": "python",
   "pygments_lexer": "ipython3",
   "version": "3.11.5"
  }
 },
 "nbformat": 4,
 "nbformat_minor": 2
}
