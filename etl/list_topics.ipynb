{
 "cells": [
  {
   "cell_type": "code",
   "execution_count": 6,
   "metadata": {},
   "outputs": [
    {
     "data": {
      "text/plain": [
       "{'__confluent.support.metrics',\n",
       " '_schemas',\n",
       " 'connect-status',\n",
       " 'connect_configs',\n",
       " 'connect_offsets',\n",
       " 'source.public.raw_student_grades_streaming',\n",
       " 'test'}"
      ]
     },
     "execution_count": 6,
     "metadata": {},
     "output_type": "execute_result"
    }
   ],
   "source": [
    "from kafka import KafkaConsumer\n",
    "bootstrap_servers = ['localhost:29092']\n",
    "consumer = KafkaConsumer( bootstrap_servers=bootstrap_servers)\n",
    "consumer.topics()"
   ]
  },
  {
   "cell_type": "code",
   "execution_count": null,
   "metadata": {},
   "outputs": [
    {
     "name": "stdout",
     "output_type": "stream",
     "text": [
      "{'id': 1, 'schoolyear': '2021-2022', 'semester': 'FIRST', 'code': 'Educ 504', 'description': 'Philosophical and Social Dimensions of Education', 'credits': 3, 'instructor_id': 2913, 'instructor': 'LN2913, FN2913', 'srcode': 118442, 'fullname': 'LN118442, FN118442', 'campus': 'PB      ', 'college': 'Graduate School', 'program': 'Master of Arts in Education major in Mathematics Teaching', 'grade_final': '1.00', 'grade_reexam': '-', 'status': 'PASSED'}\n",
      "{'id': 2, 'schoolyear': '2021-2022', 'semester': 'FIRST', 'code': 'Math 501 ', 'description': 'Pre-Calculus Mathematics (Algebra and Trigonometry)', 'credits': 3, 'instructor_id': 2576, 'instructor': 'LN2576, FN2576', 'srcode': 118442, 'fullname': 'LN118442, FN118442', 'campus': 'PB      ', 'college': 'Graduate School', 'program': 'Master of Arts in Education major in Mathematics Teaching', 'grade_final': '1.00', 'grade_reexam': '-', 'status': 'PASSED'}\n",
      "{'id': 3, 'schoolyear': '2021-2022', 'semester': 'FIRST', 'code': 'Educ 501', 'description': 'Research Methodology', 'credits': 3, 'instructor_id': 3615, 'instructor': 'LN3615, FN3615', 'srcode': 118442, 'fullname': 'LN118442, FN118442', 'campus': 'PB      ', 'college': 'Graduate School', 'program': 'Master of Arts in Education major in Mathematics Teaching', 'grade_final': '1.25', 'grade_reexam': '-', 'status': 'PASSED'}\n",
      "{'id': 4, 'schoolyear': '2022-2023', 'semester': 'FIRST', 'code': 'Math 506 ', 'description': 'Differential Equations', 'credits': 3, 'instructor_id': 5438, 'instructor': 'LN5438, FN5438', 'srcode': 118442, 'fullname': 'LN118442, FN118442', 'campus': 'PB      ', 'college': 'Graduate School', 'program': 'Master of Arts in Education major in Mathematics Teaching', 'grade_final': '1.25', 'grade_reexam': '-', 'status': 'PASSED'}\n",
      "{'id': 5, 'schoolyear': '2022-2023', 'semester': 'FIRST', 'code': 'Math 502', 'description': 'Modern Plane Geometry', 'credits': 3, 'instructor_id': 1844, 'instructor': 'LN1844, FN1844', 'srcode': 118442, 'fullname': 'LN118442, FN118442', 'campus': 'PB      ', 'college': 'Graduate School', 'program': 'Master of Arts in Education major in Mathematics Teaching', 'grade_final': '1.25', 'grade_reexam': '-', 'status': 'PASSED'}\n",
      "{'id': 6, 'schoolyear': '2022-2023', 'semester': 'FIRST', 'code': 'Math 507', 'description': 'Theory of Probability', 'credits': 3, 'instructor_id': 1844, 'instructor': 'LN1844, FN1844', 'srcode': 118442, 'fullname': 'LN118442, FN118442', 'campus': 'PB      ', 'college': 'Graduate School', 'program': 'Master of Arts in Education major in Mathematics Teaching', 'grade_final': '1.25', 'grade_reexam': '-', 'status': 'PASSED'}\n",
      "{'id': 7, 'schoolyear': '2021-2022', 'semester': 'SUMMER', 'code': 'Educ 509', 'description': 'Psychology of Teaching and Learning', 'credits': 3, 'instructor_id': 5201, 'instructor': 'LN5201, FN5201', 'srcode': 118442, 'fullname': 'LN118442, FN118442', 'campus': 'PB      ', 'college': 'Graduate School', 'program': 'Master of Arts in Education major in Mathematics Teaching', 'grade_final': '1.00', 'grade_reexam': '-', 'status': 'PASSED'}\n",
      "{'id': 8, 'schoolyear': '2021-2022', 'semester': 'SUMMER', 'code': 'Educ 502', 'description': 'Educational Measurement and Statistics', 'credits': 3, 'instructor_id': 2437, 'instructor': 'LN2437, FN2437', 'srcode': 118442, 'fullname': 'LN118442, FN118442', 'campus': 'PB      ', 'college': 'Graduate School', 'program': 'Master of Arts in Education major in Mathematics Teaching', 'grade_final': '1.00', 'grade_reexam': '-', 'status': 'PASSED'}\n",
      "{'id': 9, 'schoolyear': '2021-2022', 'semester': 'SECOND', 'code': 'Math 503', 'description': 'Mathematical Analysis I (Plane and Solid Analytic Geometry)', 'credits': 3, 'instructor_id': 5437, 'instructor': 'LN5437, FN5437', 'srcode': 118442, 'fullname': 'LN118442, FN118442', 'campus': 'PB      ', 'college': 'Graduate School', 'program': 'Master of Arts in Education major in Mathematics Teaching', 'grade_final': '1.25', 'grade_reexam': '-', 'status': 'PASSED'}\n",
      "{'id': 10, 'schoolyear': '2021-2022', 'semester': 'SECOND', 'code': 'Math 505', 'description': 'Mathematical Analysis III (Integral Calculus)', 'credits': 3, 'instructor_id': 5438, 'instructor': 'LN5438, FN5438', 'srcode': 118442, 'fullname': 'LN118442, FN118442', 'campus': 'PB      ', 'college': 'Graduate School', 'program': 'Master of Arts in Education major in Mathematics Teaching', 'grade_final': '1.25', 'grade_reexam': '-', 'status': 'PASSED'}\n",
      "{'id': 11, 'schoolyear': '2021-2022', 'semester': 'SECOND', 'code': 'Math 504', 'description': 'Mathematical Analysis II (Differential Calculus)', 'credits': 3, 'instructor_id': 3605, 'instructor': 'LN3605, FN3605', 'srcode': 118442, 'fullname': 'LN118442, FN118442', 'campus': 'PB      ', 'college': 'Graduate School', 'program': 'Master of Arts in Education major in Mathematics Teaching', 'grade_final': '1.25', 'grade_reexam': '-', 'status': 'PASSED'}\n",
      "{'id': 12, 'schoolyear': '2022-2023', 'semester': 'FIRST', 'code': 'ENGG 414', 'description': 'Numerical Methods', 'credits': 3, 'instructor_id': 3857, 'instructor': 'LN3857, FN3857', 'srcode': 90100, 'fullname': 'LN90100, FN90100', 'campus': 'ALANGILAN', 'college': 'College of Engineering', 'program': 'BS Mechanical Engineering', 'grade_final': '1.50', 'grade_reexam': '-', 'status': 'PASSED'}\n",
      "{'id': 13, 'schoolyear': '2022-2023', 'semester': 'FIRST', 'code': 'ME 413', 'description': 'Materials Engineering and Testing', 'credits': 3, 'instructor_id': 3892, 'instructor': 'LN3892, FN3892', 'srcode': 90100, 'fullname': 'LN90100, FN90100', 'campus': 'ALANGILAN', 'college': 'College of Engineering', 'program': 'BS Mechanical Engineering', 'grade_final': '2.25', 'grade_reexam': '-', 'status': 'PASSED'}\n",
      "{'id': 14, 'schoolyear': '2022-2023', 'semester': 'FIRST', 'code': 'ME 414', 'description': 'ME Elective 1', 'credits': 2, 'instructor_id': 3907, 'instructor': 'LN3907, FN3907', 'srcode': 90100, 'fullname': 'LN90100, FN90100', 'campus': 'ALANGILAN', 'college': 'College of Engineering', 'program': 'BS Mechanical Engineering', 'grade_final': '1.75', 'grade_reexam': '-', 'status': 'PASSED'}\n",
      "{'id': 15, 'schoolyear': '2022-2023', 'semester': 'FIRST', 'code': 'ME 409', 'description': 'Heat Transfer', 'credits': 3, 'instructor_id': 3373, 'instructor': 'LN3373, FN3373', 'srcode': 90100, 'fullname': 'LN90100, FN90100', 'campus': 'ALANGILAN', 'college': 'College of Engineering', 'program': 'BS Mechanical Engineering', 'grade_final': 'INC', 'grade_reexam': '3.00', 'status': 'PASSED'}\n",
      "{'id': 16, 'schoolyear': '2022-2023', 'semester': 'FIRST', 'code': 'ME 410', 'description': 'Combustion Engineering', 'credits': 3, 'instructor_id': 3429, 'instructor': 'LN3429, FN3429', 'srcode': 90100, 'fullname': 'LN90100, FN90100', 'campus': 'ALANGILAN', 'college': 'College of Engineering', 'program': 'BS Mechanical Engineering', 'grade_final': '3.00', 'grade_reexam': '-', 'status': 'PASSED'}\n",
      "{'id': 17, 'schoolyear': '2022-2023', 'semester': 'FIRST', 'code': 'ME 415', 'description': 'ME Laboratory 1', 'credits': 1, 'instructor_id': 3120, 'instructor': 'LN3120, FN3120', 'srcode': 90100, 'fullname': 'LN90100, FN90100', 'campus': 'ALANGILAN', 'college': 'College of Engineering', 'program': 'BS Mechanical Engineering', 'grade_final': '1.25', 'grade_reexam': '-', 'status': 'PASSED'}\n",
      "{'id': 18, 'schoolyear': '2022-2023', 'semester': 'FIRST', 'code': 'ME 411', 'description': 'Fluid Machinery', 'credits': 3, 'instructor_id': 2423, 'instructor': 'LN2423, FN2423', 'srcode': 90100, 'fullname': 'LN90100, FN90100', 'campus': 'ALANGILAN', 'college': 'College of Engineering', 'program': 'BS Mechanical Engineering', 'grade_final': 'INC', 'grade_reexam': '3.00', 'status': 'PASSED'}\n",
      "{'id': 19, 'schoolyear': '2022-2023', 'semester': 'FIRST', 'code': 'ME 412', 'description': 'Machine Elements', 'credits': 3, 'instructor_id': 1439, 'instructor': 'LN1439, FN1439', 'srcode': 90100, 'fullname': 'LN90100, FN90100', 'campus': 'ALANGILAN', 'college': 'College of Engineering', 'program': 'BS Mechanical Engineering', 'grade_final': '3.00', 'grade_reexam': '-', 'status': 'PASSED'}\n",
      "{'id': 20, 'schoolyear': '2022-2023', 'semester': 'FIRST', 'code': 'ENGG 416', 'description': 'Research Methods', 'credits': 3, 'instructor_id': 866, 'instructor': 'LN866, FN866', 'srcode': 90100, 'fullname': 'LN90100, FN90100', 'campus': 'ALANGILAN', 'college': 'College of Engineering', 'program': 'BS Mechanical Engineering', 'grade_final': '3.00', 'grade_reexam': '-', 'status': 'PASSED'}\n",
      "{'id': 21, 'schoolyear': '2022-2023', 'semester': 'FIRST', 'code': 'Litr 102', 'description': 'ASEAN Literature', 'credits': 3, 'instructor_id': 4108, 'instructor': 'LN4108, FN4108', 'srcode': 90100, 'fullname': 'LN90100, FN90100', 'campus': 'ALANGILAN', 'college': 'College of Engineering', 'program': 'BS Mechanical Engineering', 'grade_final': '1.50', 'grade_reexam': '-', 'status': 'PASSED'}\n",
      "{'id': 22, 'schoolyear': '2022-2023', 'semester': 'SECOND', 'code': 'ME 416', 'description': 'Vibration Engineering', 'credits': 2, 'instructor_id': 5279, 'instructor': 'LN5279, FN5279', 'srcode': 90100, 'fullname': 'LN90100, FN90100', 'campus': 'ALANGILAN', 'college': 'College of Engineering', 'program': 'BS Mechanical Engineering', 'grade_final': 'INC', 'grade_reexam': '3.00', 'status': 'PASSED'}\n",
      "{'id': 23, 'schoolyear': '2022-2023', 'semester': 'SECOND', 'code': 'ME 419', 'description': 'ME Elective 2', 'credits': 2, 'instructor_id': 4003, 'instructor': 'LN4003, FN4003', 'srcode': 90100, 'fullname': 'LN90100, FN90100', 'campus': 'ALANGILAN', 'college': 'College of Engineering', 'program': 'BS Mechanical Engineering', 'grade_final': '2.00', 'grade_reexam': '-', 'status': 'PASSED'}\n",
      "{'id': 24, 'schoolyear': '2022-2023', 'semester': 'SECOND', 'code': 'ENGG 404', 'description': 'Engineering Economics', 'credits': 3, 'instructor_id': 3877, 'instructor': 'LN3877, FN3877', 'srcode': 90100, 'fullname': 'LN90100, FN90100', 'campus': 'ALANGILAN', 'college': 'College of Engineering', 'program': 'BS Mechanical Engineering', 'grade_final': '3.00', 'grade_reexam': '-', 'status': 'PASSED'}\n",
      "{'id': 25, 'schoolyear': '2022-2023', 'semester': 'SECOND', 'code': 'ME 418', 'description': 'Machine Design 1', 'credits': 3, 'instructor_id': 3635, 'instructor': 'LN3635, FN3635', 'srcode': 90100, 'fullname': 'LN90100, FN90100', 'campus': 'ALANGILAN', 'college': 'College of Engineering', 'program': 'BS Mechanical Engineering', 'grade_final': 'INC', 'grade_reexam': '5.00', 'status': 'FAILED'}\n",
      "{'id': 26, 'schoolyear': '2022-2023', 'semester': 'SECOND', 'code': 'ECE 422', 'description': 'Basic Electronics', 'credits': 3, 'instructor_id': 2598, 'instructor': 'LN2598, FN2598', 'srcode': 90100, 'fullname': 'LN90100, FN90100', 'campus': 'ALANGILAN', 'college': 'College of Engineering', 'program': 'BS Mechanical Engineering', 'grade_final': '1.50', 'grade_reexam': '-', 'status': 'PASSED'}\n",
      "{'id': 27, 'schoolyear': '2022-2023', 'semester': 'SECOND', 'code': 'ME 420', 'description': 'ME Laboratory 2', 'credits': 2, 'instructor_id': 2423, 'instructor': 'LN2423, FN2423', 'srcode': 90100, 'fullname': 'LN90100, FN90100', 'campus': 'ALANGILAN', 'college': 'College of Engineering', 'program': 'BS Mechanical Engineering', 'grade_final': '1.50', 'grade_reexam': '-', 'status': 'PASSED'}\n",
      "{'id': 28, 'schoolyear': '2022-2023', 'semester': 'SECOND', 'code': 'ME 422', 'description': 'ME Project Study 1', 'credits': 1, 'instructor_id': 1362, 'instructor': 'LN1362, FN1362', 'srcode': 90100, 'fullname': 'LN90100, FN90100', 'campus': 'ALANGILAN', 'college': 'College of Engineering', 'program': 'BS Mechanical Engineering', 'grade_final': '2.75', 'grade_reexam': '-', 'status': 'PASSED'}\n",
      "{'id': 29, 'schoolyear': '2022-2023', 'semester': 'SECOND', 'code': 'ME 417', 'description': 'Refrigeration Systems', 'credits': 3, 'instructor_id': 1439, 'instructor': 'LN1439, FN1439', 'srcode': 90100, 'fullname': 'LN90100, FN90100', 'campus': 'ALANGILAN', 'college': 'College of Engineering', 'program': 'BS Mechanical Engineering', 'grade_final': '2.75', 'grade_reexam': '-', 'status': 'PASSED'}\n",
      "{'id': 30, 'schoolyear': '2022-2023', 'semester': 'SECOND', 'code': 'ME 421', 'description': 'ME Laws, Ethics, Contracts, Codes and Standards', 'credits': 2, 'instructor_id': 1482, 'instructor': 'LN1482, FN1482', 'srcode': 90100, 'fullname': 'LN90100, FN90100', 'campus': 'ALANGILAN', 'college': 'College of Engineering', 'program': 'BS Mechanical Engineering', 'grade_final': '2.75', 'grade_reexam': '-', 'status': 'PASSED'}\n",
      "{'id': 31, 'schoolyear': '2023-2024', 'semester': 'SECOND', 'code': 'SCI 403', 'description': 'Physics 1', 'credits': 4, 'instructor_id': 4011, 'instructor': 'LN4011, FN4011', 'srcode': 143658, 'fullname': 'LN143658, FN143658', 'campus': 'ALANGILAN', 'college': 'College of Engineering', 'program': 'BS Mechatronics Engineering', 'grade_final': '3.00', 'grade_reexam': '-', 'status': 'PASSED'}\n",
      "{'id': 32, 'schoolyear': '2023-2024', 'semester': 'SECOND', 'code': 'PATHFit 2', 'description': 'Exercise-Based Fitness Activities', 'credits': 2, 'instructor_id': 2539, 'instructor': 'LN2539, FN2539', 'srcode': 143658, 'fullname': 'LN143658, FN143658', 'campus': 'ALANGILAN', 'college': 'College of Engineering', 'program': 'BS Mechatronics Engineering', 'grade_final': '1.50', 'grade_reexam': '-', 'status': 'PASSED'}\n",
      "{'id': 33, 'schoolyear': '2023-2024', 'semester': 'SECOND', 'code': 'GEd 108', 'description': 'Art Appreciation', 'credits': 3, 'instructor_id': 887, 'instructor': 'LN887, FN887', 'srcode': 143658, 'fullname': 'LN143658, FN143658', 'campus': 'ALANGILAN', 'college': 'College of Engineering', 'program': 'BS Mechatronics Engineering', 'grade_final': '1.50', 'grade_reexam': '-', 'status': 'PASSED'}\n",
      "{'id': 34, 'schoolyear': '2023-2024', 'semester': 'SECOND', 'code': 'MATH 402', 'description': 'Integral Calculus', 'credits': 3, 'instructor_id': 262, 'instructor': 'LN262, FN262', 'srcode': 143658, 'fullname': 'LN143658, FN143658', 'campus': 'ALANGILAN', 'college': 'College of Engineering', 'program': 'BS Mechatronics Engineering', 'grade_final': '5.00', 'grade_reexam': '-', 'status': 'FAILED'}\n",
      "{'id': 35, 'schoolyear': '2023-2024', 'semester': 'SECOND', 'code': 'NSTP 121RO', 'description': 'NSTP - Reserve Officers Training Corps 2', 'credits': 3, 'instructor_id': 4471, 'instructor': 'LN4471, FN4471', 'srcode': 143658, 'fullname': 'LN143658, FN143658', 'campus': 'ALANGILAN', 'college': 'College of Engineering', 'program': 'BS Mechatronics Engineering', 'grade_final': '1.25', 'grade_reexam': '-', 'status': 'PASSED'}\n",
      "{'id': 36, 'schoolyear': '2023-2024', 'semester': 'SECOND', 'code': 'CpE 401', 'description': 'Computer Programming 1', 'credits': 1, 'instructor_id': 4506, 'instructor': 'LN4506, FN4506', 'srcode': 143658, 'fullname': 'LN143658, FN143658', 'campus': 'ALANGILAN', 'college': 'College of Engineering', 'program': 'BS Mechatronics Engineering', 'grade_final': '1.50', 'grade_reexam': '-', 'status': 'PASSED'}\n",
      "{'id': 37, 'schoolyear': '2023-2024', 'semester': 'SECOND', 'code': 'GEd 109', 'description': 'Science, Technology and Society', 'credits': 3, 'instructor_id': 4555, 'instructor': 'LN4555, FN4555', 'srcode': 143658, 'fullname': 'LN143658, FN143658', 'campus': 'ALANGILAN', 'college': 'College of Engineering', 'program': 'BS Mechatronics Engineering', 'grade_final': '2.00', 'grade_reexam': '-', 'status': 'PASSED'}\n",
      "{'id': 38, 'schoolyear': '2023-2024', 'semester': 'SECOND', 'code': 'ENGG 402', 'description': 'Engineering Drawing', 'credits': 1, 'instructor_id': 4298, 'instructor': 'LN4298, FN4298', 'srcode': 143658, 'fullname': 'LN143658, FN143658', 'campus': 'ALANGILAN', 'college': 'College of Engineering', 'program': 'BS Mechatronics Engineering', 'grade_final': '2.25', 'grade_reexam': '-', 'status': 'PASSED'}\n",
      "{'id': 39, 'schoolyear': '2023-2024', 'semester': 'SECOND', 'code': 'GEd 104', 'description': 'The Contemporary World', 'credits': 3, 'instructor_id': 2478, 'instructor': 'LN2478, FN2478', 'srcode': 143658, 'fullname': 'LN143658, FN143658', 'campus': 'ALANGILAN', 'college': 'College of Engineering', 'program': 'BS Mechatronics Engineering', 'grade_final': '1.50', 'grade_reexam': '-', 'status': 'PASSED'}\n",
      "{'id': 40, 'schoolyear': '2024-2025', 'semester': 'FIRST', 'code': 'ME 431', 'description': 'Thermodynamics', 'credits': 3, 'instructor_id': 4705, 'instructor': 'LN4705, FN4705', 'srcode': 143658, 'fullname': 'LN143658, FN143658', 'campus': 'ALANGILAN', 'college': 'College of Engineering', 'program': 'BS Mechatronics Engineering', 'grade_final': '2.75', 'grade_reexam': '-', 'status': 'PASSED'}\n",
      "{'id': 41, 'schoolyear': '2024-2025', 'semester': 'FIRST', 'code': 'ENGG 409', 'description': 'Engineering Mechanics', 'credits': 3, 'instructor_id': 4893, 'instructor': 'LN4893, FN4893', 'srcode': 143658, 'fullname': 'LN143658, FN143658', 'campus': 'ALANGILAN', 'college': 'College of Engineering', 'program': 'BS Mechatronics Engineering', 'grade_final': '3.00', 'grade_reexam': '-', 'status': 'PASSED'}\n",
      "{'id': 42, 'schoolyear': '2024-2025', 'semester': 'FIRST', 'code': 'ENGG 413', 'description': 'Environmental Science and Engineering', 'credits': 3, 'instructor_id': 4592, 'instructor': 'LN4592, FN4592', 'srcode': 143658, 'fullname': 'LN143658, FN143658', 'campus': 'ALANGILAN', 'college': 'College of Engineering', 'program': 'BS Mechatronics Engineering', 'grade_final': '2.25', 'grade_reexam': '-', 'status': 'PASSED'}\n",
      "{'id': 43, 'schoolyear': '2024-2025', 'semester': 'FIRST', 'code': 'MATH 403', 'description': 'Engineering Data Analysis', 'credits': 3, 'instructor_id': 4349, 'instructor': 'LN4349, FN4349', 'srcode': 143658, 'fullname': 'LN143658, FN143658', 'campus': 'ALANGILAN', 'college': 'College of Engineering', 'program': 'BS Mechatronics Engineering', 'grade_final': '3.00', 'grade_reexam': '-', 'status': 'PASSED'}\n",
      "{'id': 44, 'schoolyear': '2024-2025', 'semester': 'FIRST', 'code': 'MATH 404', 'description': 'Differential Equations', 'credits': 3, 'instructor_id': 2083, 'instructor': 'LN2083, FN2083', 'srcode': 143658, 'fullname': 'LN143658, FN143658', 'campus': 'ALANGILAN', 'college': 'College of Engineering', 'program': 'BS Mechatronics Engineering', 'grade_final': 'INC', 'grade_reexam': '3.00', 'status': 'PASSED'}\n",
      "{'id': 1, 'schoolyear': '2021-2022', 'semester': 'FIRST', 'code': 'Educ 504', 'description': 'Philosophical and Social Dimensions of Education', 'credits': 4, 'instructor_id': 2913, 'instructor': 'LN2913, FN2913', 'srcode': 118442, 'fullname': 'LN118442, FN118442', 'campus': 'PB      ', 'college': 'Graduate School', 'program': 'Master of Arts in Education major in Mathematics Teaching', 'grade_final': '1.00', 'grade_reexam': '-', 'status': 'PASSED'}\n",
      "{'id': 45, 'schoolyear': '2024-2025', 'semester': 'FIRST', 'code': 'SCI 404', 'description': 'Physics 2', 'credits': 4, 'instructor_id': 1432, 'instructor': 'LN1432, FN1432', 'srcode': 143658, 'fullname': 'LN143658, FN143658', 'campus': 'ALANGILAN', 'college': 'College of Engineering', 'program': 'BS Mechatronics Engineering', 'grade_final': '3.00', 'grade_reexam': '-', 'status': 'PASSED'}\n",
      "{'id': 46, 'schoolyear': '2024-2025', 'semester': 'FIRST', 'code': 'ENGG 403', 'description': 'Computer-Aided Design', 'credits': 1, 'instructor_id': 1004, 'instructor': 'LN1004, FN1004', 'srcode': 143658, 'fullname': 'LN143658, FN143658', 'campus': 'ALANGILAN', 'college': 'College of Engineering', 'program': 'BS Mechatronics Engineering', 'grade_final': '1.50', 'grade_reexam': '-', 'status': 'PASSED'}\n",
      "{'id': 47, 'schoolyear': '2024-2025', 'semester': 'FIRST', 'code': 'PATHFit 3', 'description': 'Traditional and Recreational Games', 'credits': 2, 'instructor_id': 2539, 'instructor': 'LN2539, FN2539', 'srcode': 143658, 'fullname': 'LN143658, FN143658', 'campus': 'ALANGILAN', 'college': 'College of Engineering', 'program': 'BS Mechatronics Engineering', 'grade_final': '1.50', 'grade_reexam': '-', 'status': 'PASSED'}\n",
      "{'id': 48, 'schoolyear': '2024-2025', 'semester': 'FIRST', 'code': 'EE 424', 'description': 'Circuits 1', 'credits': 4, 'instructor_id': 435, 'instructor': 'LN435, FN435', 'srcode': 143658, 'fullname': 'LN143658, FN143658', 'campus': 'ALANGILAN', 'college': 'College of Engineering', 'program': 'BS Mechatronics Engineering', 'grade_final': '2.75', 'grade_reexam': '-', 'status': 'PASSED'}\n",
      "{'id': 49, 'schoolyear': '2023-2024', 'semester': 'SUMMER', 'code': 'SCI 402', 'description': 'Modern Biology', 'credits': 3, 'instructor_id': 4286, 'instructor': 'LN4286, FN4286', 'srcode': 143658, 'fullname': 'LN143658, FN143658', 'campus': 'ALANGILAN', 'college': 'College of Engineering', 'program': 'BS Mechatronics Engineering', 'grade_final': '1.50', 'grade_reexam': '-', 'status': 'PASSED'}\n",
      "{'id': 50, 'schoolyear': '2023-2024', 'semester': 'SUMMER', 'code': 'GEd 107', 'description': 'Ethics', 'credits': 3, 'instructor_id': 504, 'instructor': 'LN504, FN504', 'srcode': 143658, 'fullname': 'LN143658, FN143658', 'campus': 'ALANGILAN', 'college': 'College of Engineering', 'program': 'BS Mechatronics Engineering', 'grade_final': '1.25', 'grade_reexam': '-', 'status': 'PASSED'}\n"
     ]
    }
   ],
   "source": [
    "import json\n",
    "topicName = 'source.public.raw_student_grades_streaming'\n",
    "# Initialize consumer variable\n",
    "consumer = KafkaConsumer (topicName , auto_offset_reset='earliest', \n",
    "                          bootstrap_servers = bootstrap_servers, group_id='grades-group')\n",
    "\n",
    "# Read and print message from consumer\n",
    "for msg in consumer:\n",
    "    print(json.loads(msg.value))"
   ]
  }
 ],
 "metadata": {
  "kernelspec": {
   "display_name": "Python 3",
   "language": "python",
   "name": "python3"
  },
  "language_info": {
   "codemirror_mode": {
    "name": "ipython",
    "version": 3
   },
   "file_extension": ".py",
   "mimetype": "text/x-python",
   "name": "python",
   "nbconvert_exporter": "python",
   "pygments_lexer": "ipython3",
   "version": "3.11.5"
  }
 },
 "nbformat": 4,
 "nbformat_minor": 2
}
