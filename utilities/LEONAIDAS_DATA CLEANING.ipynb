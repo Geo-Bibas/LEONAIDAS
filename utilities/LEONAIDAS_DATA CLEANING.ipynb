{
 "cells": [
  {
   "cell_type": "markdown",
   "metadata": {},
   "source": [
    "- FILTER SEMESTER (FIRST, SECOND, SUMMER, SUMMER2)\n",
    "- grade_final should only have numerical values such as (1.00 -5.00 excluding 3.50), INC, and DRP.\n",
    "- create new column, numerical_grade (Ilipat ang grade_reexam to grade_finals if INC). "
   ]
  },
  {
   "cell_type": "markdown",
   "metadata": {},
   "source": [
    "COLUMNS TO BE CLEANED:\n",
    "- grade_reexam\n",
    "- grade_finals\n",
    "\n",
    "CLEANED / FILTERED\n",
    "- semester \n",
    "- schoolyear (with _x)\n",
    "- drop schoolyear without - EXAMPLE (\"2004\")"
   ]
  },
  {
   "cell_type": "markdown",
   "metadata": {},
   "source": [
    "EXTRACT DATA"
   ]
  },
  {
   "cell_type": "code",
   "execution_count": 37,
   "metadata": {},
   "outputs": [],
   "source": [
    "from pyspark.sql import SparkSession\n",
    "\n",
    "#jdbc_url = \"jdbc:postgresql://192.168.20.11:5432/demo_db\"\n",
    "jdbc_url = \"jdbc:postgresql://localhost:5432/local_student_grades\"\n",
    "properties = {\n",
    "    \"user\": \"postgres\", \n",
    "    \"password\": \"password\",  \n",
    "    \"driver\": \"org.postgresql.Driver\",\n",
    "    \"fetchsize\": \"10000\"\n",
    "}\n",
    "postgres_driver_path = \"C:\\postgresql-42.7.5.jar\"\n",
    "\n",
    "\n",
    "\n",
    "def extract(jdbc_url, table_name, properties, postgres_driver_path):\n",
    "    \"\"\" Extract data from PostgreSQL database using Spark.\"\"\"\n",
    "    # Initialize Spark session\n",
    "    spark = SparkSession.builder \\\n",
    "        .appName(\"Postgres Connection\") \\\n",
    "        .config(\"spark.jars\", postgres_driver_path) \\\n",
    "        .config(\"spark.driver.memory\", \"8g\") \\\n",
    "        .config(\"spark.executor.memory\", \"8g\") \\\n",
    "        .config(\"spark.executor.memoryOverhead\", \"2g\") \\\n",
    "        .config(\"spark.driver.memoryOverhead\", \"2g\") \\\n",
    "        .getOrCreate()\n",
    "\n",
    "    # Extracts data from PostgreSQL database\n",
    "    df = spark.read.jdbc(\n",
    "        url=jdbc_url,\n",
    "        table=table_name,\n",
    "        properties=properties,\n",
    "    )\n",
    "    \n",
    "    return df, spark"
   ]
  },
  {
   "cell_type": "code",
   "execution_count": 38,
   "metadata": {},
   "outputs": [
    {
     "name": "stdout",
     "output_type": "stream",
     "text": [
      "Number of rows: 2009740\n",
      "root\n",
      " |-- id: integer (nullable = true)\n",
      " |-- schoolyear: string (nullable = true)\n",
      " |-- semester: string (nullable = true)\n",
      " |-- code: string (nullable = true)\n",
      " |-- description: string (nullable = true)\n",
      " |-- credits: integer (nullable = true)\n",
      " |-- instructor_id: integer (nullable = true)\n",
      " |-- instructor: string (nullable = true)\n",
      " |-- srcode: integer (nullable = true)\n",
      " |-- fullname: string (nullable = true)\n",
      " |-- campus: string (nullable = true)\n",
      " |-- college: string (nullable = true)\n",
      " |-- program: string (nullable = true)\n",
      " |-- grade_final: string (nullable = true)\n",
      " |-- grade_reexam: string (nullable = true)\n",
      " |-- status: string (nullable = true)\n",
      "\n"
     ]
    }
   ],
   "source": [
    "# Extract data once\n",
    "raw_df, spark = extract(jdbc_url, \"raw_student_grades\", properties, postgres_driver_path)\n",
    "\n",
    "# Check the number of rows\n",
    "row_count = raw_df.count()\n",
    "print(f'Number of rows: {row_count}')\n",
    "\n",
    "# Print schema\n",
    "raw_df.printSchema()"
   ]
  },
  {
   "cell_type": "code",
   "execution_count": 39,
   "metadata": {},
   "outputs": [
    {
     "name": "stdout",
     "output_type": "stream",
     "text": [
      "+-----+----------+--------+----------+--------------------+-------+-------------+--------------+------+------------------+---------+--------------------+--------------------+-----------+------------+------+\n",
      "|   id|schoolyear|semester|      code|         description|credits|instructor_id|    instructor|srcode|          fullname|   campus|             college|             program|grade_final|grade_reexam|status|\n",
      "+-----+----------+--------+----------+--------------------+-------+-------------+--------------+------+------------------+---------+--------------------+--------------------+-----------+------------+------+\n",
      "|29374| 2023-2024|  SUMMER|  PetE 404|Reservoir Petroph...|      4|         3999|LN3999, FN3999|124744|LN124744, FN124744|ALANGILAN|College of Engine...|BS Petroleum Engi...|        INC|        3.00|PASSED|\n",
      "|29375| 2022-2023|   FIRST|   GEd 101|Understanding the...|      3|         5320|LN5320, FN5320|124744|LN124744, FN124744|ALANGILAN|College of Engine...|BS Petroleum Engi...|       1.25|           -|PASSED|\n",
      "|29376| 2023-2024|   FIRST|  ENGG 403|Computer-Aided De...|      1|         1004|LN1004, FN1004|127847|LN127847, FN127847|ALANGILAN|College of Engine...|BS Electronics En...|       1.75|           -|PASSED|\n",
      "|29377| 2023-2024|   FIRST|    PE 103|Individual and Du...|      2|          899|  LN899, FN899|127847|LN127847, FN127847|ALANGILAN|College of Engine...|BS Electronics En...|       1.50|           -|PASSED|\n",
      "|29378| 2023-2024|   FIRST|   ECE 402|Programming of El...|      1|         2598|LN2598, FN2598|127847|LN127847, FN127847|ALANGILAN|College of Engine...|BS Electronics En...|       1.25|           -|PASSED|\n",
      "|29379| 2023-2024|   FIRST|  MATH 401|Differential Calc...|      3|         3633|LN3633, FN3633|127847|LN127847, FN127847|ALANGILAN|College of Engine...|BS Electronics En...|       1.75|           -|PASSED|\n",
      "|29380| 2023-2024|   FIRST|  Litr 102|    ASEAN Literature|      3|         3091|LN3091, FN3091|127847|LN127847, FN127847|ALANGILAN|College of Engine...|BS Electronics En...|       1.50|           -|PASSED|\n",
      "|29381| 2022-2023|  SUMMER|   SCI 402|      Modern Biology|      3|         4075|LN4075, FN4075|127847|LN127847, FN127847|ALANGILAN|College of Engine...|BS Electronics En...|       2.50|           -|PASSED|\n",
      "|29382| 2023-2024|   FIRST|  Fili 102|Filipino sa Iba't...|      3|         4156|LN4156, FN4156|127847|LN127847, FN127847|ALANGILAN|College of Engine...|BS Electronics En...|       1.50|           -|PASSED|\n",
      "|29383| 2023-2024|   FIRST|  ENGG 413|Environmental Sci...|      3|         4595|LN4595, FN4595|127847|LN127847, FN127847|ALANGILAN|College of Engine...|BS Electronics En...|       2.00|           -|PASSED|\n",
      "|29384| 2023-2024|   FIRST|  ENGG 411|Basic Occupationa...|      3|         5508|LN5508, FN5508|127847|LN127847, FN127847|ALANGILAN|College of Engine...|BS Electronics En...|       1.25|           -|PASSED|\n",
      "|29385| 2022-2023|  SUMMER|   GEd 103|Life and Works of...|      3|         1660|LN1660, FN1660|127847|LN127847, FN127847|ALANGILAN|College of Engine...|BS Electronics En...|       1.50|           -|PASSED|\n",
      "|29386| 2022-2023|  SUMMER|   GEd 107|              Ethics|      3|         2497|LN2497, FN2497|127847|LN127847, FN127847|ALANGILAN|College of Engine...|BS Electronics En...|       1.25|           -|PASSED|\n",
      "|29387| 2022-2023|  SECOND|NSTP 121CW|NSTP - Civic Welf...|      3|         1088|LN1088, FN1088|127847|LN127847, FN127847|ALANGILAN|College of Engine...|BS Electronics En...|       1.25|           -|PASSED|\n",
      "|29388| 2023-2024|  SECOND|    PE 104|         Team Sports|      2|          899|  LN899, FN899|127847|LN127847, FN127847|ALANGILAN|College of Engine...|BS Electronics En...|       1.25|           -|PASSED|\n",
      "|29389| 2022-2023|   FIRST|   GEd 101|Understanding the...|      3|         2146|LN2146, FN2146|127847|LN127847, FN127847|ALANGILAN|College of Engine...|BS Electronics En...|       3.00|           -|PASSED|\n",
      "|29390| 2023-2024|  SECOND|  MATH 402|   Integral Calculus|      3|         1566|LN1566, FN1566|127847|LN127847, FN127847|ALANGILAN|College of Engine...|BS Electronics En...|       5.00|           -|FAILED|\n",
      "|29391| 2023-2024|  SECOND|   SCI 403|           Physics 1|      4|         2083|LN2083, FN2083|127847|LN127847, FN127847|ALANGILAN|College of Engine...|BS Electronics En...|        INC|        5.00|FAILED|\n",
      "|29392| 2022-2023|  SECOND|   GEd 104|The Contemporary ...|      3|         1660|LN1660, FN1660|127847|LN127847, FN127847|ALANGILAN|College of Engine...|BS Electronics En...|       1.50|           -|PASSED|\n",
      "|29393| 2022-2023|  SECOND|   GEd 108|    Art Appreciation|      3|         1240|LN1240, FN1240|127847|LN127847, FN127847|ALANGILAN|College of Engine...|BS Electronics En...|       1.75|           -|PASSED|\n",
      "+-----+----------+--------+----------+--------------------+-------+-------------+--------------+------+------------------+---------+--------------------+--------------------+-----------+------------+------+\n",
      "only showing top 20 rows\n",
      "\n"
     ]
    }
   ],
   "source": [
    "raw_df.show()"
   ]
  },
  {
   "cell_type": "code",
   "execution_count": 40,
   "metadata": {},
   "outputs": [
    {
     "name": "stdout",
     "output_type": "stream",
     "text": [
      "Total instances: 2009740\n"
     ]
    }
   ],
   "source": [
    "total_count = raw_df.count()\n",
    "print(f\"Total instances: {total_count}\")"
   ]
  },
  {
   "cell_type": "code",
   "execution_count": 41,
   "metadata": {},
   "outputs": [],
   "source": [
    "from pyspark.sql.functions import col, upper\n",
    "\n",
    "# Uppercase all supposed to be uppercase data just to be sure\n",
    "df = raw_df.withColumn('grade_final', upper(col('grade_final')))\\\n",
    "                .withColumn('campus', upper(col('campus')))\\\n",
    "                .withColumn('semester', upper(col('semester')))\\\n",
    "                .withColumn('schoolyear', upper(col('schoolyear'))       \n",
    ")"
   ]
  },
  {
   "cell_type": "markdown",
   "metadata": {},
   "source": [
    "CHECK FOR TYPO ERROR AND UNWANTED VALUES UNDER semester COLUMN"
   ]
  },
  {
   "cell_type": "code",
   "execution_count": 42,
   "metadata": {},
   "outputs": [
    {
     "name": "stdout",
     "output_type": "stream",
     "text": [
      "+---------------+----------+\n",
      "|       semester|occurences|\n",
      "+---------------+----------+\n",
      "|          THURD|         1|\n",
      "|          THIRD|        10|\n",
      "|         SECOND|    770300|\n",
      "|           1.75|         1|\n",
      "|        SUMMER2|        43|\n",
      "|           1.25|         1|\n",
      "|SECOND SEMESTER|         1|\n",
      "|       SECOND_X|         4|\n",
      "|         SUMMER|     56200|\n",
      "|             --|         1|\n",
      "|          FIRST|   1183177|\n",
      "|THIRD TRIMESTER|         1|\n",
      "+---------------+----------+\n",
      "\n"
     ]
    }
   ],
   "source": [
    "df.createOrReplaceTempView('sample_data_ai_with_id')\n",
    "show_data = spark.sql(\"\"\"SELECT semester, COUNT(*) AS occurences \n",
    "                         FROM sample_data_ai_with_id \n",
    "                         GROUP BY semester\"\"\")\n",
    "show_data.show(22)"
   ]
  },
  {
   "cell_type": "markdown",
   "metadata": {},
   "source": [
    "FILTER TYPO ERRORS AND INSTANCES FOR SECOND SEMESTER, AND REMOVE ROWS WITH INVALID semester VALUES"
   ]
  },
  {
   "cell_type": "code",
   "execution_count": 43,
   "metadata": {},
   "outputs": [],
   "source": [
    "from pyspark.sql.functions import when\n",
    "\n",
    "valid_semesters = [\"FIRST\", \"SECOND\", \"SUMMER\", \"SUMMER2\"]\n",
    "df = df.withColumn(\n",
    "    \"semester\",\n",
    "    when(df[\"semester\"].isin(\"SECOND_X\", \"SECOND SEMESTER\"), \"SECOND\")\n",
    "    .when(df[\"semester\"].isin(valid_semesters), df[\"semester\"])\n",
    "    .otherwise(None)  # Assign None to invalid semesters so they can be filtered\n",
    ").filter(col(\"semester\").isNotNull())  # Remove rows where semester is None (invalid)"
   ]
  },
  {
   "cell_type": "code",
   "execution_count": 44,
   "metadata": {},
   "outputs": [
    {
     "name": "stdout",
     "output_type": "stream",
     "text": [
      "+--------+----------+\n",
      "|semester|occurences|\n",
      "+--------+----------+\n",
      "|  SECOND|    770305|\n",
      "| SUMMER2|        43|\n",
      "|  SUMMER|     56200|\n",
      "|   FIRST|   1183177|\n",
      "+--------+----------+\n",
      "\n"
     ]
    }
   ],
   "source": [
    "df.createOrReplaceTempView('sample_data_ai_with_id')\n",
    "show_data = spark.sql(\"\"\"SELECT semester, COUNT(*) AS occurences \n",
    "                         FROM sample_data_ai_with_id \n",
    "                         GROUP BY semester\"\"\")\n",
    "show_data.show()"
   ]
  },
  {
   "cell_type": "markdown",
   "metadata": {},
   "source": [
    "CHECK FOR SPECIAL CHARACTERS AND CATEGORICAL DATA IN grade_final COLUMN"
   ]
  },
  {
   "cell_type": "code",
   "execution_count": 45,
   "metadata": {},
   "outputs": [
    {
     "name": "stdout",
     "output_type": "stream",
     "text": [
      "+-----------+----------+\n",
      "|grade_final|occurences|\n",
      "+-----------+----------+\n",
      "|     PASSED|       255|\n",
      "|          P|        27|\n",
      "|         OG|      1581|\n",
      "|        INC|     60402|\n",
      "|          F|         1|\n",
      "|        DRP|      2907|\n",
      "|       5.00|     15360|\n",
      "|       4.00|       142|\n",
      "|       3.50|         1|\n",
      "|       3.00|    118143|\n",
      "|       2.75|     90548|\n",
      "|       2.50|    177289|\n",
      "|       2.25|    160248|\n",
      "|       2.00|    289305|\n",
      "|       1.75|    259871|\n",
      "|       1.50|    452501|\n",
      "|       1.25|    317688|\n",
      "|       1.00|     63424|\n",
      "|         --|         2|\n",
      "|          -|        19|\n",
      "|        -- |        11|\n",
      "+-----------+----------+\n",
      "\n"
     ]
    }
   ],
   "source": [
    "df.createOrReplaceTempView('sample_data_ai_with_id')\n",
    "show_data = spark.sql(\"\"\"SELECT grade_final, COUNT(*) AS occurences \n",
    "                         FROM sample_data_ai_with_id \n",
    "                         GROUP BY grade_final \n",
    "                         ORDER BY grade_final DESC\"\"\")\n",
    "show_data.show(22)"
   ]
  },
  {
   "cell_type": "markdown",
   "metadata": {},
   "source": [
    "REMOVE WHITE SPACES FROM ALL THE COLUMNS"
   ]
  },
  {
   "cell_type": "code",
   "execution_count": 46,
   "metadata": {},
   "outputs": [],
   "source": [
    "from pyspark.sql.functions import trim\n",
    "\n",
    "df = df.withColumn('schoolyear', trim('schoolyear'))\\\n",
    ".withColumn('semester', trim('semester'))\\\n",
    ".withColumn('code', trim('code'))\\\n",
    ".withColumn('description', trim('description'))\\\n",
    ".withColumn('credits', trim('credits'))\\\n",
    ".withColumn('instructor_id', trim('instructor_id'))\\\n",
    ".withColumn('instructor', trim('instructor'))\\\n",
    ".withColumn('srcode', trim('srcode'))\\\n",
    ".withColumn('fullname', trim('fullname'))\\\n",
    ".withColumn('campus', trim('campus'))\\\n",
    ".withColumn('college', trim('college'))\\\n",
    ".withColumn('program', trim('program'))\\\n",
    ".withColumn('grade_final', trim('grade_final'))\\\n",
    ".withColumn('grade_reexam', trim('grade_reexam'))\\\n",
    ".withColumn('status', trim('status'))\n",
    "\n"
   ]
  },
  {
   "cell_type": "code",
   "execution_count": 47,
   "metadata": {},
   "outputs": [
    {
     "name": "stdout",
     "output_type": "stream",
     "text": [
      "+-----+----------+--------+------------+--------------------+-------+-------------+--------------+------+------------------+------+--------------------+--------------+-----------+------------+------+\n",
      "|   id|schoolyear|semester|        code|         description|credits|instructor_id|    instructor|srcode|          fullname|campus|             college|       program|grade_final|grade_reexam|status|\n",
      "+-----+----------+--------+------------+--------------------+-------+-------------+--------------+------+------------------+------+--------------------+--------------+-----------+------------+------+\n",
      "|38905| 2023-2024|  SECOND|      CA 101|Institutional Cor...|      3|         4019|LN4019, FN4019|135361|LN135361, FN135361|    PB|College of Arts a...|BS Criminology|       2.50|           -|PASSED|\n",
      "|38906| 2023-2024|  SECOND|    CRIM 104|Human Behavior an...|      3|         4019|LN4019, FN4019|135361|LN135361, FN135361|    PB|College of Arts a...|BS Criminology|       1.75|           -|PASSED|\n",
      "|38907| 2022-2023|   FIRST|    Fili 101|Kontekstwalisadon...|      3|         2660|LN2660, FN2660|135361|LN135361, FN135361|    PB|College of Arts a...|BS Criminology|       1.50|           -|PASSED|\n",
      "|38908| 2022-2023|   FIRST|     GEd 107|              Ethics|      3|         4166|LN4166, FN4166|135361|LN135361, FN135361|    PB|College of Arts a...|BS Criminology|       1.75|           -|PASSED|\n",
      "|38909| 2023-2024|  SECOND|     GEd 109|Science, Technolo...|      3|         3982|LN3982, FN3982|135361|LN135361, FN135361|    PB|College of Arts a...|BS Criminology|       2.00|           -|PASSED|\n",
      "|38910| 2023-2024|  SECOND|     CLJ 102|Criminal Law (Boo...|      3|         3097|LN3097, FN3097|135361|LN135361, FN135361|    PB|College of Arts a...|BS Criminology|       3.00|           -|PASSED|\n",
      "|38911| 2023-2024|  SECOND|     CDI 103|Technical English...|      3|         3115|LN3115, FN3115|135361|LN135361, FN135361|    PB|College of Arts a...|BS Criminology|       2.00|           -|PASSED|\n",
      "|38912| 2022-2023|   FIRST|DEF TACT 101|Fundamentals of M...|      2|         4020|LN4020, FN4020|135361|LN135361, FN135361|    PB|College of Arts a...|BS Criminology|       1.50|           -|PASSED|\n",
      "|38913| 2022-2023|   FIRST|     GEd 108|    Art Appreciation|      3|         4191|LN4191, FN4191|135361|LN135361, FN135361|    PB|College of Arts a...|BS Criminology|       1.75|           -|PASSED|\n",
      "|38914| 2022-2023|   FIRST|    Litr 101|Sosyedad at Liter...|      3|         3982|LN3982, FN3982|135361|LN135361, FN135361|    PB|College of Arts a...|BS Criminology|       1.75|           -|PASSED|\n",
      "|38915| 2023-2024|  SECOND|     GEd 104|The Contemporary ...|      3|         4166|LN4166, FN4166|135361|LN135361, FN135361|    PB|College of Arts a...|BS Criminology|       1.50|           -|PASSED|\n",
      "|38916| 2024-2025|   FIRST|     CLJ 103|Criminal Law (Boo...|      4|         1357|LN1357, FN1357|135361|LN135361, FN135361|    PB|College of Crimin...|BS Criminology|       2.25|           -|PASSED|\n",
      "|38917| 2024-2025|   FIRST|FORENSIC 102|Personal Identifi...|      3|          790|  LN790, FN790|135361|LN135361, FN135361|    PB|College of Crimin...|BS Criminology|       2.25|           -|PASSED|\n",
      "|38918| 2024-2025|   FIRST|    CRIM 106|Criminological Re...|      3|         1837|LN1837, FN1837|135361|LN135361, FN135361|    PB|College of Crimin...|BS Criminology|       1.50|           -|PASSED|\n",
      "|38919| 2023-2024|  SUMMER|     OJT 103|On-the-Job Traini...|      3|         4017|LN4017, FN4017|135361|LN135361, FN135361|    PB|College of Arts a...|BS Criminology|       1.50|           -|PASSED|\n",
      "|38920| 2024-2025|   FIRST|     CDI 104|Specialized Crime...|      3|         4017|LN4017, FN4017|135361|LN135361, FN135361|    PB|College of Crimin...|BS Criminology|       1.50|           -|PASSED|\n",
      "|38921| 2024-2025|   FIRST|DEF TACT 103|First Aid and Wat...|      2|         4017|LN4017, FN4017|135361|LN135361, FN135361|    PB|College of Crimin...|BS Criminology|       1.50|           -|PASSED|\n",
      "|38922| 2024-2025|   FIRST|      CA 102|Non-Institutional...|      3|         4019|LN4019, FN4019|135361|LN135361, FN135361|    PB|College of Crimin...|BS Criminology|       1.75|           -|PASSED|\n",
      "|38923| 2024-2025|   FIRST|    CRIM 105|Juvenile Delinque...|      3|         4020|LN4020, FN4020|135361|LN135361, FN135361|    PB|College of Crimin...|BS Criminology|       2.00|           -|PASSED|\n",
      "|38924| 2022-2023|  SECOND|    Litr 102|    ASEAN Literature|      3|          362|  LN362, FN362|135361|LN135361, FN135361|    PB|College of Arts a...|BS Criminology|       2.00|           -|PASSED|\n",
      "|38925| 2022-2023|  SECOND|     GEd 102|Mathematics in th...|      3|         2082|LN2082, FN2082|135361|LN135361, FN135361|    PB|College of Arts a...|BS Criminology|       2.25|           -|PASSED|\n",
      "|38926| 2022-2023|  SECOND|  NSTP 121RO|NSTP - Reserve Of...|      3|         2485|LN2485, FN2485|135361|LN135361, FN135361|    PB|College of Arts a...|BS Criminology|       2.00|           -|PASSED|\n",
      "+-----+----------+--------+------------+--------------------+-------+-------------+--------------+------+------------------+------+--------------------+--------------+-----------+------------+------+\n",
      "only showing top 22 rows\n",
      "\n"
     ]
    }
   ],
   "source": [
    "df.createOrReplaceTempView('sample_data_ai_with_id')\n",
    "\n",
    "show_data = spark.sql(\"SELECT * FROM sample_data_ai_with_id\")\n",
    "show_data.show(22)"
   ]
  },
  {
   "cell_type": "code",
   "execution_count": 48,
   "metadata": {},
   "outputs": [
    {
     "name": "stdout",
     "output_type": "stream",
     "text": [
      "+-----------+----------+\n",
      "| schoolyear|occurences|\n",
      "+-----------+----------+\n",
      "|  2024-2025|    392358|\n",
      "|2023-2024_X|         4|\n",
      "|  2023-2024|    698500|\n",
      "|  2022-2023|    551385|\n",
      "|  2021-2022|    306076|\n",
      "|  2020-2021|     45721|\n",
      "|  2019-2022|         1|\n",
      "|  2019-2020|     10394|\n",
      "|  2018-2019|      2550|\n",
      "|  2017-2018|       759|\n",
      "|  2016-2017|       606|\n",
      "|  2015-2016|       681|\n",
      "|  2014-2015|       266|\n",
      "|  2013-2014|       103|\n",
      "|  2012-2013|        99|\n",
      "|  2011-2012|        56|\n",
      "|  2010-2011|        36|\n",
      "|  2009-2010|        21|\n",
      "|  2008-2009|        12|\n",
      "|  2007-2008|        17|\n",
      "|  2006-2007|         2|\n",
      "|  2005-2006|         3|\n",
      "|  2004-2005|        23|\n",
      "|       2004|         1|\n",
      "|  2003-2004|        23|\n",
      "|  2002-2003|        12|\n",
      "|  2001-2002|         4|\n",
      "|  2000-2001|         8|\n",
      "|  1999-2000|         4|\n",
      "+-----------+----------+\n",
      "\n"
     ]
    }
   ],
   "source": [
    "df.createOrReplaceTempView('sample_data_ai_with_id')\n",
    "\n",
    "show_data = spark.sql(\"\"\"SELECT schoolyear, COUNT(*) AS occurences \n",
    "                         FROM sample_data_ai_with_id \n",
    "                         GROUP BY schoolyear \n",
    "                         ORDER BY schoolyear DESC\"\"\")\n",
    "\n",
    "show_data.show(50)"
   ]
  },
  {
   "cell_type": "markdown",
   "metadata": {},
   "source": [
    "FILTERING schoolyear AND REMOVE/REPLACE UNWANTED VALUES"
   ]
  },
  {
   "cell_type": "code",
   "execution_count": 49,
   "metadata": {},
   "outputs": [],
   "source": [
    "from pyspark.sql.functions import regexp_extract, col\n",
    "\n",
    "# 1. Extract the YYYY-YYYY pattern (handles cases with trailing _X)\n",
    "df = df.withColumn(\n",
    "    \"schoolyear\", regexp_extract(col(\"schoolyear\"), r\"(\\d{4}-\\d{4})\", 1)\n",
    ")\n",
    "\n",
    "# 2. Filter out rows WITHOUT the YYYY-YYYY pattern\n",
    "schoolyear_regex = r\"^\\d{4}-\\d{4}$\"  # Regex for exact YYYY-YYYY format\n",
    "df = df.filter(col(\"schoolyear\").rlike(schoolyear_regex))  # Keep only matching rows"
   ]
  },
  {
   "cell_type": "code",
   "execution_count": 50,
   "metadata": {},
   "outputs": [
    {
     "name": "stdout",
     "output_type": "stream",
     "text": [
      "+----------+----------+\n",
      "|schoolyear|occurences|\n",
      "+----------+----------+\n",
      "| 2024-2025|    392358|\n",
      "| 2023-2024|    698504|\n",
      "| 2022-2023|    551385|\n",
      "| 2021-2022|    306076|\n",
      "| 2020-2021|     45721|\n",
      "| 2019-2022|         1|\n",
      "| 2019-2020|     10394|\n",
      "| 2018-2019|      2550|\n",
      "| 2017-2018|       759|\n",
      "| 2016-2017|       606|\n",
      "| 2015-2016|       681|\n",
      "| 2014-2015|       266|\n",
      "| 2013-2014|       103|\n",
      "| 2012-2013|        99|\n",
      "| 2011-2012|        56|\n",
      "| 2010-2011|        36|\n",
      "| 2009-2010|        21|\n",
      "| 2008-2009|        12|\n",
      "| 2007-2008|        17|\n",
      "| 2006-2007|         2|\n",
      "| 2005-2006|         3|\n",
      "| 2004-2005|        23|\n",
      "| 2003-2004|        23|\n",
      "| 2002-2003|        12|\n",
      "| 2001-2002|         4|\n",
      "| 2000-2001|         8|\n",
      "| 1999-2000|         4|\n",
      "+----------+----------+\n",
      "\n"
     ]
    }
   ],
   "source": [
    "df.createOrReplaceTempView('sample_data_ai_with_id')\n",
    "\n",
    "show_data = spark.sql(\"\"\"SELECT schoolyear, COUNT(*) AS occurences \n",
    "                         FROM sample_data_ai_with_id \n",
    "                         GROUP BY schoolyear \n",
    "                         ORDER BY schoolyear DESC\"\"\")\n",
    "\n",
    "show_data.show(50)"
   ]
  },
  {
   "cell_type": "code",
   "execution_count": 51,
   "metadata": {},
   "outputs": [
    {
     "name": "stdout",
     "output_type": "stream",
     "text": [
      "+-----------+------------+----------+\n",
      "|grade_final|grade_reexam|occurences|\n",
      "+-----------+------------+----------+\n",
      "|       1.50|           -|    452457|\n",
      "|       1.25|           -|    317624|\n",
      "|       2.00|           -|    289284|\n",
      "|       1.75|           -|    259850|\n",
      "|       2.50|           -|    177260|\n",
      "|       2.25|           -|    160236|\n",
      "|       3.00|           -|    118116|\n",
      "|       2.75|           -|     90523|\n",
      "|       1.00|           -|     63412|\n",
      "|        INC|        3.00|     35140|\n",
      "|        INC|        5.00|     16175|\n",
      "|       5.00|           -|     15352|\n",
      "|        DRP|           -|      2902|\n",
      "|        INC|           -|      1867|\n",
      "|         OG|           -|      1581|\n",
      "|        INC|        2.50|      1469|\n",
      "|        INC|        2.75|      1437|\n",
      "|        INC|        2.00|      1294|\n",
      "|        INC|        2.25|       904|\n",
      "|        INC|        1.75|       893|\n",
      "|        INC|        1.50|       847|\n",
      "|        INC|        1.25|       310|\n",
      "|     PASSED|           -|       255|\n",
      "|       4.00|        3.00|       117|\n",
      "|       1.25|          --|        62|\n",
      "|        INC|        1.00|        51|\n",
      "|       1.50|          --|        37|\n",
      "|          P|           -|        27|\n",
      "|       4.00|        5.00|        25|\n",
      "|       2.50|        null|        22|\n",
      "|       3.00|        null|        18|\n",
      "|       1.75|          --|        15|\n",
      "|          -|           -|        15|\n",
      "|       2.75|        null|        14|\n",
      "|         --|          --|        13|\n",
      "|        INC|          --|        12|\n",
      "|       1.00|          --|        12|\n",
      "|       2.00|        null|        11|\n",
      "|       3.00|          --|         9|\n",
      "|       2.25|        null|         9|\n",
      "|       2.75|          --|         9|\n",
      "|       2.00|          --|         7|\n",
      "|       2.50|          --|         7|\n",
      "|       5.00|          --|         7|\n",
      "|       1.50|        null|         6|\n",
      "|        DRP|          --|         5|\n",
      "|       1.75|        null|         5|\n",
      "|       2.25|          --|         3|\n",
      "|        INC|        null|         3|\n",
      "|       2.00|        1.50|         2|\n",
      "|          -|        1.00|         1|\n",
      "|       1.75|         INC|         1|\n",
      "|       3.50|           -|         1|\n",
      "|       1.25|        null|         1|\n",
      "|       1.50|        null|         1|\n",
      "|       2.75|        1.50|         1|\n",
      "|       5.00|        null|         1|\n",
      "|          -|        1.50|         1|\n",
      "|          -|        1.25|         1|\n",
      "|       2.00|        null|         1|\n",
      "|       2.75|         INC|         1|\n",
      "|          F|           -|         1|\n",
      "|          -|        2.00|         1|\n",
      "+-----------+------------+----------+\n",
      "\n"
     ]
    }
   ],
   "source": [
    "df.createOrReplaceTempView('sample_data_ai_with_id')\n",
    "show_data = spark.sql(\"\"\"SELECT grade_final, grade_reexam, COUNT(*) AS occurences \n",
    "                         FROM sample_data_ai_with_id \n",
    "                         GROUP BY grade_final, grade_reexam \n",
    "                         ORDER BY occurences DESC\"\"\")\n",
    "show_data.show(80)"
   ]
  },
  {
   "cell_type": "code",
   "execution_count": 52,
   "metadata": {},
   "outputs": [
    {
     "name": "stdout",
     "output_type": "stream",
     "text": [
      "Total instances: 2009724\n"
     ]
    }
   ],
   "source": [
    "total_count = df.count()\n",
    "print(f\"Total instances: {total_count}\")"
   ]
  },
  {
   "cell_type": "markdown",
   "metadata": {},
   "source": [
    "CREATING grade_numeric and grade_classification COLUMNS and inserting values accordingly"
   ]
  },
  {
   "cell_type": "code",
   "execution_count": 53,
   "metadata": {},
   "outputs": [],
   "source": [
    "from pyspark.sql.functions import when, col, regexp_extract, lit, coalesce, isnull, format_number\n",
    "\n",
    "# 1. Filter out rows with invalid grade_final values (excluding \"-\", \"--\")\n",
    "invalid_grades = [\"PASSED\", \"P\", \"OG\", \"F\"]\n",
    "df = df.filter(~col(\"grade_final\").isin(invalid_grades))\n",
    "\n",
    "# 2. Create the 'grade_numeric' column\n",
    "df = df.withColumn(\n",
    "    \"grade_numeric\",\n",
    "    when(\n",
    "        (df[\"grade_reexam\"].isNotNull()) & (~df[\"grade_reexam\"].isin(invalid_grades)) & (df[\"grade_reexam\"].rlike(r\"^\\d+\\.?\\d*$\")),\n",
    "        regexp_extract(df[\"grade_reexam\"], r\"(\\d+\\.?\\d*)\", 1)\n",
    "    ).when(\n",
    "        (~df[\"grade_final\"].isin(\"DRP\", \"INC\")) & (df[\"grade_final\"].rlike(r\"^\\d+\\.?\\d*$\")),\n",
    "        regexp_extract(df[\"grade_final\"], r\"(\\d+\\.?\\d*)\", 1)\n",
    "    ).when(\n",
    "       (df[\"grade_final\"] == \"INC\") & (df[\"grade_reexam\"].isNotNull()) & (~df[\"grade_reexam\"].isin(invalid_grades)) & (df[\"grade_reexam\"].rlike(r\"^\\d+\\.?\\d*$\")),\n",
    "        regexp_extract(df[\"grade_reexam\"], r\"(\\d+\\.?\\d*)\", 1)\n",
    "    ).when(df[\"grade_final\"] == \"DRP\", 0\n",
    "    )\n",
    "    .otherwise(None)\n",
    ").withColumn(\"grade_numeric\", col(\"grade_numeric\").cast(\"double\")).fillna({\"grade_numeric\": 5})\n",
    "\n",
    "\n",
    "# 3. Filter valid numeric grades\n",
    "valid_numeric_grades = ['1.00','1.25','1.50','1.75','2.00','2.25','2.50','2.75','3.00','4.00','5.00']\n",
    "df = df.filter(\n",
    "    when(~df[\"grade_numeric\"].isin(0.0), df[\"grade_numeric\"].isin([float(x) for x in valid_numeric_grades])).otherwise(True)\n",
    ")\n",
    "\n",
    "\n",
    "# Format grade_numeric to two decimal places x.xx\n",
    "df = df.withColumn(\"grade_numeric\", format_number(\"grade_numeric\", 2))\n",
    "\n",
    "# 4. Create the 'grade_classification' column\n",
    "df = df.withColumn(\n",
    "    \"grade_classification\",\n",
    "    when(\n",
    "        (df[\"grade_final\"].rlike(r\"^\\d+\\.\\d+$\")) & (isnull(df[\"grade_reexam\"]) | df[\"grade_reexam\"].isin(invalid_grades)),\n",
    "        'NORMAL')\n",
    "    .when(\n",
    "        (df[\"grade_final\"].isin([\"-\", \"--\"])) & (df[\"grade_reexam\"].rlike(r\"^\\d+\\.\\d+$\")),\n",
    "        'NORMAL')\n",
    "    .when(\n",
    "        (df[\"grade_final\"] == \"INC\") & (df[\"grade_reexam\"].rlike(r\"^\\d+\\.\\d+$\")),\n",
    "        'INC')\n",
    "    .when(\n",
    "        df[\"grade_final\"] == \"DRP\",\n",
    "        'DROP')\n",
    "    .when(\n",
    "        ((df[\"grade_final\"].rlike(r\"^\\d+\\.\\d+$\")) & (df[\"grade_reexam\"] == \"INC\")) |\n",
    "        ((df[\"grade_final\"].rlike(r\"^\\d+\\.\\d+$\")) & (df[\"grade_reexam\"].isin(invalid_grades))),\n",
    "        'INC')\n",
    "    .when(\n",
    "        (df[\"grade_final\"].rlike(r\"^\\d+\\.\\d+$\")) & (~df[\"grade_reexam\"].rlike(r\"^\\d+\\.\\d+$\")),\n",
    "        'NORMAL')\n",
    "    .when(\n",
    "        (df[\"grade_final\"].rlike(r\"^\\d+\\.\\d+$\")) & (df[\"grade_reexam\"].rlike(r\"^\\d+\\.\\d+$\")) &\n",
    "        (col(\"grade_final\").cast(\"double\") > col(\"grade_reexam\").cast(\"double\")),\n",
    "        'IMPROVED(REEXAM)')\n",
    "    .when(\n",
    "        (df[\"grade_final\"].rlike(r\"^\\d+\\.\\d+$\")) & (df[\"grade_reexam\"].rlike(r\"^\\d+\\.\\d+$\")) &\n",
    "        (col(\"grade_final\").cast(\"double\") < col(\"grade_reexam\").cast(\"double\")),\n",
    "        'FAILED(REEXAM)')\n",
    "            \n",
    "    .otherwise(\"INVALID\")\n",
    ")\n"
   ]
  },
  {
   "cell_type": "code",
   "execution_count": 54,
   "metadata": {},
   "outputs": [
    {
     "name": "stdout",
     "output_type": "stream",
     "text": [
      "root\n",
      " |-- id: integer (nullable = true)\n",
      " |-- schoolyear: string (nullable = true)\n",
      " |-- semester: string (nullable = true)\n",
      " |-- code: string (nullable = true)\n",
      " |-- description: string (nullable = true)\n",
      " |-- credits: string (nullable = true)\n",
      " |-- instructor_id: string (nullable = true)\n",
      " |-- instructor: string (nullable = true)\n",
      " |-- srcode: string (nullable = true)\n",
      " |-- fullname: string (nullable = true)\n",
      " |-- campus: string (nullable = true)\n",
      " |-- college: string (nullable = true)\n",
      " |-- program: string (nullable = true)\n",
      " |-- grade_final: string (nullable = true)\n",
      " |-- grade_reexam: string (nullable = true)\n",
      " |-- status: string (nullable = true)\n",
      " |-- grade_numeric: string (nullable = true)\n",
      " |-- grade_classification: string (nullable = false)\n",
      "\n"
     ]
    }
   ],
   "source": [
    "df.printSchema()"
   ]
  },
  {
   "cell_type": "code",
   "execution_count": 55,
   "metadata": {},
   "outputs": [
    {
     "name": "stdout",
     "output_type": "stream",
     "text": [
      "+-----------+------------+-------------+--------------------+----------+\n",
      "|grade_final|grade_reexam|grade_numeric|grade_classification|occurences|\n",
      "+-----------+------------+-------------+--------------------+----------+\n",
      "|       1.50|           -|         1.50|              NORMAL|    452457|\n",
      "|       1.25|           -|         1.25|              NORMAL|    317624|\n",
      "|       2.00|           -|         2.00|              NORMAL|    289284|\n",
      "|       1.75|           -|         1.75|              NORMAL|    259850|\n",
      "|       2.50|           -|         2.50|              NORMAL|    177260|\n",
      "|       2.25|           -|         2.25|              NORMAL|    160236|\n",
      "|       3.00|           -|         3.00|              NORMAL|    118116|\n",
      "|       2.75|           -|         2.75|              NORMAL|     90523|\n",
      "|       1.00|           -|         1.00|              NORMAL|     63412|\n",
      "|        INC|        3.00|         3.00|                 INC|     35140|\n",
      "|        INC|        5.00|         5.00|                 INC|     16175|\n",
      "|       5.00|           -|         5.00|              NORMAL|     15352|\n",
      "|        DRP|           -|         0.00|                DROP|      2902|\n",
      "|        INC|           -|         5.00|             INVALID|      1867|\n",
      "|        INC|        2.50|         2.50|                 INC|      1469|\n",
      "|        INC|        2.75|         2.75|                 INC|      1437|\n",
      "|        INC|        2.00|         2.00|                 INC|      1294|\n",
      "|        INC|        2.25|         2.25|                 INC|       904|\n",
      "|        INC|        1.75|         1.75|                 INC|       893|\n",
      "|        INC|        1.50|         1.50|                 INC|       847|\n",
      "|        INC|        1.25|         1.25|                 INC|       310|\n",
      "|       4.00|        3.00|         3.00|    IMPROVED(REEXAM)|       117|\n",
      "|       1.25|          --|         1.25|              NORMAL|        62|\n",
      "|        INC|        1.00|         1.00|                 INC|        51|\n",
      "|       1.50|          --|         1.50|              NORMAL|        37|\n",
      "|       4.00|        5.00|         5.00|      FAILED(REEXAM)|        25|\n",
      "|       2.50|        null|         2.50|              NORMAL|        22|\n",
      "|       3.00|        null|         3.00|              NORMAL|        18|\n",
      "|          -|           -|         5.00|             INVALID|        15|\n",
      "|       1.75|          --|         1.75|              NORMAL|        15|\n",
      "|       2.75|        null|         2.75|              NORMAL|        14|\n",
      "|         --|          --|         5.00|             INVALID|        13|\n",
      "|       1.00|          --|         1.00|              NORMAL|        12|\n",
      "|        INC|          --|         5.00|             INVALID|        12|\n",
      "|       2.00|        null|         2.00|              NORMAL|        11|\n",
      "|       2.25|        null|         2.25|              NORMAL|         9|\n",
      "|       2.75|          --|         2.75|              NORMAL|         9|\n",
      "|       3.00|          --|         3.00|              NORMAL|         9|\n",
      "|       2.50|          --|         2.50|              NORMAL|         7|\n",
      "|       5.00|          --|         5.00|              NORMAL|         7|\n",
      "|       2.00|          --|         2.00|              NORMAL|         7|\n",
      "|       1.50|        null|         1.50|              NORMAL|         6|\n",
      "|       1.75|        null|         1.75|              NORMAL|         5|\n",
      "|        DRP|          --|         0.00|                DROP|         5|\n",
      "|       2.25|          --|         2.25|              NORMAL|         3|\n",
      "|        INC|        null|         5.00|             INVALID|         3|\n",
      "|       2.00|        1.50|         1.50|    IMPROVED(REEXAM)|         2|\n",
      "|       2.75|         INC|         2.75|                 INC|         1|\n",
      "|          -|        1.25|         1.25|              NORMAL|         1|\n",
      "|       1.25|        null|         1.25|              NORMAL|         1|\n",
      "|       2.75|        1.50|         1.50|    IMPROVED(REEXAM)|         1|\n",
      "|          -|        1.00|         1.00|              NORMAL|         1|\n",
      "|          -|        2.00|         2.00|              NORMAL|         1|\n",
      "|       1.75|         INC|         1.75|                 INC|         1|\n",
      "|          -|        1.50|         1.50|              NORMAL|         1|\n",
      "|       2.00|        null|         2.00|              NORMAL|         1|\n",
      "|       5.00|        null|         5.00|              NORMAL|         1|\n",
      "|       1.50|        null|         1.50|              NORMAL|         1|\n",
      "+-----------+------------+-------------+--------------------+----------+\n",
      "\n"
     ]
    }
   ],
   "source": [
    "df.createOrReplaceTempView('sample_data_ai_with_id')\n",
    "show_data = spark.sql(\"\"\"SELECT grade_final, grade_reexam, grade_numeric, grade_classification, COUNT(*) AS occurences \n",
    "                         FROM sample_data_ai_with_id \n",
    "                         GROUP BY grade_final, grade_reexam, grade_numeric, grade_classification\n",
    "                         ORDER BY occurences DESC\"\"\")\n",
    "show_data.show(80)"
   ]
  },
  {
   "cell_type": "code",
   "execution_count": 56,
   "metadata": {},
   "outputs": [
    {
     "name": "stdout",
     "output_type": "stream",
     "text": [
      "Total instances: 2007859\n"
     ]
    }
   ],
   "source": [
    "total_count = df.count()\n",
    "print(f\"Total instances: {total_count}\")"
   ]
  },
  {
   "cell_type": "markdown",
   "metadata": {},
   "source": [
    "FILTER OUT (OG, P, Passed, F, DRP)"
   ]
  },
  {
   "cell_type": "code",
   "execution_count": 57,
   "metadata": {},
   "outputs": [],
   "source": [
    "# Filter out the data that is not included on the list\n",
    "allowed_data = ['1.00','1.25','1.50',\n",
    "                '1.75','2.00','2.25',\n",
    "                '2.50','2.75','3.00',\n",
    "                '4.00','5.00', 'INC', 'DRP']"
   ]
  },
  {
   "cell_type": "code",
   "execution_count": 58,
   "metadata": {},
   "outputs": [
    {
     "name": "stdout",
     "output_type": "stream",
     "text": [
      "+-------+--------+\n",
      "|program|count(1)|\n",
      "+-------+--------+\n",
      "|   NULL|    8180|\n",
      "+-------+--------+\n",
      "\n"
     ]
    }
   ],
   "source": [
    "df.createOrReplaceTempView('sample_data_ai_with_id')\n",
    "show_data = spark.sql(\"\"\"SELECT program, count(*)\n",
    "                         FROM sample_data_ai_with_id\n",
    "                         WHERE program = 'NULL'\n",
    "                         GROUP BY program \"\"\")\n",
    "show_data.show(50)"
   ]
  },
  {
   "cell_type": "markdown",
   "metadata": {},
   "source": [
    "DROP programs with \"NULL\" strings"
   ]
  },
  {
   "cell_type": "code",
   "execution_count": 59,
   "metadata": {},
   "outputs": [],
   "source": [
    "df = df.filter(col('program') != 'NULL')"
   ]
  },
  {
   "cell_type": "markdown",
   "metadata": {},
   "source": [
    "CHECK FOR NULL STRINGS IN program COLUMN"
   ]
  },
  {
   "cell_type": "code",
   "execution_count": 60,
   "metadata": {},
   "outputs": [
    {
     "name": "stdout",
     "output_type": "stream",
     "text": [
      "+-------+--------+\n",
      "|program|count(1)|\n",
      "+-------+--------+\n",
      "+-------+--------+\n",
      "\n"
     ]
    }
   ],
   "source": [
    "df.createOrReplaceTempView('sample_data_ai_with_id')\n",
    "show_data = spark.sql(\"\"\"SELECT program, count(*)\n",
    "                         FROM sample_data_ai_with_id\n",
    "                         WHERE program = 'NULL'\n",
    "                         GROUP BY program \"\"\")\n",
    "show_data.show(50)"
   ]
  },
  {
   "cell_type": "code",
   "execution_count": 61,
   "metadata": {},
   "outputs": [
    {
     "name": "stdout",
     "output_type": "stream",
     "text": [
      "+-----------+------------+----------+\n",
      "|grade_final|grade_reexam|occurences|\n",
      "+-----------+------------+----------+\n",
      "|       1.50|           -|    450611|\n",
      "|       1.25|           -|    316203|\n",
      "|       2.00|           -|    288146|\n",
      "|       1.75|           -|    258147|\n",
      "|       2.50|           -|    176843|\n",
      "|       2.25|           -|    159565|\n",
      "|       3.00|           -|    118021|\n",
      "|       2.75|           -|     90344|\n",
      "|       1.00|           -|     62813|\n",
      "|       5.00|           -|     15352|\n",
      "|        DRP|           -|      2900|\n",
      "|        INC|           -|      1866|\n",
      "|       1.25|          --|        34|\n",
      "|       1.50|          --|        26|\n",
      "|       2.50|        null|        22|\n",
      "|       3.00|        null|        18|\n",
      "|       2.75|        null|        14|\n",
      "|       2.00|        null|        11|\n",
      "|          -|           -|        10|\n",
      "|       1.00|          --|         9|\n",
      "|       2.25|        null|         9|\n",
      "|       3.00|          --|         8|\n",
      "|        INC|          --|         8|\n",
      "|       2.75|          --|         7|\n",
      "|       5.00|          --|         7|\n",
      "|       1.75|          --|         6|\n",
      "|       1.50|        null|         6|\n",
      "|       1.75|        null|         5|\n",
      "|         --|          --|         4|\n",
      "|       2.50|          --|         4|\n",
      "|       2.00|          --|         4|\n",
      "|        INC|        null|         3|\n",
      "|        DRP|          --|         3|\n",
      "|       2.25|          --|         2|\n",
      "|       1.25|        null|         1|\n",
      "+-----------+------------+----------+\n",
      "\n"
     ]
    }
   ],
   "source": [
    "df.createOrReplaceTempView('sample_data_ai_with_id')\n",
    "show_data = spark.sql(\"\"\"SELECT grade_final, grade_reexam, COUNT(*) AS occurences \n",
    "                         FROM sample_data_ai_with_id \n",
    "                         WHERE grade_reexam = '-' OR grade_reexam = '--' OR grade_reexam = 'NULL' OR grade_reexam IS NULL\n",
    "                         GROUP BY grade_final, grade_reexam \n",
    "                         ORDER BY occurences DESC\"\"\")\n",
    "show_data.show(50)"
   ]
  },
  {
   "cell_type": "markdown",
   "metadata": {},
   "source": [
    "ONLY ALLOW NUMERICAL STRINGS IN GRADE_REEXAM COLUMN"
   ]
  },
  {
   "cell_type": "code",
   "execution_count": 62,
   "metadata": {},
   "outputs": [],
   "source": [
    "df = df.withColumn(\n",
    "    \"grade_reexam\", when(col(\"grade_reexam\").rlike(\"^[0-9]*\\.?[0-9]+$\"), col(\"grade_reexam\")).otherwise(None)\n",
    ")"
   ]
  },
  {
   "cell_type": "code",
   "execution_count": 63,
   "metadata": {},
   "outputs": [
    {
     "name": "stdout",
     "output_type": "stream",
     "text": [
      "+-----------+------------+----------+\n",
      "|grade_final|grade_reexam|occurences|\n",
      "+-----------+------------+----------+\n",
      "|        INC|        3.00|     35134|\n",
      "|        INC|        5.00|     16174|\n",
      "|        DRP|        null|      2903|\n",
      "|        INC|        null|      1877|\n",
      "|        INC|        2.50|      1467|\n",
      "|        INC|        2.75|      1433|\n",
      "|        INC|        2.00|      1292|\n",
      "|        INC|        2.25|       904|\n",
      "|        INC|        1.75|       892|\n",
      "|        INC|        1.50|       845|\n",
      "|        INC|        1.25|       309|\n",
      "|        INC|        1.00|        50|\n",
      "+-----------+------------+----------+\n",
      "\n"
     ]
    }
   ],
   "source": [
    "df.createOrReplaceTempView('sample_data_ai_with_id')\n",
    "show_data = spark.sql(\"\"\"SELECT grade_final, grade_reexam, COUNT(*) AS occurences \n",
    "                         FROM sample_data_ai_with_id \n",
    "                         WHERE grade_final = 'INC' OR grade_final = 'DRP' \n",
    "                         GROUP BY grade_final, grade_reexam \n",
    "                         ORDER BY occurences DESC\"\"\")\n",
    "show_data.show(22)"
   ]
  },
  {
   "cell_type": "code",
   "execution_count": 64,
   "metadata": {},
   "outputs": [
    {
     "name": "stdout",
     "output_type": "stream",
     "text": [
      "+-----------+------------+----------+\n",
      "|grade_final|grade_reexam|occurences|\n",
      "+-----------+------------+----------+\n",
      "|       1.50|        null|    450644|\n",
      "|       1.25|        null|    316238|\n",
      "|       2.00|        null|    288162|\n",
      "|       1.75|        null|    258158|\n",
      "|       2.50|        null|    176869|\n",
      "|       2.25|        null|    159576|\n",
      "|       3.00|        null|    118047|\n",
      "|       2.75|        null|     90365|\n",
      "|       1.00|        null|     62822|\n",
      "|        INC|        3.00|     35134|\n",
      "|        INC|        5.00|     16174|\n",
      "|       5.00|        null|     15360|\n",
      "|        DRP|        null|      2903|\n",
      "|        INC|        null|      1877|\n",
      "|        INC|        2.50|      1467|\n",
      "|        INC|        2.75|      1433|\n",
      "|        INC|        2.00|      1292|\n",
      "|        INC|        2.25|       904|\n",
      "|        INC|        1.75|       892|\n",
      "|        INC|        1.50|       845|\n",
      "|        INC|        1.25|       309|\n",
      "|       4.00|        3.00|       116|\n",
      "+-----------+------------+----------+\n",
      "only showing top 22 rows\n",
      "\n"
     ]
    }
   ],
   "source": [
    "df.createOrReplaceTempView('sample_data_ai_with_id')\n",
    "show_data = spark.sql(\"\"\"SELECT grade_final, grade_reexam, COUNT(*) AS occurences \n",
    "                         FROM sample_data_ai_with_id\n",
    "                         GROUP BY grade_final, grade_reexam \n",
    "                         ORDER BY occurences DESC\"\"\")\n",
    "show_data.show(22)"
   ]
  },
  {
   "cell_type": "code",
   "execution_count": 65,
   "metadata": {},
   "outputs": [
    {
     "name": "stdout",
     "output_type": "stream",
     "text": [
      "+----------+----------+\n",
      "|schoolyear|occurences|\n",
      "+----------+----------+\n",
      "+----------+----------+\n",
      "\n"
     ]
    }
   ],
   "source": [
    "df.createOrReplaceTempView('sample_data_ai_with_id')\n",
    "show_data = spark.sql(\"\"\"SELECT schoolyear, COUNT(*) AS occurences \n",
    "                         FROM sample_data_ai_with_id \n",
    "                         WHERE schoolyear = '2023-2024_x' \n",
    "                         GROUP BY schoolyear\n",
    "                         ORDER BY occurences DESC\"\"\")\n",
    "show_data.show(22)"
   ]
  },
  {
   "cell_type": "code",
   "execution_count": 66,
   "metadata": {},
   "outputs": [
    {
     "name": "stdout",
     "output_type": "stream",
     "text": [
      "+---------+----------+\n",
      "|   campus|occurences|\n",
      "+---------+----------+\n",
      "|ALANGILAN|    745300|\n",
      "|       PB|    530632|\n",
      "|  NASUGBU|    239742|\n",
      "|   MALVAR|    189020|\n",
      "|     LIPA|    155623|\n",
      "|  ROSARIO|     41678|\n",
      "|   LEMERY|     36747|\n",
      "|  BALAYAN|     27566|\n",
      "| SAN JUAN|     16036|\n",
      "|     LOBO|     12597|\n",
      "|   MABINI|      4735|\n",
      "|     null|         3|\n",
      "+---------+----------+\n",
      "\n"
     ]
    }
   ],
   "source": [
    "df.createOrReplaceTempView('sample_data_ai_with_id')\n",
    "show_data = spark.sql(\"\"\"SELECT campus, COUNT(*) AS occurences \n",
    "                         FROM sample_data_ai_with_id \n",
    "                         GROUP BY campus\n",
    "                         ORDER BY occurences DESC\"\"\")\n",
    "\n",
    "show_data.show()"
   ]
  },
  {
   "cell_type": "code",
   "execution_count": 67,
   "metadata": {},
   "outputs": [],
   "source": [
    "from pyspark.sql.types import DecimalType\n",
    "\n",
    "filtered_df = df.withColumn(\"credits\", df.credits.cast(\"int\"))\\\n",
    "    .withColumn(\"grade_numeric\", df.grade_numeric.cast(DecimalType(5, 2)))\n"
   ]
  },
  {
   "cell_type": "code",
   "execution_count": 68,
   "metadata": {},
   "outputs": [
    {
     "name": "stdout",
     "output_type": "stream",
     "text": [
      "+-----+----------+--------+---------+--------------------+-------+-------------+--------------+------+------------------+---------+--------------------+--------------------+-----------+------------+------+-------------+--------------------+\n",
      "|   id|schoolyear|semester|     code|         description|credits|instructor_id|    instructor|srcode|          fullname|   campus|             college|             program|grade_final|grade_reexam|status|grade_numeric|grade_classification|\n",
      "+-----+----------+--------+---------+--------------------+-------+-------------+--------------+------+------------------+---------+--------------------+--------------------+-----------+------------+------+-------------+--------------------+\n",
      "|49812| 2024-2025|   FIRST| ARCH 525|Computer-Aided De...|      2|         4911|LN4911, FN4911|105468|LN105468, FN105468|ALANGILAN|College of Archit...|     BS Architecture|        INC|        null|FAILED|         5.00|             INVALID|\n",
      "|52506| 2024-2025|   FIRST|  GEd 103|Life and Works of...|      3|         4858|LN4858, FN4858|143854|LN143854, FN143854|ALANGILAN|College of Engine...|Bachelor of Indus...|        INC|        null|FAILED|         5.00|             INVALID|\n",
      "|52901| 2024-2025|   FIRST|  AST 121|Hydraulic and Pne...|      3|         1280|LN1280, FN1280|142838|LN142838, FN142838|ALANGILAN|College of Engine...|Bachelor of Indus...|        INC|        null|FAILED|         5.00|             INVALID|\n",
      "|53995| 2024-2025|   FIRST|  ChE 422|Chemical Engineer...|      2|         1737|LN1737, FN1737|109168|LN109168, FN109168|ALANGILAN|College of Engine...|BS Chemical Engin...|        INC|        null|FAILED|         5.00|             INVALID|\n",
      "|57551| 2024-2025|   FIRST| ENGG 417| On-the-Job Training|      4|         1362|LN1362, FN1362|108804|LN108804, FN108804|ALANGILAN|College of Engine...|BS Mechanical Eng...|        INC|        null|FAILED|         5.00|             INVALID|\n",
      "|59284| 2024-2025|   FIRST| ICET 141|Instrumentation C...|      2|         4560|LN4560, FN4560|142424|LN142424, FN142424|ALANGILAN|College of Engine...|Bachelor of Instr...|        INC|        null|FAILED|         5.00|             INVALID|\n",
      "|59285| 2024-2025|   FIRST|PATHFit 1|Movement Competen...|      2|         3695|LN3695, FN3695|142424|LN142424, FN142424|ALANGILAN|College of Engine...|Bachelor of Instr...|        INC|        null|FAILED|         5.00|             INVALID|\n",
      "|59286| 2024-2025|   FIRST| ICET 142|Introduction to E...|      3|         2691|LN2691, FN2691|142424|LN142424, FN142424|ALANGILAN|College of Engine...|Bachelor of Instr...|        INC|        null|FAILED|         5.00|             INVALID|\n",
      "|59287| 2024-2025|   FIRST|ELXET 142|  Electronic Devices|      3|         2776|LN2776, FN2776|142424|LN142424, FN142424|ALANGILAN|College of Engine...|Bachelor of Instr...|        INC|        null|FAILED|         5.00|             INVALID|\n",
      "|61473| 2024-2025|   FIRST| ARCH 526|Building Technolo...|      3|         4121|LN4121, FN4121|110643|LN110643, FN110643|ALANGILAN|College of Archit...|     BS Architecture|        INC|        null|FAILED|         5.00|             INVALID|\n",
      "|61925| 2024-2025|   FIRST|  CpE 405|Discrete Mathematics|      3|         5434|LN5434, FN5434|125225|LN125225, FN125225|ALANGILAN|College of Inform...|BS Information Te...|        INC|        null|FAILED|         5.00|             INVALID|\n",
      "|62780| 2024-2025|   FIRST|   ME 427|  ME Project Study 2|      1|         2681|LN2681, FN2681| 94407|  LN94407, FN94407|ALANGILAN|College of Engine...|BS Mechanical Eng...|        INC|        null|FAILED|         5.00|             INVALID|\n",
      "|66414| 2024-2025|   FIRST| ENGG 404|Engineering Econo...|      3|         5539|LN5539, FN5539|144435|LN144435, FN144435|ALANGILAN|College of Engine...|BS Naval Architec...|        INC|        null|FAILED|         5.00|             INVALID|\n",
      "|66587| 2024-2025|   FIRST|Cognate 3|English Instructi...|      3|         2178|LN2178, FN2178|114707|LN114707, FN114707|       PB|College of Arts a...|Bachelor of Arts ...|        INC|        null|FAILED|         5.00|             INVALID|\n",
      "|69452| 2024-2025|   FIRST|  ChE 422|Chemical Engineer...|      2|         1737|LN1737, FN1737|110452|LN110452, FN110452|ALANGILAN|College of Engine...|BS Chemical Engin...|        INC|        null|FAILED|         5.00|             INVALID|\n",
      "|69540| 2024-2025|   FIRST|  ChE 422|Chemical Engineer...|      2|         1737|LN1737, FN1737|106044|LN106044, FN106044|ALANGILAN|College of Engine...|BS Chemical Engin...|        INC|        null|FAILED|         5.00|             INVALID|\n",
      "|71921| 2024-2025|   FIRST|   JD 501|Persons and Famil...|      3|         5541|LN5541, FN5541|151050|LN151050, FN151050|       PB|      College of Law|        Juris Doctor|        INC|        null|FAILED|         5.00|             INVALID|\n",
      "|72057| 2024-2025|   FIRST|   CE 407|   Structural Theory|      4|         2836|LN2836, FN2836|111173|LN111173, FN111173|ALANGILAN|College of Engine...|BS Civil Engineering|        INC|        null|FAILED|         5.00|             INVALID|\n",
      "|75127| 2024-2025|   FIRST|  ChE 422|Chemical Engineer...|      2|         1737|LN1737, FN1737|110874|LN110874, FN110874|ALANGILAN|College of Engine...|BS Chemical Engin...|        INC|        null|FAILED|         5.00|             INVALID|\n",
      "|78665| 2024-2025|   FIRST| MATH 408|       Data Analysis|      3|         5434|LN5434, FN5434| 90295|  LN90295, FN90295|ALANGILAN|College of Inform...| BS Computer Science|        INC|        null|FAILED|         5.00|             INVALID|\n",
      "+-----+----------+--------+---------+--------------------+-------+-------------+--------------+------+------------------+---------+--------------------+--------------------+-----------+------------+------+-------------+--------------------+\n",
      "only showing top 20 rows\n",
      "\n"
     ]
    }
   ],
   "source": [
    "filtered_df.createOrReplaceTempView('data')\n",
    "show_data = spark.sql(\"\"\"SELECT * \n",
    "                         FROM data\n",
    "                        WHERE schoolyear = '2024-2025' AND grade_final = 'INC' AND grade_reexam is NULL\n",
    "                        \"\"\")\n",
    "\n",
    "show_data.show()"
   ]
  },
  {
   "cell_type": "markdown",
   "metadata": {},
   "source": [
    "DROP RECORDS WITH 0.00 as grade_numeric AND RECORDS WITH INC-NULL AS grade_numeric WITH THE CURRENT YEAR IN SCHOOLYEAR"
   ]
  },
  {
   "cell_type": "code",
   "execution_count": 69,
   "metadata": {},
   "outputs": [],
   "source": [
    "from datetime import datetime\n",
    "\n",
    "current_year = datetime.now().year\n",
    "\n",
    "# Drop rows where grade_final is INC and reexam is null\n",
    "filtered_df = filtered_df.filter(\n",
    "    ~((col('grade_final') == 'INC') & (col('grade_reexam').isNull())) & (col('schoolyear').contains(str(current_year)))\n",
    ")\n",
    "\n",
    "filtered_df = filtered_df.filter((col('grade_numeric') != 0))"
   ]
  },
  {
   "cell_type": "code",
   "execution_count": 70,
   "metadata": {},
   "outputs": [
    {
     "name": "stdout",
     "output_type": "stream",
     "text": [
      "root\n",
      " |-- id: integer (nullable = true)\n",
      " |-- schoolyear: string (nullable = true)\n",
      " |-- semester: string (nullable = true)\n",
      " |-- code: string (nullable = true)\n",
      " |-- description: string (nullable = true)\n",
      " |-- credits: integer (nullable = true)\n",
      " |-- instructor_id: string (nullable = true)\n",
      " |-- instructor: string (nullable = true)\n",
      " |-- srcode: string (nullable = true)\n",
      " |-- fullname: string (nullable = true)\n",
      " |-- campus: string (nullable = true)\n",
      " |-- college: string (nullable = true)\n",
      " |-- program: string (nullable = true)\n",
      " |-- grade_final: string (nullable = true)\n",
      " |-- grade_reexam: string (nullable = true)\n",
      " |-- status: string (nullable = true)\n",
      " |-- grade_numeric: decimal(5,2) (nullable = true)\n",
      " |-- grade_classification: string (nullable = false)\n",
      "\n"
     ]
    }
   ],
   "source": [
    "filtered_df.printSchema()"
   ]
  },
  {
   "cell_type": "code",
   "execution_count": 71,
   "metadata": {},
   "outputs": [
    {
     "name": "stdout",
     "output_type": "stream",
     "text": [
      "+-----+----------+--------+------------+--------------------+-------+-------------+--------------+------+------------------+---------+--------------------+--------------------+-----------+------------+------+-------------+--------------------+\n",
      "|   id|schoolyear|semester|        code|         description|credits|instructor_id|    instructor|srcode|          fullname|   campus|             college|             program|grade_final|grade_reexam|status|grade_numeric|grade_classification|\n",
      "+-----+----------+--------+------------+--------------------+-------+-------------+--------------+------+------------------+---------+--------------------+--------------------+-----------+------------+------+-------------+--------------------+\n",
      "|88357| 2024-2025|   FIRST|   AnSCI 409|Ruminant Producti...|      3|         1536|LN1536, FN1536|113680|LN113680, FN113680|     LOBO|College of Agricu...|      BS Agriculture|       1.50|        null|PASSED|         1.50|              NORMAL|\n",
      "|88358| 2024-2025|   FIRST|    AGRI 413|Post Harvest Hand...|      3|           62|    LN62, FN62|113680|LN113680, FN113680|     LOBO|College of Agricu...|      BS Agriculture|       1.25|        null|PASSED|         1.25|              NORMAL|\n",
      "|88359| 2024-2025|   FIRST|AGRI RES 103|Thesis 3 (Manuscr...|      3|          161|  LN161, FN161|113680|LN113680, FN113680|     LOBO|College of Agricu...|      BS Agriculture|       1.25|        null|PASSED|         1.25|              NORMAL|\n",
      "|88369| 2024-2025|   FIRST|     GEd 103|Life and Works of...|      3|         1616|LN1616, FN1616|113680|LN113680, FN113680|     LOBO|College of Agricu...|      BS Agriculture|       1.00|        null|PASSED|         1.00|              NORMAL|\n",
      "|88370| 2024-2025|   FIRST|   AnSCI 408|Poultry Productio...|      3|         4873|LN4873, FN4873|113680|LN113680, FN113680|     LOBO|College of Agricu...|      BS Agriculture|       1.25|        null|PASSED|         1.25|              NORMAL|\n",
      "|88371| 2024-2025|   FIRST|   AnSCI 411|Animal Health and...|      3|         4873|LN4873, FN4873|113680|LN113680, FN113680|     LOBO|College of Agricu...|      BS Agriculture|       1.25|        null|PASSED|         1.25|              NORMAL|\n",
      "|88372| 2024-2025|   FIRST|   AnSCI 410|Animal Products P...|      3|         4873|LN4873, FN4873|113680|LN113680, FN113680|     LOBO|College of Agricu...|      BS Agriculture|       1.00|        null|PASSED|         1.00|              NORMAL|\n",
      "|88373| 2024-2025|   FIRST|    AGRI 412|Beneficial Arthro...|      3|         4873|LN4873, FN4873|113680|LN113680, FN113680|     LOBO|College of Agricu...|      BS Agriculture|       1.25|        null|PASSED|         1.25|              NORMAL|\n",
      "|88434| 2024-2025|   FIRST|      ME 411|     Fluid Machinery|      3|         4896|LN4896, FN4896|110327|LN110327, FN110327|ALANGILAN|College of Engine...|BS Mechanical Eng...|        INC|        3.00|PASSED|         3.00|                 INC|\n",
      "|88435| 2024-2025|   FIRST|      ME 419|       ME Elective 2|      2|         4715|LN4715, FN4715|110327|LN110327, FN110327|ALANGILAN|College of Engine...|BS Mechanical Eng...|       2.50|        null|PASSED|         2.50|              NORMAL|\n",
      "|88436| 2024-2025|   FIRST|      ME 416|Vibration Enginee...|      2|         4976|LN4976, FN4976|110327|LN110327, FN110327|ALANGILAN|College of Engine...|BS Mechanical Eng...|       2.75|        null|PASSED|         2.75|              NORMAL|\n",
      "|88437| 2024-2025|   FIRST|      ME 415|     ME Laboratory 1|      1|         5018|LN5018, FN5018|110327|LN110327, FN110327|ALANGILAN|College of Engine...|BS Mechanical Eng...|       1.25|        null|PASSED|         1.25|              NORMAL|\n",
      "|88438| 2024-2025|   FIRST|      ME 409|       Heat Transfer|      3|         3373|LN3373, FN3373|110327|LN110327, FN110327|ALANGILAN|College of Engine...|BS Mechanical Eng...|       3.00|        null|PASSED|         3.00|              NORMAL|\n",
      "|88439| 2024-2025|   FIRST|    ENGG 413|Environmental Sci...|      3|         4029|LN4029, FN4029|110327|LN110327, FN110327|ALANGILAN|College of Engine...|BS Mechanical Eng...|       1.50|        null|PASSED|         1.50|              NORMAL|\n",
      "|88440| 2024-2025|   FIRST|      ME 410|Combustion Engine...|      3|         3877|LN3877, FN3877|110327|LN110327, FN110327|ALANGILAN|College of Engine...|BS Mechanical Eng...|        INC|        5.00|FAILED|         5.00|                 INC|\n",
      "|88441| 2024-2025|   FIRST|    ENGG 416|    Research Methods|      3|         1585|LN1585, FN1585|126456|LN126456, FN126456|ALANGILAN|College of Engine...|BS Geodetic Engin...|       2.00|        null|PASSED|         2.00|              NORMAL|\n",
      "|88442| 2024-2025|   FIRST|    Litr 102|    ASEAN Literature|      3|         4953|LN4953, FN4953|126456|LN126456, FN126456|ALANGILAN|College of Engine...|BS Geodetic Engin...|       1.50|        null|PASSED|         1.50|              NORMAL|\n",
      "|88443| 2024-2025|   FIRST|      GE 413|    Satelite Geodesy|      3|         4546|LN4546, FN4546|126456|LN126456, FN126456|ALANGILAN|College of Engine...|BS Geodetic Engin...|       1.50|        null|PASSED|         1.50|              NORMAL|\n",
      "|88444| 2024-2025|   FIRST|      GE 416|      Remote Sensing|      4|         4546|LN4546, FN4546|126456|LN126456, FN126456|ALANGILAN|College of Engine...|BS Geodetic Engin...|       2.00|        null|PASSED|         2.00|              NORMAL|\n",
      "|88445| 2024-2025|   FIRST|      GE 414|  Geodetic Surveying|      3|         4546|LN4546, FN4546|126456|LN126456, FN126456|ALANGILAN|College of Engine...|BS Geodetic Engin...|       2.00|        null|PASSED|         2.00|              NORMAL|\n",
      "+-----+----------+--------+------------+--------------------+-------+-------------+--------------+------+------------------+---------+--------------------+--------------------+-----------+------------+------+-------------+--------------------+\n",
      "only showing top 20 rows\n",
      "\n"
     ]
    }
   ],
   "source": [
    "filtered_df.show(20)"
   ]
  },
  {
   "cell_type": "code",
   "execution_count": 72,
   "metadata": {},
   "outputs": [
    {
     "name": "stdout",
     "output_type": "stream",
     "text": [
      "+---+----------+--------+----+-----------+-------+-------------+----------+------+--------+------+-------+-------+-----------+------------+------+-------------+--------------------+\n",
      "| id|schoolyear|semester|code|description|credits|instructor_id|instructor|srcode|fullname|campus|college|program|grade_final|grade_reexam|status|grade_numeric|grade_classification|\n",
      "+---+----------+--------+----+-----------+-------+-------------+----------+------+--------+------+-------+-------+-----------+------------+------+-------------+--------------------+\n",
      "+---+----------+--------+----+-----------+-------+-------------+----------+------+--------+------+-------+-------+-----------+------------+------+-------------+--------------------+\n",
      "\n"
     ]
    }
   ],
   "source": [
    "filtered_df.createOrReplaceTempView('data')\n",
    "show_data = spark.sql(\"\"\"SELECT * \n",
    "                         FROM data\n",
    "                        WHERE schoolyear = '2024-2025' AND grade_final = 'INC' AND grade_reexam is NULL\n",
    "                        \"\"\")\n",
    "\n",
    "show_data.show()"
   ]
  },
  {
   "cell_type": "code",
   "execution_count": 1,
   "metadata": {},
   "outputs": [
    {
     "ename": "NameError",
     "evalue": "name 'filtered_df' is not defined",
     "output_type": "error",
     "traceback": [
      "\u001b[1;31m---------------------------------------------------------------------------\u001b[0m",
      "\u001b[1;31mNameError\u001b[0m                                 Traceback (most recent call last)",
      "Cell \u001b[1;32mIn[1], line 1\u001b[0m\n\u001b[1;32m----> 1\u001b[0m \u001b[43mfiltered_df\u001b[49m\u001b[38;5;241m.\u001b[39mcount()\n",
      "\u001b[1;31mNameError\u001b[0m: name 'filtered_df' is not defined"
     ]
    }
   ],
   "source": [
    "filtered_df.count()"
   ]
  },
  {
   "cell_type": "markdown",
   "metadata": {},
   "source": [
    "CREATE A TEMPORARY DATABASE THAT WRITES THE FILTERED_DF INTO POSTGRESQL"
   ]
  },
  {
   "cell_type": "code",
   "execution_count": 73,
   "metadata": {},
   "outputs": [],
   "source": [
    "filtered_df.write \\\n",
    "        .format(\"jdbc\") \\\n",
    "        .option(\"url\", jdbc_url) \\\n",
    "        .option(\"dbtable\", \"filtered_data_with_id\") \\\n",
    "        .option(\"user\", properties[\"user\"]) \\\n",
    "        .option(\"password\", properties[\"password\"]) \\\n",
    "        .option(\"driver\", properties[\"driver\"]) \\\n",
    "        .mode(\"overwrite\") \\\n",
    "        .save()"
   ]
  },
  {
   "cell_type": "code",
   "execution_count": 70,
   "metadata": {},
   "outputs": [
    {
     "name": "stdout",
     "output_type": "stream",
     "text": [
      "+-------------+\n",
      "|grade_numeric|\n",
      "+-------------+\n",
      "|         2.00|\n",
      "|         1.50|\n",
      "|         1.00|\n",
      "|         1.25|\n",
      "|         1.50|\n",
      "|         1.75|\n",
      "|         1.50|\n",
      "|         1.25|\n",
      "|         1.25|\n",
      "|         1.25|\n",
      "|         1.50|\n",
      "|         1.00|\n",
      "|         1.25|\n",
      "|         1.50|\n",
      "|         1.50|\n",
      "|         1.25|\n",
      "|         2.50|\n",
      "|         2.50|\n",
      "|         2.75|\n",
      "|         2.25|\n",
      "|         2.50|\n",
      "|         3.00|\n",
      "+-------------+\n",
      "only showing top 22 rows\n",
      "\n"
     ]
    }
   ],
   "source": [
    "df.createOrReplaceTempView('sample_data_ai_with_id')\n",
    "show_data = spark.sql(\"\"\"SELECT grade_numeric\n",
    "                         FROM sample_data_ai_with_id \"\"\")\n",
    "show_data.show(22)"
   ]
  },
  {
   "cell_type": "code",
   "execution_count": 71,
   "metadata": {},
   "outputs": [
    {
     "name": "stdout",
     "output_type": "stream",
     "text": [
      "root\n",
      " |-- id: integer (nullable = true)\n",
      " |-- schoolyear: string (nullable = true)\n",
      " |-- semester: string (nullable = true)\n",
      " |-- code: string (nullable = true)\n",
      " |-- description: string (nullable = true)\n",
      " |-- credits: integer (nullable = true)\n",
      " |-- instructor_id: string (nullable = true)\n",
      " |-- instructor: string (nullable = true)\n",
      " |-- srcode: string (nullable = true)\n",
      " |-- fullname: string (nullable = true)\n",
      " |-- campus: string (nullable = true)\n",
      " |-- college: string (nullable = true)\n",
      " |-- program: string (nullable = true)\n",
      " |-- grade_final: string (nullable = true)\n",
      " |-- grade_reexam: string (nullable = true)\n",
      " |-- status: string (nullable = true)\n",
      " |-- grade_numeric: decimal(5,2) (nullable = true)\n",
      " |-- grade_classification: string (nullable = false)\n",
      "\n"
     ]
    }
   ],
   "source": [
    "filtered_df.printSchema()"
   ]
  },
  {
   "cell_type": "markdown",
   "metadata": {},
   "source": [
    "PSEUDOCODE FOR CREATING TRAINING DFs"
   ]
  },
  {
   "cell_type": "code",
   "execution_count": null,
   "metadata": {},
   "outputs": [],
   "source": [
    "\n",
    "converted_df = df.franz\n",
    "\n",
    "for program in converted_df.program:\n",
    "    for srcode in converted_df.srcode:\n",
    "        for schoolyear_semester in converted_df.schoolyear_semester:\n",
    "            for avg_type in converted_df.avg_type:\n",
    "                #compute GWA\n",
    "                if min:\n",
    "                    #use min_grades\n",
    "                    #insert min_avg\n",
    "                    pass\n",
    "                elif mid:\n",
    "                    #use mid_grades\n",
    "                    #insert mid_avg\n",
    "                    pass\n",
    "                else:\n",
    "                    #use max_grades\n",
    "                    #insert max_avg\n",
    "                    pass\n",
    "                \n",
    "    df.create()"
   ]
  }
 ],
 "metadata": {
  "kernelspec": {
   "display_name": "venv",
   "language": "python",
   "name": "python3"
  },
  "language_info": {
   "codemirror_mode": {
    "name": "ipython",
    "version": 3
   },
   "file_extension": ".py",
   "mimetype": "text/x-python",
   "name": "python",
   "nbconvert_exporter": "python",
   "pygments_lexer": "ipython3",
   "version": "3.10.11"
  }
 },
 "nbformat": 4,
 "nbformat_minor": 2
}
