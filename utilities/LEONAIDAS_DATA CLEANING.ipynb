{
 "cells": [
  {
   "cell_type": "markdown",
   "metadata": {},
   "source": [
    "- FILTER SEMESTER (FIRST, SECOND, SUMMER, SUMMER2)\n",
    "- grade_final should only have numerical values such as (1.00 -5.00 excluding 3.50), INC, and DRP.\n",
    "- create new column, numerical_grade (Ilipat ang grade_reexam to grade_finals if INC). "
   ]
  },
  {
   "cell_type": "markdown",
   "metadata": {},
   "source": [
    "COLUMNS TO BE CLEANED:\n",
    "- grade_reexam\n",
    "- grade_finals\n",
    "\n",
    "CLEANED / FILTERED\n",
    "- semester \n",
    "- schoolyear (with _x)\n",
    "- drop schoolyear without - EXAMPLE (\"2004\")"
   ]
  },
  {
   "cell_type": "markdown",
   "metadata": {},
   "source": [
    "EXTRACT DATA"
   ]
  },
  {
   "cell_type": "code",
   "execution_count": 61,
   "metadata": {},
   "outputs": [],
   "source": [
    "from pyspark.sql import SparkSession\n",
    "\n",
    "jdbc_url = \"jdbc:postgresql://192.168.20.11:5432/demo_db\"\n",
    "properties = {\n",
    "    \"user\": \"postgres\", \n",
    "    \"password\": \"postgres\",  \n",
    "    \"driver\": \"org.postgresql.Driver\",\n",
    "    \"fetchsize\": \"10000\"\n",
    "}\n",
    "postgres_driver_path = \"C:\\postgresql-42.7.5.jar\"\n",
    "\n",
    "\n",
    "\n",
    "def extract(jdbc_url, table_name, properties, postgres_driver_path):\n",
    "    \"\"\" Extract data from PostgreSQL database using Spark.\"\"\"\n",
    "    # Initialize Spark session\n",
    "    spark = SparkSession.builder \\\n",
    "        .appName(\"Postgres Connection\") \\\n",
    "        .config(\"spark.jars\", postgres_driver_path) \\\n",
    "        .config(\"spark.driver.memory\", \"8g\") \\\n",
    "        .config(\"spark.executor.memory\", \"8g\") \\\n",
    "        .config(\"spark.executor.memoryOverhead\", \"2g\") \\\n",
    "        .config(\"spark.driver.memoryOverhead\", \"2g\") \\\n",
    "        .getOrCreate()\n",
    "\n",
    "    # Extracts data from PostgreSQL database\n",
    "    df = spark.read.jdbc(\n",
    "        url=jdbc_url,\n",
    "        table=table_name,\n",
    "        properties=properties,\n",
    "    )\n",
    "    \n",
    "    return df, spark"
   ]
  },
  {
   "cell_type": "code",
   "execution_count": 62,
   "metadata": {},
   "outputs": [
    {
     "name": "stdout",
     "output_type": "stream",
     "text": [
      "Number of rows: 2009740\n",
      "root\n",
      " |-- id: integer (nullable = true)\n",
      " |-- schoolyear: string (nullable = true)\n",
      " |-- semester: string (nullable = true)\n",
      " |-- code: string (nullable = true)\n",
      " |-- description: string (nullable = true)\n",
      " |-- credits: integer (nullable = true)\n",
      " |-- instructor_id: string (nullable = true)\n",
      " |-- instructor: string (nullable = true)\n",
      " |-- srcode: string (nullable = true)\n",
      " |-- fullname: string (nullable = true)\n",
      " |-- campus: string (nullable = true)\n",
      " |-- college: string (nullable = true)\n",
      " |-- program: string (nullable = true)\n",
      " |-- grade_final: string (nullable = true)\n",
      " |-- grade_reexam: string (nullable = true)\n",
      " |-- status: string (nullable = true)\n",
      "\n"
     ]
    }
   ],
   "source": [
    "# Extract data once\n",
    "raw_df, spark = extract(jdbc_url, \"sample_data_ai_with_id\", properties, postgres_driver_path)\n",
    "\n",
    "# Check the number of rows\n",
    "row_count = raw_df.count()\n",
    "print(f'Number of rows: {row_count}')\n",
    "\n",
    "# Print schema\n",
    "raw_df.printSchema()"
   ]
  },
  {
   "cell_type": "code",
   "execution_count": 63,
   "metadata": {},
   "outputs": [
    {
     "name": "stdout",
     "output_type": "stream",
     "text": [
      "+------+----------+--------+----------+--------------------+-------+-------------+--------------+------+------------------+---------+--------------------+-------------------+-----------+------------+------+\n",
      "|    id|schoolyear|semester|      code|         description|credits|instructor_id|    instructor|srcode|          fullname|   campus|             college|            program|grade_final|grade_reexam|status|\n",
      "+------+----------+--------+----------+--------------------+-------+-------------+--------------+------+------------------+---------+--------------------+-------------------+-----------+------------+------+\n",
      "|103827| 2021-2022|   FIRST|  ENGG 401|Introduction to E...|      1|         1436|LN1436, FN1436|105282|LN105282, FN105282|ALANGILAN|College of Engine...|BS Food Engineering|       2.00|           -|PASSED|\n",
      "|103828| 2021-2022|   FIRST|    PE 101|Physical Fitness,...|      2|         1320|LN1320, FN1320|105282|LN105282, FN105282|ALANGILAN|College of Engine...|BS Food Engineering|       1.25|           -|PASSED|\n",
      "|103829| 2021-2022|   FIRST|   GEd 102|Mathematics in th...|      3|         3224|LN3224, FN3224|105282|LN105282, FN105282|ALANGILAN|College of Engine...|BS Food Engineering|       2.00|           -|PASSED|\n",
      "|103830| 2021-2022|   FIRST|   SCI 401|   General Chemistry|      4|         3104|LN3104, FN3104|105282|LN105282, FN105282|ALANGILAN|College of Engine...|BS Food Engineering|       2.00|           -|PASSED|\n",
      "|103831| 2023-2024|  SUMMER|  ENGG 404|Engineering Econo...|      3|         4446|LN4446, FN4446|105282|LN105282, FN105282|ALANGILAN|College of Engine...|BS Food Engineering|       1.75|           -|PASSED|\n",
      "|103832| 2023-2024|  SUMMER|    FE 411|Food Process Indu...|      3|         2464|LN2464, FN2464|105282|LN105282, FN105282|ALANGILAN|College of Engine...|BS Food Engineering|       1.75|           -|PASSED|\n",
      "|103833| 2021-2022|  SECOND|    PE 102| Rhythmic Activities|      2|         1320|LN1320, FN1320|105282|LN105282, FN105282|ALANGILAN|College of Engine...|BS Food Engineering|       1.00|           -|PASSED|\n",
      "|103834| 2021-2022|  SECOND|  ENGG 402| Engineering Drawing|      1|         2132|LN2132, FN2132|105282|LN105282, FN105282|ALANGILAN|College of Engine...|BS Food Engineering|       1.50|           -|PASSED|\n",
      "|103835| 2021-2022|  SECOND|   GEd 109|Science, Technolo...|      3|         2564|LN2564, FN2564|105282|LN105282, FN105282|ALANGILAN|College of Engine...|BS Food Engineering|       1.75|           -|PASSED|\n",
      "|103836| 2021-2022|  SECOND|NSTP 121RO|NSTP - Reserve Of...|      3|         2486|LN2486, FN2486|105282|LN105282, FN105282|ALANGILAN|College of Engine...|BS Food Engineering|       1.50|           -|PASSED|\n",
      "|103837| 2023-2024|   FIRST|  ENGG 412|Materials Science...|      3|         1961|LN1961, FN1961|105282|LN105282, FN105282|ALANGILAN|College of Engine...|BS Food Engineering|       1.75|           -|PASSED|\n",
      "|103838| 2023-2024|   FIRST|   ChE 434|Heat and Mass Tra...|      3|         1436|LN1436, FN1436|105282|LN105282, FN105282|ALANGILAN|College of Engine...|BS Food Engineering|        INC|        3.00|PASSED|\n",
      "|103839| 2023-2024|   FIRST|  ENGG 416|    Research Methods|      3|         1436|LN1436, FN1436|105282|LN105282, FN105282|ALANGILAN|College of Engine...|BS Food Engineering|       1.50|           -|PASSED|\n",
      "|103840| 2023-2024|   FIRST|  ENGG 409|Engineering Mecha...|      3|         4446|LN4446, FN4446|105282|LN105282, FN105282|ALANGILAN|College of Engine...|BS Food Engineering|       1.25|           -|PASSED|\n",
      "|103841| 2023-2024|   FIRST|    FE 407|Computer Applicat...|      1|         4468|LN4468, FN4468|105282|LN105282, FN105282|ALANGILAN|College of Engine...|BS Food Engineering|       2.00|           -|PASSED|\n",
      "|103842| 2023-2024|   FIRST|    FE 406|   Food Processing 1|      3|         4172|LN4172, FN4172|105282|LN105282, FN105282|ALANGILAN|College of Engine...|BS Food Engineering|       1.75|           -|PASSED|\n",
      "|103843| 2023-2024|   FIRST|  Fili 102|Filipino sa Iba't...|      3|         3214|LN3214, FN3214|105282|LN105282, FN105282|ALANGILAN|College of Engine...|BS Food Engineering|       1.25|           -|PASSED|\n",
      "|103844| 2023-2024|   FIRST|    ME 431|      Thermodynamics|      3|          539|  LN539, FN539|105282|LN105282, FN105282|ALANGILAN|College of Engine...|BS Food Engineering|       2.75|           -|PASSED|\n",
      "|103845| 2023-2024|   FIRST|    FE 405|   Food Microbiology|      4|          624|  LN624, FN624|105282|LN105282, FN105282|ALANGILAN|College of Engine...|BS Food Engineering|       2.75|           -|PASSED|\n",
      "|103846| 2024-2025|   FIRST|    FE 413|Post-Harvest Hand...|      3|         2464|LN2464, FN2464|105282|LN105282, FN105282|ALANGILAN|College of Engine...|BS Food Engineering|       2.25|           -|PASSED|\n",
      "+------+----------+--------+----------+--------------------+-------+-------------+--------------+------+------------------+---------+--------------------+-------------------+-----------+------------+------+\n",
      "only showing top 20 rows\n",
      "\n"
     ]
    }
   ],
   "source": [
    "raw_df.show()"
   ]
  },
  {
   "cell_type": "code",
   "execution_count": 64,
   "metadata": {},
   "outputs": [
    {
     "name": "stdout",
     "output_type": "stream",
     "text": [
      "Total instances: 2009740\n"
     ]
    }
   ],
   "source": [
    "total_count = raw_df.count()\n",
    "print(f\"Total instances: {total_count}\")"
   ]
  },
  {
   "cell_type": "code",
   "execution_count": 65,
   "metadata": {},
   "outputs": [],
   "source": [
    "from pyspark.sql.functions import col, upper\n",
    "\n",
    "# Uppercase all supposed to be uppercase data just to be sure\n",
    "df = raw_df.withColumn('grade_final', upper(col('grade_final')))\\\n",
    "                .withColumn('campus', upper(col('campus')))\\\n",
    "                .withColumn('semester', upper(col('semester')))\\\n",
    "                .withColumn('schoolyear', upper(col('schoolyear'))       \n",
    ")"
   ]
  },
  {
   "cell_type": "markdown",
   "metadata": {},
   "source": [
    "CHECK FOR TYPO ERROR AND UNWANTED VALUES UNDER semester COLUMN"
   ]
  },
  {
   "cell_type": "code",
   "execution_count": 66,
   "metadata": {},
   "outputs": [
    {
     "name": "stdout",
     "output_type": "stream",
     "text": [
      "+---------------+----------+\n",
      "|       semester|occurences|\n",
      "+---------------+----------+\n",
      "|          THURD|         1|\n",
      "|          THIRD|        10|\n",
      "|         SECOND|    770300|\n",
      "|           1.75|         1|\n",
      "|        SUMMER2|        43|\n",
      "|           1.25|         1|\n",
      "|SECOND SEMESTER|         1|\n",
      "|       SECOND_X|         4|\n",
      "|         SUMMER|     56200|\n",
      "|             --|         1|\n",
      "|          FIRST|   1183177|\n",
      "|THIRD TRIMESTER|         1|\n",
      "+---------------+----------+\n",
      "\n"
     ]
    }
   ],
   "source": [
    "df.createOrReplaceTempView('sample_data_ai_with_id')\n",
    "show_data = spark.sql(\"\"\"SELECT semester, COUNT(*) AS occurences \n",
    "                         FROM sample_data_ai_with_id \n",
    "                         GROUP BY semester\"\"\")\n",
    "show_data.show(22)"
   ]
  },
  {
   "cell_type": "markdown",
   "metadata": {},
   "source": [
    "FILTER TYPO ERRORS AND INSTANCES FOR SECOND SEMESTER, AND REMOVE ROWS WITH INVALID semester VALUES"
   ]
  },
  {
   "cell_type": "code",
   "execution_count": 67,
   "metadata": {},
   "outputs": [],
   "source": [
    "from pyspark.sql.functions import when\n",
    "\n",
    "valid_semesters = [\"FIRST\", \"SECOND\", \"SUMMER\", \"SUMMER2\"]\n",
    "df = df.withColumn(\n",
    "    \"semester\",\n",
    "    when(df[\"semester\"].isin(\"SECOND_X\", \"SECOND SEMESTER\"), \"SECOND\")\n",
    "    .when(df[\"semester\"].isin(valid_semesters), df[\"semester\"])\n",
    "    .otherwise(None)  # Assign None to invalid semesters so they can be filtered\n",
    ").filter(col(\"semester\").isNotNull())  # Remove rows where semester is None (invalid)"
   ]
  },
  {
   "cell_type": "code",
   "execution_count": 68,
   "metadata": {},
   "outputs": [
    {
     "name": "stdout",
     "output_type": "stream",
     "text": [
      "+--------+----------+\n",
      "|semester|occurences|\n",
      "+--------+----------+\n",
      "|  SECOND|    770305|\n",
      "| SUMMER2|        43|\n",
      "|  SUMMER|     56200|\n",
      "|   FIRST|   1183177|\n",
      "+--------+----------+\n",
      "\n"
     ]
    }
   ],
   "source": [
    "df.createOrReplaceTempView('sample_data_ai_with_id')\n",
    "show_data = spark.sql(\"\"\"SELECT semester, COUNT(*) AS occurences \n",
    "                         FROM sample_data_ai_with_id \n",
    "                         GROUP BY semester\"\"\")\n",
    "show_data.show()"
   ]
  },
  {
   "cell_type": "markdown",
   "metadata": {},
   "source": [
    "CHECK FOR SPECIAL CHARACTERS AND CATEGORICAL DATA IN grade_final COLUMN"
   ]
  },
  {
   "cell_type": "code",
   "execution_count": 69,
   "metadata": {},
   "outputs": [
    {
     "name": "stdout",
     "output_type": "stream",
     "text": [
      "+-----------+----------+\n",
      "|grade_final|occurences|\n",
      "+-----------+----------+\n",
      "|     PASSED|       255|\n",
      "|          P|        27|\n",
      "|         OG|      1581|\n",
      "|        INC|     60402|\n",
      "|          F|         1|\n",
      "|        DRP|      2907|\n",
      "|       5.00|     15360|\n",
      "|       4.00|       142|\n",
      "|       3.50|         1|\n",
      "|       3.00|    118143|\n",
      "|       2.75|     90548|\n",
      "|       2.50|    177289|\n",
      "|       2.25|    160248|\n",
      "|       2.00|    289305|\n",
      "|       1.75|    259871|\n",
      "|       1.50|    452501|\n",
      "|       1.25|    317688|\n",
      "|       1.00|     63424|\n",
      "|         --|         2|\n",
      "|          -|        19|\n",
      "|        -- |        11|\n",
      "+-----------+----------+\n",
      "\n"
     ]
    }
   ],
   "source": [
    "df.createOrReplaceTempView('sample_data_ai_with_id')\n",
    "show_data = spark.sql(\"\"\"SELECT grade_final, COUNT(*) AS occurences \n",
    "                         FROM sample_data_ai_with_id \n",
    "                         GROUP BY grade_final \n",
    "                         ORDER BY grade_final DESC\"\"\")\n",
    "show_data.show(22)"
   ]
  },
  {
   "cell_type": "markdown",
   "metadata": {},
   "source": [
    "REMOVE WHITE SPACES FROM ALL THE COLUMNS"
   ]
  },
  {
   "cell_type": "code",
   "execution_count": 70,
   "metadata": {},
   "outputs": [],
   "source": [
    "from pyspark.sql.functions import trim\n",
    "\n",
    "df = df.withColumn('schoolyear', trim('schoolyear'))\\\n",
    ".withColumn('semester', trim('semester'))\\\n",
    ".withColumn('code', trim('code'))\\\n",
    ".withColumn('description', trim('description'))\\\n",
    ".withColumn('credits', trim('credits'))\\\n",
    ".withColumn('instructor_id', trim('instructor_id'))\\\n",
    ".withColumn('instructor', trim('instructor'))\\\n",
    ".withColumn('srcode', trim('srcode'))\\\n",
    ".withColumn('fullname', trim('fullname'))\\\n",
    ".withColumn('campus', trim('campus'))\\\n",
    ".withColumn('college', trim('college'))\\\n",
    ".withColumn('program', trim('program'))\\\n",
    ".withColumn('grade_final', trim('grade_final'))\\\n",
    ".withColumn('grade_reexam', trim('grade_reexam'))\\\n",
    ".withColumn('status', trim('status'))\n",
    "\n"
   ]
  },
  {
   "cell_type": "code",
   "execution_count": 71,
   "metadata": {},
   "outputs": [
    {
     "name": "stdout",
     "output_type": "stream",
     "text": [
      "+------+----------+--------+----------+--------------------+-------+-------------+--------------+------+------------------+-------+--------------------+--------------------+-----------+------------+------+\n",
      "|    id|schoolyear|semester|      code|         description|credits|instructor_id|    instructor|srcode|          fullname| campus|             college|             program|grade_final|grade_reexam|status|\n",
      "+------+----------+--------+----------+--------------------+-------+-------------+--------------+------+------------------+-------+--------------------+--------------------+-----------+------------+------+\n",
      "|114277| 2024-2025|   FIRST|    IT 111|Introduction to C...|      3|         4627|LN4627, FN4627|160815|LN160815, FN160815|   LIPA|College of Inform...|BS Information Te...|       2.75|           -|PASSED|\n",
      "|114278| 2024-2025|   FIRST|   GEd 104|The Contemporary ...|      3|         4523|LN4523, FN4523|160815|LN160815, FN160815|   LIPA|College of Inform...|BS Information Te...|       1.75|           -|PASSED|\n",
      "|114279| 2024-2025|   FIRST|   GEd 103|Life and Works of...|      3|         5062|LN5062, FN5062|160815|LN160815, FN160815|   LIPA|College of Inform...|BS Information Te...|       1.50|           -|PASSED|\n",
      "|114280| 2024-2025|   FIRST|NSTP 111CW|NSTP - Civic Welf...|      3|         2974|LN2974, FN2974|160815|LN160815, FN160815|   LIPA|College of Inform...|BS Information Te...|       1.50|           -|PASSED|\n",
      "|114281| 2024-2025|   FIRST|   GEd 108|    Art Appreciation|      3|         4057|LN4057, FN4057|160815|LN160815, FN160815|   LIPA|College of Inform...|BS Information Te...|       2.00|           -|PASSED|\n",
      "|114282| 2023-2024|   FIRST|    Ed 102|The Teaching Prof...|      3|         2215|LN2215, FN2215|152608|LN152608, FN152608|NASUGBU|College of Teache...|Bachelor of Physi...|       1.75|           -|PASSED|\n",
      "|114283| 2023-2024|   FIRST|   PEd 111|Philosophical and...|      3|         2215|LN2215, FN2215|152608|LN152608, FN152608|NASUGBU|College of Teache...|Bachelor of Physi...|       1.50|           -|PASSED|\n",
      "|114284| 2023-2024|   FIRST|   PEd 112|Anatomy and Physi...|      3|          195|  LN195, FN195|152608|LN152608, FN152608|NASUGBU|College of Teache...|Bachelor of Physi...|       3.00|           -|PASSED|\n",
      "|114285| 2023-2024|   FIRST|   GEd 104|The Contemporary ...|      3|          826|  LN826, FN826|152608|LN152608, FN152608|NASUGBU|College of Teache...|Bachelor of Physi...|       3.00|           -|PASSED|\n",
      "|114286| 2023-2024|   FIRST|  NSTP 111|National Service ...|      3|         1003|LN1003, FN1003|152608|LN152608, FN152608|NASUGBU|College of Teache...|Bachelor of Physi...|       1.50|           -|PASSED|\n",
      "|114287| 2023-2024|  SECOND|  Fili 101|Kontekstwalisadon...|      3|         4653|LN4653, FN4653|152608|LN152608, FN152608|NASUGBU|College of Teache...|Bachelor of Physi...|       2.75|           -|PASSED|\n",
      "|114288| 2023-2024|   FIRST|  Litr 101|Sosyedad at Liter...|      3|         3850|LN3850, FN3850|152608|LN152608, FN152608|NASUGBU|College of Teache...|Bachelor of Physi...|       2.00|           -|PASSED|\n",
      "|114289| 2023-2024|   FIRST|   GEd 105|Readings in Phili...|      3|         3981|LN3981, FN3981|152608|LN152608, FN152608|NASUGBU|College of Teache...|Bachelor of Physi...|       2.50|           -|PASSED|\n",
      "|114290| 2023-2024|   FIRST| PATHFit 1|Movement Competen...|      2|         3354|LN3354, FN3354|152608|LN152608, FN152608|NASUGBU|College of Teache...|Bachelor of Physi...|       1.50|           -|PASSED|\n",
      "|114291| 2023-2024|   FIRST|   PEd 113|Principles of Mot...|      3|         3340|LN3340, FN3340|152608|LN152608, FN152608|NASUGBU|College of Teache...|Bachelor of Physi...|       2.25|           -|PASSED|\n",
      "|114292| 2023-2024|   FIRST|   GEd 106|Purposive Communi...|      3|         4224|LN4224, FN4224|152608|LN152608, FN152608|NASUGBU|College of Teache...|Bachelor of Physi...|       2.50|           -|PASSED|\n",
      "|114293| 2023-2024|  SECOND|  NSTP 121|National Service ...|      3|         1003|LN1003, FN1003|152608|LN152608, FN152608|NASUGBU|College of Teache...|Bachelor of Physi...|       2.00|           -|PASSED|\n",
      "|114294| 2023-2024|  SECOND|   GEd 102|Mathematics in th...|      3|         2214|LN2214, FN2214|152608|LN152608, FN152608|NASUGBU|College of Teache...|Bachelor of Physi...|       2.50|           -|PASSED|\n",
      "|114295| 2023-2024|  SECOND|   PEd 123|Emergency Prepare...|      3|         2353|LN2353, FN2353|152608|LN152608, FN152608|NASUGBU|College of Teache...|Bachelor of Physi...|       2.25|           -|PASSED|\n",
      "|114296| 2023-2024|  SECOND| PATHFit 2|Exercise-Based Fi...|      2|         4583|LN4583, FN4583|152608|LN152608, FN152608|NASUGBU|College of Teache...|Bachelor of Physi...|       2.25|           -|PASSED|\n",
      "|114297| 2023-2024|  SECOND|   GEd 101|Understanding the...|      3|         4187|LN4187, FN4187|152608|LN152608, FN152608|NASUGBU|College of Teache...|Bachelor of Physi...|       1.50|           -|PASSED|\n",
      "|114298| 2023-2024|  SECOND|   GEd 103|Life and Works of...|      3|         3981|LN3981, FN3981|152608|LN152608, FN152608|NASUGBU|College of Teache...|Bachelor of Physi...|       2.25|           -|PASSED|\n",
      "+------+----------+--------+----------+--------------------+-------+-------------+--------------+------+------------------+-------+--------------------+--------------------+-----------+------------+------+\n",
      "only showing top 22 rows\n",
      "\n"
     ]
    }
   ],
   "source": [
    "df.createOrReplaceTempView('sample_data_ai_with_id')\n",
    "\n",
    "show_data = spark.sql(\"SELECT * FROM sample_data_ai_with_id\")\n",
    "show_data.show(22)"
   ]
  },
  {
   "cell_type": "code",
   "execution_count": 72,
   "metadata": {},
   "outputs": [
    {
     "name": "stdout",
     "output_type": "stream",
     "text": [
      "+-----------+----------+\n",
      "| schoolyear|occurences|\n",
      "+-----------+----------+\n",
      "|  2024-2025|    392358|\n",
      "|2023-2024_X|         4|\n",
      "|  2023-2024|    698500|\n",
      "|  2022-2023|    551385|\n",
      "|  2021-2022|    306076|\n",
      "|  2020-2021|     45721|\n",
      "|  2019-2022|         1|\n",
      "|  2019-2020|     10394|\n",
      "|  2018-2019|      2550|\n",
      "|  2017-2018|       759|\n",
      "|  2016-2017|       606|\n",
      "|  2015-2016|       681|\n",
      "|  2014-2015|       266|\n",
      "|  2013-2014|       103|\n",
      "|  2012-2013|        99|\n",
      "|  2011-2012|        56|\n",
      "|  2010-2011|        36|\n",
      "|  2009-2010|        21|\n",
      "|  2008-2009|        12|\n",
      "|  2007-2008|        17|\n",
      "|  2006-2007|         2|\n",
      "|  2005-2006|         3|\n",
      "|  2004-2005|        23|\n",
      "|       2004|         1|\n",
      "|  2003-2004|        23|\n",
      "|  2002-2003|        12|\n",
      "|  2001-2002|         4|\n",
      "|  2000-2001|         8|\n",
      "|  1999-2000|         4|\n",
      "+-----------+----------+\n",
      "\n"
     ]
    }
   ],
   "source": [
    "df.createOrReplaceTempView('sample_data_ai_with_id')\n",
    "\n",
    "show_data = spark.sql(\"\"\"SELECT schoolyear, COUNT(*) AS occurences \n",
    "                         FROM sample_data_ai_with_id \n",
    "                         GROUP BY schoolyear \n",
    "                         ORDER BY schoolyear DESC\"\"\")\n",
    "\n",
    "show_data.show(50)"
   ]
  },
  {
   "cell_type": "markdown",
   "metadata": {},
   "source": [
    "FILTERING schoolyear AND REMOVE/REPLACE UNWANTED VALUES"
   ]
  },
  {
   "cell_type": "code",
   "execution_count": 73,
   "metadata": {},
   "outputs": [],
   "source": [
    "from pyspark.sql.functions import regexp_extract, col\n",
    "\n",
    "# 1. Extract the YYYY-YYYY pattern (handles cases with trailing _X)\n",
    "df = df.withColumn(\n",
    "    \"schoolyear\", regexp_extract(col(\"schoolyear\"), r\"(\\d{4}-\\d{4})\", 1)\n",
    ")\n",
    "\n",
    "# 2. Filter out rows WITHOUT the YYYY-YYYY pattern\n",
    "schoolyear_regex = r\"^\\d{4}-\\d{4}$\"  # Regex for exact YYYY-YYYY format\n",
    "df = df.filter(col(\"schoolyear\").rlike(schoolyear_regex))  # Keep only matching rows"
   ]
  },
  {
   "cell_type": "code",
   "execution_count": 74,
   "metadata": {},
   "outputs": [
    {
     "name": "stdout",
     "output_type": "stream",
     "text": [
      "+----------+----------+\n",
      "|schoolyear|occurences|\n",
      "+----------+----------+\n",
      "| 2024-2025|    392358|\n",
      "| 2023-2024|    698504|\n",
      "| 2022-2023|    551385|\n",
      "| 2021-2022|    306076|\n",
      "| 2020-2021|     45721|\n",
      "| 2019-2022|         1|\n",
      "| 2019-2020|     10394|\n",
      "| 2018-2019|      2550|\n",
      "| 2017-2018|       759|\n",
      "| 2016-2017|       606|\n",
      "| 2015-2016|       681|\n",
      "| 2014-2015|       266|\n",
      "| 2013-2014|       103|\n",
      "| 2012-2013|        99|\n",
      "| 2011-2012|        56|\n",
      "| 2010-2011|        36|\n",
      "| 2009-2010|        21|\n",
      "| 2008-2009|        12|\n",
      "| 2007-2008|        17|\n",
      "| 2006-2007|         2|\n",
      "| 2005-2006|         3|\n",
      "| 2004-2005|        23|\n",
      "| 2003-2004|        23|\n",
      "| 2002-2003|        12|\n",
      "| 2001-2002|         4|\n",
      "| 2000-2001|         8|\n",
      "| 1999-2000|         4|\n",
      "+----------+----------+\n",
      "\n"
     ]
    }
   ],
   "source": [
    "df.createOrReplaceTempView('sample_data_ai_with_id')\n",
    "\n",
    "show_data = spark.sql(\"\"\"SELECT schoolyear, COUNT(*) AS occurences \n",
    "                         FROM sample_data_ai_with_id \n",
    "                         GROUP BY schoolyear \n",
    "                         ORDER BY schoolyear DESC\"\"\")\n",
    "\n",
    "show_data.show(50)"
   ]
  },
  {
   "cell_type": "code",
   "execution_count": 75,
   "metadata": {},
   "outputs": [
    {
     "name": "stdout",
     "output_type": "stream",
     "text": [
      "+-----------+------------+----------+\n",
      "|grade_final|grade_reexam|occurences|\n",
      "+-----------+------------+----------+\n",
      "|       1.50|           -|    452457|\n",
      "|       1.25|           -|    317624|\n",
      "|       2.00|           -|    289284|\n",
      "|       1.75|           -|    259850|\n",
      "|       2.50|           -|    177260|\n",
      "|       2.25|           -|    160236|\n",
      "|       3.00|           -|    118116|\n",
      "|       2.75|           -|     90523|\n",
      "|       1.00|           -|     63412|\n",
      "|        INC|        3.00|     35140|\n",
      "|        INC|        5.00|     16175|\n",
      "|       5.00|           -|     15352|\n",
      "|        DRP|           -|      2902|\n",
      "|        INC|           -|      1867|\n",
      "|         OG|           -|      1581|\n",
      "|        INC|        2.50|      1469|\n",
      "|        INC|        2.75|      1437|\n",
      "|        INC|        2.00|      1294|\n",
      "|        INC|        2.25|       904|\n",
      "|        INC|        1.75|       893|\n",
      "|        INC|        1.50|       847|\n",
      "|        INC|        1.25|       310|\n",
      "|     PASSED|           -|       255|\n",
      "|       4.00|        3.00|       117|\n",
      "|       1.25|          --|        62|\n",
      "|        INC|        1.00|        51|\n",
      "|       1.50|          --|        37|\n",
      "|          P|           -|        27|\n",
      "|       4.00|        5.00|        25|\n",
      "|       2.50|        null|        22|\n",
      "|       3.00|        null|        18|\n",
      "|       1.75|          --|        15|\n",
      "|          -|           -|        15|\n",
      "|       2.75|        null|        14|\n",
      "|         --|          --|        13|\n",
      "|        INC|          --|        12|\n",
      "|       1.00|          --|        12|\n",
      "|       2.00|        null|        11|\n",
      "|       3.00|          --|         9|\n",
      "|       2.25|        null|         9|\n",
      "|       2.75|          --|         9|\n",
      "|       2.00|          --|         7|\n",
      "|       2.50|          --|         7|\n",
      "|       5.00|          --|         7|\n",
      "|       1.50|        null|         6|\n",
      "|        DRP|          --|         5|\n",
      "|       1.75|        null|         5|\n",
      "|       2.25|          --|         3|\n",
      "|        INC|        null|         3|\n",
      "|       2.00|        1.50|         2|\n",
      "|          -|        1.00|         1|\n",
      "|       1.75|         INC|         1|\n",
      "|       3.50|           -|         1|\n",
      "|       1.25|        null|         1|\n",
      "|       1.50|        null|         1|\n",
      "|       2.75|        1.50|         1|\n",
      "|       5.00|        null|         1|\n",
      "|          -|        1.50|         1|\n",
      "|          -|        1.25|         1|\n",
      "|       2.00|        null|         1|\n",
      "|       2.75|         INC|         1|\n",
      "|          F|           -|         1|\n",
      "|          -|        2.00|         1|\n",
      "+-----------+------------+----------+\n",
      "\n"
     ]
    }
   ],
   "source": [
    "df.createOrReplaceTempView('sample_data_ai_with_id')\n",
    "show_data = spark.sql(\"\"\"SELECT grade_final, grade_reexam, COUNT(*) AS occurences \n",
    "                         FROM sample_data_ai_with_id \n",
    "                         GROUP BY grade_final, grade_reexam \n",
    "                         ORDER BY occurences DESC\"\"\")\n",
    "show_data.show(80)"
   ]
  },
  {
   "cell_type": "code",
   "execution_count": 76,
   "metadata": {},
   "outputs": [
    {
     "name": "stdout",
     "output_type": "stream",
     "text": [
      "Total instances: 2009724\n"
     ]
    }
   ],
   "source": [
    "total_count = df.count()\n",
    "print(f\"Total instances: {total_count}\")"
   ]
  },
  {
   "cell_type": "markdown",
   "metadata": {},
   "source": [
    "CREATING grade_numeric and grade_classification COLUMNS and inserting values accordingly"
   ]
  },
  {
   "cell_type": "code",
   "execution_count": null,
   "metadata": {},
   "outputs": [],
   "source": [
    "from pyspark.sql.functions import when, col, regexp_extract, lit, coalesce, isnull, format_number\n",
    "\n",
    "# 1. Filter out rows with invalid grade_final values (excluding \"-\", \"--\")\n",
    "invalid_grades = [\"PASSED\", \"P\", \"OG\", \"F\"]\n",
    "df = df.filter(~col(\"grade_final\").isin(invalid_grades))\n",
    "\n",
    "# 2. Create the 'grade_numeric' column\n",
    "df = df.withColumn(\n",
    "    \"grade_numeric\",\n",
    "    when(\n",
    "        (df[\"grade_reexam\"].isNotNull()) & (~df[\"grade_reexam\"].isin(invalid_grades)) & (df[\"grade_reexam\"].rlike(r\"^\\d+\\.?\\d*$\")),\n",
    "        regexp_extract(df[\"grade_reexam\"], r\"(\\d+\\.?\\d*)\", 1)\n",
    "    ).when(\n",
    "        (~df[\"grade_final\"].isin(\"DRP\", \"INC\")) & (df[\"grade_final\"].rlike(r\"^\\d+\\.?\\d*$\")),\n",
    "        regexp_extract(df[\"grade_final\"], r\"(\\d+\\.?\\d*)\", 1)\n",
    "    ).when(\n",
    "       (df[\"grade_final\"] == \"INC\") & (df[\"grade_reexam\"].isNotNull()) & (~df[\"grade_reexam\"].isin(invalid_grades)) & (df[\"grade_reexam\"].rlike(r\"^\\d+\\.?\\d*$\")),\n",
    "        regexp_extract(df[\"grade_reexam\"], r\"(\\d+\\.?\\d*)\", 1)\n",
    "    ).when(df[\"grade_final\"] == \"DRP\", 0\n",
    "    )\n",
    "    .otherwise(None)\n",
    ").withColumn(\"grade_numeric\", col(\"grade_numeric\").cast(\"double\")).fillna({\"grade_numeric\": 5})\n",
    "\n",
    "\n",
    "# 3. Filter valid numeric grades\n",
    "valid_numeric_grades = ['1.00','1.25','1.50','1.75','2.00','2.25','2.50','2.75','3.00','4.00','5.00']\n",
    "df = df.filter(\n",
    "    when(~df[\"grade_numeric\"].isin(0.0), df[\"grade_numeric\"].isin([float(x) for x in valid_numeric_grades])).otherwise(True)\n",
    ")\n",
    "\n",
    "\n",
    "# Format grade_numeric to two decimal places x.xx\n",
    "df = df.withColumn(\"grade_numeric\", format_number(\"grade_numeric\", 2))\n",
    "\n",
    "# 4. Create the 'grade_classification' column\n",
    "df = df.withColumn(\n",
    "    \"grade_classification\",\n",
    "    when(\n",
    "        (df[\"grade_final\"].rlike(r\"^\\d+\\.\\d+$\")) & (isnull(df[\"grade_reexam\"]) | df[\"grade_reexam\"].isin(invalid_grades)),\n",
    "        'NORMAL')\n",
    "    .when(\n",
    "        (df[\"grade_final\"].isin([\"-\", \"--\"])) & (df[\"grade_reexam\"].rlike(r\"^\\d+\\.\\d+$\")),\n",
    "        'NORMAL')\n",
    "    .when(\n",
    "        (df[\"grade_final\"] == \"INC\") & (df[\"grade_reexam\"].rlike(r\"^\\d+\\.\\d+$\")),\n",
    "        'INC')\n",
    "    .when(\n",
    "        df[\"grade_final\"] == \"DRP\",\n",
    "        'DROP')\n",
    "    .when(\n",
    "        ((df[\"grade_final\"].rlike(r\"^\\d+\\.\\d+$\")) & (df[\"grade_reexam\"] == \"INC\")) |\n",
    "        ((df[\"grade_final\"].rlike(r\"^\\d+\\.\\d+$\")) & (df[\"grade_reexam\"].isin(invalid_grades))),\n",
    "        'INC')\n",
    "    .when(\n",
    "        (df[\"grade_final\"].rlike(r\"^\\d+\\.\\d+$\")) & (~df[\"grade_reexam\"].rlike(r\"^\\d+\\.\\d+$\")),\n",
    "        'NORMAL')\n",
    "    .when(\n",
    "        (df[\"grade_final\"].rlike(r\"^\\d+\\.\\d+$\")) & (df[\"grade_reexam\"].rlike(r\"^\\d+\\.\\d+$\")) &\n",
    "        (col(\"grade_final\").cast(\"double\") > col(\"grade_reexam\").cast(\"double\")),\n",
    "        'IMPROVED(REEXAM)')\n",
    "    .when(\n",
    "        (df[\"grade_final\"].rlike(r\"^\\d+\\.\\d+$\")) & (df[\"grade_reexam\"].rlike(r\"^\\d+\\.\\d+$\")) &\n",
    "        (col(\"grade_final\").cast(\"double\") < col(\"grade_reexam\").cast(\"double\")),\n",
    "        'FAILED(REEXAM)')\n",
    "            \n",
    "    .otherwise(\"INVALID\")\n",
    ")\n"
   ]
  },
  {
   "cell_type": "code",
   "execution_count": 78,
   "metadata": {},
   "outputs": [
    {
     "name": "stdout",
     "output_type": "stream",
     "text": [
      "root\n",
      " |-- id: integer (nullable = true)\n",
      " |-- schoolyear: string (nullable = true)\n",
      " |-- semester: string (nullable = true)\n",
      " |-- code: string (nullable = true)\n",
      " |-- description: string (nullable = true)\n",
      " |-- credits: string (nullable = true)\n",
      " |-- instructor_id: string (nullable = true)\n",
      " |-- instructor: string (nullable = true)\n",
      " |-- srcode: string (nullable = true)\n",
      " |-- fullname: string (nullable = true)\n",
      " |-- campus: string (nullable = true)\n",
      " |-- college: string (nullable = true)\n",
      " |-- program: string (nullable = true)\n",
      " |-- grade_final: string (nullable = true)\n",
      " |-- grade_reexam: string (nullable = true)\n",
      " |-- status: string (nullable = true)\n",
      " |-- grade_numeric: string (nullable = true)\n",
      " |-- grade_classification: string (nullable = false)\n",
      "\n"
     ]
    }
   ],
   "source": [
    "df.printSchema()"
   ]
  },
  {
   "cell_type": "code",
   "execution_count": 79,
   "metadata": {},
   "outputs": [
    {
     "name": "stdout",
     "output_type": "stream",
     "text": [
      "+-----------+------------+-------------+--------------------+----------+\n",
      "|grade_final|grade_reexam|grade_numeric|grade_classification|occurences|\n",
      "+-----------+------------+-------------+--------------------+----------+\n",
      "|       1.50|           -|         1.50|              NORMAL|    452457|\n",
      "|       1.25|           -|         1.25|              NORMAL|    317624|\n",
      "|       2.00|           -|         2.00|              NORMAL|    289284|\n",
      "|       1.75|           -|         1.75|              NORMAL|    259850|\n",
      "|       2.50|           -|         2.50|              NORMAL|    177260|\n",
      "|       2.25|           -|         2.25|              NORMAL|    160236|\n",
      "|       3.00|           -|         3.00|              NORMAL|    118116|\n",
      "|       2.75|           -|         2.75|              NORMAL|     90523|\n",
      "|       1.00|           -|         1.00|              NORMAL|     63412|\n",
      "|        INC|        3.00|         3.00|                 INC|     35140|\n",
      "|        INC|        5.00|         5.00|                 INC|     16175|\n",
      "|       5.00|           -|         5.00|              NORMAL|     15352|\n",
      "|        DRP|           -|         0.00|                DROP|      2902|\n",
      "|        INC|           -|         5.00|             INVALID|      1867|\n",
      "|        INC|        2.50|         2.50|                 INC|      1469|\n",
      "|        INC|        2.75|         2.75|                 INC|      1437|\n",
      "|        INC|        2.00|         2.00|                 INC|      1294|\n",
      "|        INC|        2.25|         2.25|                 INC|       904|\n",
      "|        INC|        1.75|         1.75|                 INC|       893|\n",
      "|        INC|        1.50|         1.50|                 INC|       847|\n",
      "|        INC|        1.25|         1.25|                 INC|       310|\n",
      "|       4.00|        3.00|         3.00|    IMPROVED(REEXAM)|       117|\n",
      "|       1.25|          --|         1.25|              NORMAL|        62|\n",
      "|        INC|        1.00|         1.00|                 INC|        51|\n",
      "|       1.50|          --|         1.50|              NORMAL|        37|\n",
      "|       4.00|        5.00|         5.00|      FAILED(REEXAM)|        25|\n",
      "|       2.50|        null|         2.50|              NORMAL|        22|\n",
      "|       3.00|        null|         3.00|              NORMAL|        18|\n",
      "|          -|           -|         5.00|             INVALID|        15|\n",
      "|       1.75|          --|         1.75|              NORMAL|        15|\n",
      "|       2.75|        null|         2.75|              NORMAL|        14|\n",
      "|         --|          --|         5.00|             INVALID|        13|\n",
      "|       1.00|          --|         1.00|              NORMAL|        12|\n",
      "|        INC|          --|         5.00|             INVALID|        12|\n",
      "|       2.00|        null|         2.00|              NORMAL|        11|\n",
      "|       2.25|        null|         2.25|              NORMAL|         9|\n",
      "|       2.75|          --|         2.75|              NORMAL|         9|\n",
      "|       3.00|          --|         3.00|              NORMAL|         9|\n",
      "|       2.50|          --|         2.50|              NORMAL|         7|\n",
      "|       5.00|          --|         5.00|              NORMAL|         7|\n",
      "|       2.00|          --|         2.00|              NORMAL|         7|\n",
      "|       1.50|        null|         1.50|              NORMAL|         6|\n",
      "|       1.75|        null|         1.75|              NORMAL|         5|\n",
      "|        DRP|          --|         0.00|                DROP|         5|\n",
      "|       2.25|          --|         2.25|              NORMAL|         3|\n",
      "|        INC|        null|         5.00|             INVALID|         3|\n",
      "|       2.00|        1.50|         1.50|    IMPROVED(REEXAM)|         2|\n",
      "|       2.75|         INC|         2.75|                 INC|         1|\n",
      "|          -|        1.25|         1.25|              NORMAL|         1|\n",
      "|       1.25|        null|         1.25|              NORMAL|         1|\n",
      "|       2.75|        1.50|         1.50|    IMPROVED(REEXAM)|         1|\n",
      "|          -|        1.00|         1.00|              NORMAL|         1|\n",
      "|          -|        2.00|         2.00|              NORMAL|         1|\n",
      "|       1.75|         INC|         1.75|                 INC|         1|\n",
      "|          -|        1.50|         1.50|              NORMAL|         1|\n",
      "|       2.00|        null|         2.00|              NORMAL|         1|\n",
      "|       5.00|        null|         5.00|              NORMAL|         1|\n",
      "|       1.50|        null|         1.50|              NORMAL|         1|\n",
      "+-----------+------------+-------------+--------------------+----------+\n",
      "\n"
     ]
    }
   ],
   "source": [
    "df.createOrReplaceTempView('sample_data_ai_with_id')\n",
    "show_data = spark.sql(\"\"\"SELECT grade_final, grade_reexam, grade_numeric, grade_classification, COUNT(*) AS occurences \n",
    "                         FROM sample_data_ai_with_id \n",
    "                         GROUP BY grade_final, grade_reexam, grade_numeric, grade_classification\n",
    "                         ORDER BY occurences DESC\"\"\")\n",
    "show_data.show(80)"
   ]
  },
  {
   "cell_type": "code",
   "execution_count": 80,
   "metadata": {},
   "outputs": [
    {
     "name": "stdout",
     "output_type": "stream",
     "text": [
      "Total instances: 2007859\n"
     ]
    }
   ],
   "source": [
    "total_count = df.count()\n",
    "print(f\"Total instances: {total_count}\")"
   ]
  },
  {
   "cell_type": "markdown",
   "metadata": {},
   "source": [
    "FILTER OUT (OG, P, Passed, F, DRP)"
   ]
  },
  {
   "cell_type": "code",
   "execution_count": 81,
   "metadata": {},
   "outputs": [],
   "source": [
    "# Filter out the data that is not included on the list\n",
    "allowed_data = ['1.00','1.25','1.50',\n",
    "                '1.75','2.00','2.25',\n",
    "                '2.50','2.75','3.00',\n",
    "                '4.00','5.00', 'INC', 'DRP']"
   ]
  },
  {
   "cell_type": "code",
   "execution_count": 82,
   "metadata": {},
   "outputs": [
    {
     "name": "stdout",
     "output_type": "stream",
     "text": [
      "+-------+--------+\n",
      "|program|count(1)|\n",
      "+-------+--------+\n",
      "|   NULL|    8180|\n",
      "+-------+--------+\n",
      "\n"
     ]
    }
   ],
   "source": [
    "df.createOrReplaceTempView('sample_data_ai_with_id')\n",
    "show_data = spark.sql(\"\"\"SELECT program, count(*)\n",
    "                         FROM sample_data_ai_with_id\n",
    "                         WHERE program = 'NULL'\n",
    "                         GROUP BY program \"\"\")\n",
    "show_data.show(50)"
   ]
  },
  {
   "cell_type": "markdown",
   "metadata": {},
   "source": [
    "DROP programs with \"NULL\" strings"
   ]
  },
  {
   "cell_type": "code",
   "execution_count": 83,
   "metadata": {},
   "outputs": [],
   "source": [
    "df = df.filter(col('program') != 'NULL')"
   ]
  },
  {
   "cell_type": "markdown",
   "metadata": {},
   "source": [
    "CHECK FOR NULL STRINGS IN program COLUMN"
   ]
  },
  {
   "cell_type": "code",
   "execution_count": 85,
   "metadata": {},
   "outputs": [
    {
     "name": "stdout",
     "output_type": "stream",
     "text": [
      "+-------+--------+\n",
      "|program|count(1)|\n",
      "+-------+--------+\n",
      "+-------+--------+\n",
      "\n"
     ]
    }
   ],
   "source": [
    "df.createOrReplaceTempView('sample_data_ai_with_id')\n",
    "show_data = spark.sql(\"\"\"SELECT program, count(*)\n",
    "                         FROM sample_data_ai_with_id\n",
    "                         WHERE program = 'NULL'\n",
    "                         GROUP BY program \"\"\")\n",
    "show_data.show(50)"
   ]
  },
  {
   "cell_type": "code",
   "execution_count": 61,
   "metadata": {},
   "outputs": [
    {
     "name": "stdout",
     "output_type": "stream",
     "text": [
      "+-----------+------------+----------+\n",
      "|grade_final|grade_reexam|occurences|\n",
      "+-----------+------------+----------+\n",
      "|       1.50|           -|    452457|\n",
      "|       1.25|           -|    317624|\n",
      "|       2.00|           -|    289284|\n",
      "|       1.75|           -|    259850|\n",
      "|       2.50|           -|    177260|\n",
      "|       2.25|           -|    160236|\n",
      "|       3.00|           -|    118116|\n",
      "|       2.75|           -|     90523|\n",
      "|       1.00|           -|     63412|\n",
      "|       5.00|           -|     15352|\n",
      "|        DRP|           -|      2902|\n",
      "|        INC|           -|      1867|\n",
      "|       1.25|          --|        62|\n",
      "|       1.50|          --|        37|\n",
      "|       2.50|        null|        22|\n",
      "|       3.00|        null|        18|\n",
      "|          -|           -|        15|\n",
      "|       1.75|          --|        15|\n",
      "|       2.75|        null|        14|\n",
      "|         --|          --|        13|\n",
      "|       1.00|          --|        12|\n",
      "|        INC|          --|        12|\n",
      "|       2.00|        null|        11|\n",
      "|       3.00|          --|         9|\n",
      "|       2.25|        null|         9|\n",
      "|       2.75|          --|         9|\n",
      "|       2.00|          --|         7|\n",
      "|       2.50|          --|         7|\n",
      "|       5.00|          --|         7|\n",
      "|       1.50|        null|         6|\n",
      "|       1.75|        null|         5|\n",
      "|        DRP|          --|         5|\n",
      "|        INC|        null|         3|\n",
      "|       2.25|          --|         3|\n",
      "|       1.25|        null|         1|\n",
      "+-----------+------------+----------+\n",
      "\n"
     ]
    }
   ],
   "source": [
    "df.createOrReplaceTempView('sample_data_ai_with_id')\n",
    "show_data = spark.sql(\"\"\"SELECT grade_final, grade_reexam, COUNT(*) AS occurences \n",
    "                         FROM sample_data_ai_with_id \n",
    "                         WHERE grade_reexam = '-' OR grade_reexam = '--' OR grade_reexam = 'NULL' OR grade_reexam IS NULL\n",
    "                         GROUP BY grade_final, grade_reexam \n",
    "                         ORDER BY occurences DESC\"\"\")\n",
    "show_data.show(50)"
   ]
  },
  {
   "cell_type": "markdown",
   "metadata": {},
   "source": [
    "ONLY ALLOW NUMERICAL STRINGS IN GRADE_REEXAM COLUMN"
   ]
  },
  {
   "cell_type": "code",
   "execution_count": 62,
   "metadata": {},
   "outputs": [],
   "source": [
    "df = df.withColumn(\n",
    "    \"grade_reexam\", when(col(\"grade_reexam\").rlike(\"^[0-9]*\\.?[0-9]+$\"), col(\"grade_reexam\")).otherwise(None)\n",
    ")"
   ]
  },
  {
   "cell_type": "code",
   "execution_count": 63,
   "metadata": {},
   "outputs": [
    {
     "name": "stdout",
     "output_type": "stream",
     "text": [
      "+-----------+------------+----------+\n",
      "|grade_final|grade_reexam|occurences|\n",
      "+-----------+------------+----------+\n",
      "|        INC|        3.00|     35140|\n",
      "|        INC|        5.00|     16175|\n",
      "|        DRP|        null|      2907|\n",
      "|        INC|        null|      1882|\n",
      "|        INC|        2.50|      1469|\n",
      "|        INC|        2.75|      1437|\n",
      "|        INC|        2.00|      1294|\n",
      "|        INC|        2.25|       904|\n",
      "|        INC|        1.75|       893|\n",
      "|        INC|        1.50|       847|\n",
      "|        INC|        1.25|       310|\n",
      "|        INC|        1.00|        51|\n",
      "+-----------+------------+----------+\n",
      "\n"
     ]
    }
   ],
   "source": [
    "df.createOrReplaceTempView('sample_data_ai_with_id')\n",
    "show_data = spark.sql(\"\"\"SELECT grade_final, grade_reexam, COUNT(*) AS occurences \n",
    "                         FROM sample_data_ai_with_id \n",
    "                         WHERE grade_final = 'INC' OR grade_final = 'DRP' \n",
    "                         GROUP BY grade_final, grade_reexam \n",
    "                         ORDER BY occurences DESC\"\"\")\n",
    "show_data.show(22)"
   ]
  },
  {
   "cell_type": "code",
   "execution_count": 64,
   "metadata": {},
   "outputs": [
    {
     "name": "stdout",
     "output_type": "stream",
     "text": [
      "+-----------+------------+----------+\n",
      "|grade_final|grade_reexam|occurences|\n",
      "+-----------+------------+----------+\n",
      "|       1.50|        null|    452501|\n",
      "|       1.25|        null|    317687|\n",
      "|       2.00|        null|    289303|\n",
      "|       1.75|        null|    259871|\n",
      "|       2.50|        null|    177289|\n",
      "|       2.25|        null|    160248|\n",
      "|       3.00|        null|    118143|\n",
      "|       2.75|        null|     90547|\n",
      "|       1.00|        null|     63424|\n",
      "|        INC|        3.00|     35140|\n",
      "|        INC|        5.00|     16175|\n",
      "|       5.00|        null|     15360|\n",
      "|        DRP|        null|      2907|\n",
      "|        INC|        null|      1882|\n",
      "|        INC|        2.50|      1469|\n",
      "|        INC|        2.75|      1437|\n",
      "|        INC|        2.00|      1294|\n",
      "|        INC|        2.25|       904|\n",
      "|        INC|        1.75|       893|\n",
      "|        INC|        1.50|       847|\n",
      "|        INC|        1.25|       310|\n",
      "|       4.00|        3.00|       117|\n",
      "+-----------+------------+----------+\n",
      "only showing top 22 rows\n",
      "\n"
     ]
    }
   ],
   "source": [
    "df.createOrReplaceTempView('sample_data_ai_with_id')\n",
    "show_data = spark.sql(\"\"\"SELECT grade_final, grade_reexam, COUNT(*) AS occurences \n",
    "                         FROM sample_data_ai_with_id\n",
    "                         GROUP BY grade_final, grade_reexam \n",
    "                         ORDER BY occurences DESC\"\"\")\n",
    "show_data.show(22)"
   ]
  },
  {
   "cell_type": "code",
   "execution_count": 65,
   "metadata": {},
   "outputs": [
    {
     "name": "stdout",
     "output_type": "stream",
     "text": [
      "+----------+----------+\n",
      "|schoolyear|occurences|\n",
      "+----------+----------+\n",
      "+----------+----------+\n",
      "\n"
     ]
    }
   ],
   "source": [
    "df.createOrReplaceTempView('sample_data_ai_with_id')\n",
    "show_data = spark.sql(\"\"\"SELECT schoolyear, COUNT(*) AS occurences \n",
    "                         FROM sample_data_ai_with_id \n",
    "                         WHERE schoolyear = '2023-2024_x' \n",
    "                         GROUP BY schoolyear\n",
    "                         ORDER BY occurences DESC\"\"\")\n",
    "show_data.show(22)"
   ]
  },
  {
   "cell_type": "code",
   "execution_count": 66,
   "metadata": {},
   "outputs": [
    {
     "name": "stdout",
     "output_type": "stream",
     "text": [
      "+---------+----------+\n",
      "|   campus|occurences|\n",
      "+---------+----------+\n",
      "|ALANGILAN|    745300|\n",
      "|       PB|    530649|\n",
      "|  NASUGBU|    239742|\n",
      "|   MALVAR|    189020|\n",
      "|     LIPA|    155627|\n",
      "|  ROSARIO|     41678|\n",
      "|   LEMERY|     36747|\n",
      "|  BALAYAN|     27566|\n",
      "| SAN JUAN|     16036|\n",
      "|     LOBO|     12597|\n",
      "|     null|      8162|\n",
      "|   MABINI|      4735|\n",
      "+---------+----------+\n",
      "\n"
     ]
    }
   ],
   "source": [
    "df.createOrReplaceTempView('sample_data_ai_with_id')\n",
    "show_data = spark.sql(\"\"\"SELECT campus, COUNT(*) AS occurences \n",
    "                         FROM sample_data_ai_with_id \n",
    "                         GROUP BY campus\n",
    "                         ORDER BY occurences DESC\"\"\")\n",
    "\n",
    "show_data.show()"
   ]
  },
  {
   "cell_type": "code",
   "execution_count": 67,
   "metadata": {},
   "outputs": [],
   "source": [
    "from pyspark.sql.types import DecimalType\n",
    "\n",
    "filtered_df = df.withColumn(\"credits\", df.credits.cast(\"int\"))\\\n",
    "    .withColumn(\"grade_numeric\", df.grade_numeric.cast(DecimalType(5, 2)))\n"
   ]
  },
  {
   "cell_type": "code",
   "execution_count": 68,
   "metadata": {},
   "outputs": [
    {
     "name": "stdout",
     "output_type": "stream",
     "text": [
      "root\n",
      " |-- id: integer (nullable = true)\n",
      " |-- schoolyear: string (nullable = true)\n",
      " |-- semester: string (nullable = true)\n",
      " |-- code: string (nullable = true)\n",
      " |-- description: string (nullable = true)\n",
      " |-- credits: integer (nullable = true)\n",
      " |-- instructor_id: string (nullable = true)\n",
      " |-- instructor: string (nullable = true)\n",
      " |-- srcode: string (nullable = true)\n",
      " |-- fullname: string (nullable = true)\n",
      " |-- campus: string (nullable = true)\n",
      " |-- college: string (nullable = true)\n",
      " |-- program: string (nullable = true)\n",
      " |-- grade_final: string (nullable = true)\n",
      " |-- grade_reexam: string (nullable = true)\n",
      " |-- status: string (nullable = true)\n",
      " |-- grade_numeric: decimal(5,2) (nullable = true)\n",
      " |-- grade_classification: string (nullable = false)\n",
      "\n"
     ]
    }
   ],
   "source": [
    "filtered_df.printSchema()"
   ]
  },
  {
   "cell_type": "markdown",
   "metadata": {},
   "source": [
    "CREATE A TEMPORARY DATABASE THAT WRITES THE FILTERED_DF INTO POSTGRESQL"
   ]
  },
  {
   "cell_type": "code",
   "execution_count": null,
   "metadata": {},
   "outputs": [],
   "source": [
    "'''filtered_df.write \\\n",
    "        .format(\"jdbc\") \\\n",
    "        .option(\"url\", jdbc_url) \\\n",
    "        .option(\"dbtable\", \"filtered_data_with_id\") \\\n",
    "        .option(\"user\", properties[\"user\"]) \\\n",
    "        .option(\"password\", properties[\"password\"]) \\\n",
    "        .option(\"driver\", properties[\"driver\"]) \\\n",
    "        .mode(\"overwrite\") \\\n",
    "        .save()'''"
   ]
  },
  {
   "cell_type": "code",
   "execution_count": 70,
   "metadata": {},
   "outputs": [
    {
     "name": "stdout",
     "output_type": "stream",
     "text": [
      "+-------------+\n",
      "|grade_numeric|\n",
      "+-------------+\n",
      "|         2.00|\n",
      "|         1.50|\n",
      "|         1.00|\n",
      "|         1.25|\n",
      "|         1.50|\n",
      "|         1.75|\n",
      "|         1.50|\n",
      "|         1.25|\n",
      "|         1.25|\n",
      "|         1.25|\n",
      "|         1.50|\n",
      "|         1.00|\n",
      "|         1.25|\n",
      "|         1.50|\n",
      "|         1.50|\n",
      "|         1.25|\n",
      "|         2.50|\n",
      "|         2.50|\n",
      "|         2.75|\n",
      "|         2.25|\n",
      "|         2.50|\n",
      "|         3.00|\n",
      "+-------------+\n",
      "only showing top 22 rows\n",
      "\n"
     ]
    }
   ],
   "source": [
    "df.createOrReplaceTempView('sample_data_ai_with_id')\n",
    "show_data = spark.sql(\"\"\"SELECT grade_numeric\n",
    "                         FROM sample_data_ai_with_id \"\"\")\n",
    "show_data.show(22)"
   ]
  },
  {
   "cell_type": "code",
   "execution_count": 71,
   "metadata": {},
   "outputs": [
    {
     "name": "stdout",
     "output_type": "stream",
     "text": [
      "root\n",
      " |-- id: integer (nullable = true)\n",
      " |-- schoolyear: string (nullable = true)\n",
      " |-- semester: string (nullable = true)\n",
      " |-- code: string (nullable = true)\n",
      " |-- description: string (nullable = true)\n",
      " |-- credits: integer (nullable = true)\n",
      " |-- instructor_id: string (nullable = true)\n",
      " |-- instructor: string (nullable = true)\n",
      " |-- srcode: string (nullable = true)\n",
      " |-- fullname: string (nullable = true)\n",
      " |-- campus: string (nullable = true)\n",
      " |-- college: string (nullable = true)\n",
      " |-- program: string (nullable = true)\n",
      " |-- grade_final: string (nullable = true)\n",
      " |-- grade_reexam: string (nullable = true)\n",
      " |-- status: string (nullable = true)\n",
      " |-- grade_numeric: decimal(5,2) (nullable = true)\n",
      " |-- grade_classification: string (nullable = false)\n",
      "\n"
     ]
    }
   ],
   "source": [
    "filtered_df.printSchema()"
   ]
  },
  {
   "cell_type": "markdown",
   "metadata": {},
   "source": [
    "PSEUDOCODE FOR CREATING TRAINING DFs"
   ]
  },
  {
   "cell_type": "code",
   "execution_count": null,
   "metadata": {},
   "outputs": [],
   "source": [
    "\n",
    "converted_df = df.franz\n",
    "\n",
    "for program in converted_df.program:\n",
    "    for srcode in converted_df.srcode:\n",
    "        for schoolyear_semester in converted_df.schoolyear_semester:\n",
    "            for avg_type in converted_df.avg_type:\n",
    "                #compute GWA\n",
    "                if min:\n",
    "                    #use min_grades\n",
    "                    #insert min_avg\n",
    "                    pass\n",
    "                elif mid:\n",
    "                    #use mid_grades\n",
    "                    #insert mid_avg\n",
    "                    pass\n",
    "                else:\n",
    "                    #use max_grades\n",
    "                    #insert max_avg\n",
    "                    pass\n",
    "                \n",
    "    df.create()"
   ]
  }
 ],
 "metadata": {
  "kernelspec": {
   "display_name": "venv",
   "language": "python",
   "name": "python3"
  },
  "language_info": {
   "codemirror_mode": {
    "name": "ipython",
    "version": 3
   },
   "file_extension": ".py",
   "mimetype": "text/x-python",
   "name": "python",
   "nbconvert_exporter": "python",
   "pygments_lexer": "ipython3",
   "version": "3.10.11"
  }
 },
 "nbformat": 4,
 "nbformat_minor": 2
}
