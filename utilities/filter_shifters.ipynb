{
 "cells": [
  {
   "cell_type": "code",
   "execution_count": 60,
   "metadata": {},
   "outputs": [],
   "source": [
    "from pyspark.sql import SparkSession\n",
    "\n",
    "#jdbc_url = \"jdbc:postgresql://localhost:5432/local_student_grades\"\n",
    "jdbc_url = \"jdbc:postgresql://192.168.20.11:5432/demo_db\"\n",
    "properties = {\n",
    "    \"user\": \"postgres\", \n",
    "    \"password\": \"postgres\",  \n",
    "    \"driver\": \"org.postgresql.Driver\",\n",
    "    \"fetchsize\": \"10000\"\n",
    "}\n",
    "postgres_driver_path = \"C:\\postgresql-42.7.5.jar\"\n",
    "\n",
    "\n",
    "\n",
    "def extract(jdbc_url, table_name, properties, postgres_driver_path):\n",
    "    \"\"\" Extract data from PostgreSQL database using Spark.\"\"\"\n",
    "    # Initialize Spark session\n",
    "    spark = SparkSession.builder \\\n",
    "        .appName(\"Postgres Connection\") \\\n",
    "        .config(\"spark.jars\", postgres_driver_path) \\\n",
    "        .config(\"spark.driver.memory\", \"8g\") \\\n",
    "        .config(\"spark.executor.memory\", \"8g\") \\\n",
    "        .config(\"spark.executor.memoryOverhead\", \"2g\") \\\n",
    "        .config(\"spark.driver.memoryOverhead\", \"2g\") \\\n",
    "        .getOrCreate()\n",
    "\n",
    "    # Extracts data from PostgreSQL database\n",
    "    df = spark.read.jdbc(\n",
    "        url=jdbc_url,\n",
    "        table=table_name,\n",
    "        properties=properties,\n",
    "    )\n",
    "    \n",
    "    return df, spark"
   ]
  },
  {
   "cell_type": "code",
   "execution_count": 61,
   "metadata": {},
   "outputs": [
    {
     "name": "stdout",
     "output_type": "stream",
     "text": [
      "Number of rows: 1999679\n",
      "root\n",
      " |-- id: integer (nullable = true)\n",
      " |-- schoolyear: string (nullable = true)\n",
      " |-- semester: string (nullable = true)\n",
      " |-- code: string (nullable = true)\n",
      " |-- description: string (nullable = true)\n",
      " |-- credits: integer (nullable = true)\n",
      " |-- instructor_id: string (nullable = true)\n",
      " |-- instructor: string (nullable = true)\n",
      " |-- srcode: string (nullable = true)\n",
      " |-- fullname: string (nullable = true)\n",
      " |-- campus: string (nullable = true)\n",
      " |-- college: string (nullable = true)\n",
      " |-- program: string (nullable = true)\n",
      " |-- grade_final: string (nullable = true)\n",
      " |-- grade_reexam: string (nullable = true)\n",
      " |-- status: string (nullable = true)\n",
      " |-- grade_numeric: decimal(5,2) (nullable = true)\n",
      " |-- grade_classification: string (nullable = true)\n",
      "\n"
     ]
    }
   ],
   "source": [
    "# Extract data once\n",
    "df, spark = extract(jdbc_url, \"filtered_data_with_id\", properties, postgres_driver_path)\n",
    "\n",
    "# Check the number of rows\n",
    "row_count = df.count()\n",
    "print(f'Number of rows: {row_count}')\n",
    "\n",
    "# Print schema\n",
    "df.printSchema()"
   ]
  },
  {
   "cell_type": "code",
   "execution_count": 62,
   "metadata": {},
   "outputs": [
    {
     "name": "stdout",
     "output_type": "stream",
     "text": [
      "+-------+----------+--------+----------+--------------------+-------+-------------+--------------+------+------------------+---------+--------------------+--------------------+-----------+------------+------+-------------+--------------------+\n",
      "|     id|schoolyear|semester|      code|         description|credits|instructor_id|    instructor|srcode|          fullname|   campus|             college|             program|grade_final|grade_reexam|status|grade_numeric|grade_classification|\n",
      "+-------+----------+--------+----------+--------------------+-------+-------------+--------------+------+------------------+---------+--------------------+--------------------+-----------+------------+------+-------------+--------------------+\n",
      "|1444611| 2023-2024|  SECOND|   CpE 401|Computer Programm...|      1|         4067|LN4067, FN4067|107764|LN107764, FN107764|ALANGILAN|College of Engine...|BS Electrical Eng...|       1.00|        null|PASSED|         1.00|              NORMAL|\n",
      "|1444608| 2023-2024|  SECOND|    EE 402|Advanced Mathemat...|      3|         1025|LN1025, FN1025|107764|LN107764, FN107764|ALANGILAN|College of Engine...|BS Electrical Eng...|       2.75|        null|PASSED|         2.75|              NORMAL|\n",
      "|1444609| 2023-2024|  SECOND|   ECE 421|Electronic Circui...|      4|         4197|LN4197, FN4197|107764|LN107764, FN107764|ALANGILAN|College of Engine...|BS Electrical Eng...|       2.00|        null|PASSED|         2.00|              NORMAL|\n",
      "|1444610| 2023-2024|  SECOND|NSTP 121CW|NSTP - Civic Welf...|      3|         4202|LN4202, FN4202|107764|LN107764, FN107764|ALANGILAN|College of Engine...|BS Electrical Eng...|       1.25|        null|PASSED|         1.25|              NORMAL|\n",
      "|1444612| 2023-2024|  SECOND|    EE 404|Electrical Machin...|      4|         3894|LN3894, FN3894|107764|LN107764, FN107764|ALANGILAN|College of Engine...|BS Electrical Eng...|       2.25|        null|PASSED|         2.25|              NORMAL|\n",
      "|1444613| 2023-2024|  SECOND|    PE 102| Rhythmic Activities|      2|         3066|LN3066, FN3066|107764|LN107764, FN107764|ALANGILAN|College of Engine...|BS Electrical Eng...|       1.25|        null|PASSED|         1.25|              NORMAL|\n",
      "|1444614| 2023-2024|  SECOND|    PE 104|         Team Sports|      2|         3023|LN3023, FN3023|107764|LN107764, FN107764|ALANGILAN|College of Engine...|BS Electrical Eng...|       1.50|        null|PASSED|         1.50|              NORMAL|\n",
      "|1444615| 2023-2024|  SECOND|   GEd 104|The Contemporary ...|      3|         2201|LN2201, FN2201|107764|LN107764, FN107764|ALANGILAN|College of Engine...|BS Electrical Eng...|       1.50|        null|PASSED|         1.50|              NORMAL|\n",
      "|1444616| 2024-2025|   FIRST|  Fili 101|Kontekstwalisadon...|      3|          871|  LN871, FN871|107764|LN107764, FN107764|ALANGILAN|College of Engine...|BS Electrical Eng...|       1.50|        null|PASSED|         1.50|              NORMAL|\n",
      "|1444617| 2024-2025|   FIRST|   ECE 423|Fundamentals of E...|      3|         2908|LN2908, FN2908|107764|LN107764, FN107764|ALANGILAN|College of Engine...|BS Electrical Eng...|       1.00|        null|PASSED|         1.00|              NORMAL|\n",
      "|1444618| 2024-2025|   FIRST|    EE 406|Electrical Machin...|      4|          780|  LN780, FN780|107764|LN107764, FN107764|ALANGILAN|College of Engine...|BS Electrical Eng...|       2.25|        null|PASSED|         2.25|              NORMAL|\n",
      "|1444619| 2024-2025|   FIRST|  MATH 403|Engineering Data ...|      3|         2445|LN2445, FN2445|107764|LN107764, FN107764|ALANGILAN|College of Engine...|BS Electrical Eng...|       1.25|        null|PASSED|         1.25|              NORMAL|\n",
      "|1444620| 2023-2024|   FIRST|  ENGG 409|Engineering Mecha...|      3|         4438|LN4438, FN4438|107764|LN107764, FN107764|ALANGILAN|College of Engine...|BS Electrical Eng...|       2.00|        null|PASSED|         2.00|              NORMAL|\n",
      "|1444621| 2023-2024|   FIRST|   GEd 101|Understanding the...|      3|         4445|LN4445, FN4445|107764|LN107764, FN107764|ALANGILAN|College of Engine...|BS Electrical Eng...|       1.25|        null|PASSED|         1.25|              NORMAL|\n",
      "|1444622| 2023-2024|   FIRST|   ECE 401|    Electromagnetics|      4|         4197|LN4197, FN4197|107764|LN107764, FN107764|ALANGILAN|College of Engine...|BS Electrical Eng...|       1.25|        null|PASSED|         1.25|              NORMAL|\n",
      "|1444623| 2023-2024|   FIRST|   GEd 106|Purposive Communi...|      3|         2497|LN2497, FN2497|107764|LN107764, FN107764|ALANGILAN|College of Engine...|BS Electrical Eng...|       1.00|        null|PASSED|         1.00|              NORMAL|\n",
      "|1444624| 2023-2024|   FIRST|   GEd 102|Mathematics in th...|      3|         2612|LN2612, FN2612|107764|LN107764, FN107764|ALANGILAN|College of Engine...|BS Electrical Eng...|       1.25|        null|PASSED|         1.25|              NORMAL|\n",
      "|1444625| 2023-2024|   FIRST|    EE 401|Electrical Circui...|      4|         2429|LN2429, FN2429|107764|LN107764, FN107764|ALANGILAN|College of Engine...|BS Electrical Eng...|       2.00|        null|PASSED|         2.00|              NORMAL|\n",
      "|1444626| 2023-2024|   FIRST|   SCI 401|   General Chemistry|      4|         3249|LN3249, FN3249|107764|LN107764, FN107764|ALANGILAN|College of Engine...|BS Electrical Eng...|       1.25|        null|PASSED|         1.25|              NORMAL|\n",
      "|1444627| 2024-2025|   FIRST|   CpE 409|Logic Circuits an...|      3|         4753|LN4753, FN4753|107764|LN107764, FN107764|ALANGILAN|College of Engine...|BS Electrical Eng...|       1.25|        null|PASSED|         1.25|              NORMAL|\n",
      "|1444628| 2024-2025|   FIRST|    ME 431|      Thermodynamics|      3|         3895|LN3895, FN3895|107764|LN107764, FN107764|ALANGILAN|College of Engine...|BS Electrical Eng...|       2.00|        null|PASSED|         2.00|              NORMAL|\n",
      "|1444629| 2024-2025|   FIRST|    EE 405|Electrical Appara...|      3|         4188|LN4188, FN4188|107764|LN107764, FN107764|ALANGILAN|College of Engine...|BS Electrical Eng...|       1.75|        null|PASSED|         1.75|              NORMAL|\n",
      "|1444630| 2024-2025|   FIRST|    PE 103|Individual and Du...|      2|         3479|LN3479, FN3479|107764|LN107764, FN107764|ALANGILAN|College of Engine...|BS Electrical Eng...|       1.25|        null|PASSED|         1.25|              NORMAL|\n",
      "|1444631| 2023-2024|  SUMMER|   SCI 402|      Modern Biology|      3|         3518|LN3518, FN3518|107764|LN107764, FN107764|ALANGILAN|College of Engine...|BS Electrical Eng...|       1.25|        null|PASSED|         1.25|              NORMAL|\n",
      "|1444632| 2023-2024|  SECOND|    EE 403|Electrical Circui...|      4|         4735|LN4735, FN4735|107764|LN107764, FN107764|ALANGILAN|College of Engine...|BS Electrical Eng...|       2.25|        null|PASSED|         2.25|              NORMAL|\n",
      "|1446506| 2021-2022|   FIRST|   GEd 103|Life and Works of...|      3|            2|      LN2, FN2|107764|LN107764, FN107764|ALANGILAN|College of Engine...|BS Mechanical Eng...|       1.25|        null|PASSED|         1.25|              NORMAL|\n",
      "|1446507| 2021-2022|   FIRST|  ENGG 401|Introduction to E...|      1|            2|      LN2, FN2|107764|LN107764, FN107764|ALANGILAN|College of Engine...|BS Mechanical Eng...|       1.00|        null|PASSED|         1.00|              NORMAL|\n",
      "|1446508| 2021-2022|   FIRST|    PE 101|Physical Fitness,...|      2|            2|      LN2, FN2|107764|LN107764, FN107764|ALANGILAN|College of Engine...|BS Mechanical Eng...|       1.75|        null|PASSED|         1.75|              NORMAL|\n",
      "|1446509| 2021-2022|   FIRST|   GEd 107|              Ethics|      3|            2|      LN2, FN2|107764|LN107764, FN107764|ALANGILAN|College of Engine...|BS Mechanical Eng...|       1.25|        null|PASSED|         1.25|              NORMAL|\n",
      "|1446510| 2021-2022|   FIRST|   GEd 108|    Art Appreciation|      3|            2|      LN2, FN2|107764|LN107764, FN107764|ALANGILAN|College of Engine...|BS Mechanical Eng...|       1.50|        null|PASSED|         1.50|              NORMAL|\n",
      "|1446511| 2021-2022|   FIRST|   SCI 403|           Physics 1|      4|            2|      LN2, FN2|107764|LN107764, FN107764|ALANGILAN|College of Engine...|BS Mechanical Eng...|       1.25|        null|PASSED|         1.25|              NORMAL|\n",
      "|1446512| 2021-2022|   FIRST|  MATH 401|Differential Calc...|      3|            2|      LN2, FN2|107764|LN107764, FN107764|ALANGILAN|College of Engine...|BS Mechanical Eng...|       1.00|        null|PASSED|         1.00|              NORMAL|\n",
      "|1446513| 2021-2022|  SECOND|   GEd 105|Readings in Phili...|      3|            2|      LN2, FN2|107764|LN107764, FN107764|ALANGILAN|College of Engine...|BS Electrical Eng...|       1.75|        null|PASSED|         1.75|              NORMAL|\n",
      "|1446514| 2021-2022|  SECOND|   GEd 109|Science, Technolo...|      3|            2|      LN2, FN2|107764|LN107764, FN107764|ALANGILAN|College of Engine...|BS Electrical Eng...|       1.00|        null|PASSED|         1.00|              NORMAL|\n",
      "|1446515| 2021-2022|  SECOND|NSTP 111CW|NSTP - Civic Welf...|      3|            2|      LN2, FN2|107764|LN107764, FN107764|ALANGILAN|College of Engine...|BS Electrical Eng...|       1.25|        null|PASSED|         1.25|              NORMAL|\n",
      "|1446516| 2021-2022|  SECOND|  ENGG 403|Computer-Aided De...|      1|            2|      LN2, FN2|107764|LN107764, FN107764|ALANGILAN|College of Engine...|BS Electrical Eng...|       1.00|        null|PASSED|         1.00|              NORMAL|\n",
      "|1446517| 2021-2022|  SECOND|  MATH 402|   Integral Calculus|      3|            2|      LN2, FN2|107764|LN107764, FN107764|ALANGILAN|College of Engine...|BS Electrical Eng...|       1.00|        null|PASSED|         1.00|              NORMAL|\n",
      "|1446518| 2021-2022|  SECOND|  ENGG 402| Engineering Drawing|      1|            2|      LN2, FN2|107764|LN107764, FN107764|ALANGILAN|College of Engine...|BS Electrical Eng...|       1.00|        null|PASSED|         1.00|              NORMAL|\n",
      "+-------+----------+--------+----------+--------------------+-------+-------------+--------------+------+------------------+---------+--------------------+--------------------+-----------+------------+------+-------------+--------------------+\n",
      "\n"
     ]
    }
   ],
   "source": [
    "df.createOrReplaceTempView('filtered_data_with_id')\n",
    "show_data = spark.sql(\"\"\"select * from filtered_data_with_id where srcode = '107764'\"\"\")\n",
    "show_data.show(50)"
   ]
  },
  {
   "cell_type": "markdown",
   "metadata": {},
   "source": [
    "REMOVE ALL RECORDS ASSOCIATED WITH PREVIOUS PROGRAMS (SHIFTERS)"
   ]
  },
  {
   "cell_type": "code",
   "execution_count": 63,
   "metadata": {},
   "outputs": [
    {
     "name": "stdout",
     "output_type": "stream",
     "text": [
      "Number of shifters: 58329\n",
      "+------+-------------+------------------------------------------------------------+\n",
      "|srcode|program_count|current_program                                             |\n",
      "+------+-------------+------------------------------------------------------------+\n",
      "|100005|10           |Master of Arts in Education major in Educational Management |\n",
      "|100010|72           |BS Hospitality Management                                   |\n",
      "|100016|50           |BS Psychology                                               |\n",
      "|100108|12           |Master of Arts in Education major in Social Studies Teaching|\n",
      "|100113|45           |BS Psychology                                               |\n",
      "+------+-------------+------------------------------------------------------------+\n",
      "only showing top 5 rows\n",
      "\n"
     ]
    }
   ],
   "source": [
    "from pyspark.sql.functions import col, count, max, row_number\n",
    "from pyspark.sql.window import Window\n",
    "\n",
    "def remove_previous_programs(df):\n",
    "    #Remove records of previous programs for shifters.\n",
    "    \n",
    "    # Create a window spec partitioned by srcode ordered by schoolyear desc\n",
    "    window_spec = Window.partitionBy(\"srcode\").orderBy(col(\"schoolyear\").desc())\n",
    "    \n",
    "    # Get the most recent program for each student\n",
    "    latest_programs = df.withColumn(\"row_number\", row_number().over(window_spec)) \\\n",
    "        .filter(col(\"row_number\") == 1) \\\n",
    "        .select(\"srcode\", \"program\", \"schoolyear\") \\\n",
    "        .withColumnRenamed(\"srcode\", \"latest_srcode\") \\\n",
    "        .withColumnRenamed(\"program\", \"latest_program\") \\\n",
    "        .withColumnRenamed(\"schoolyear\", \"latest_schoolyear\")\n",
    "    \n",
    "    # Join with original dataframe to keep only records with the most recent program\n",
    "    filtered_df = df.join(\n",
    "        latest_programs,\n",
    "        (df.srcode == latest_programs.latest_srcode) & \n",
    "        (df.program == latest_programs.latest_program),\n",
    "        \"inner\"\n",
    "    ).drop(\"latest_srcode\", \"latest_program\", \"latest_schoolyear\")\n",
    "    \n",
    "    return filtered_df\n",
    "\n",
    "# Identify shifters (students with multiple programs)\n",
    "def get_shifters(df):\n",
    "    \"\"\"Get list of students who have shifted programs.\"\"\"\n",
    "    return df.groupBy(\"srcode\") \\\n",
    "        .agg(\n",
    "            count(\"program\").alias(\"program_count\"),\n",
    "            max(\"program\").alias(\"current_program\")\n",
    "        ) \\\n",
    "        .filter(col(\"program_count\") > 1)\n",
    "\n",
    "# Example usage:\n",
    "shifters = get_shifters(df)\n",
    "cleaned_df = remove_previous_programs(df)\n",
    "\n",
    "# Show statistics\n",
    "print(\"Number of shifters:\", shifters.count())\n",
    "shifters.show()"
   ]
  },
  {
   "cell_type": "code",
   "execution_count": 69,
   "metadata": {},
   "outputs": [
    {
     "name": "stdout",
     "output_type": "stream",
     "text": [
      "+-------+----------+--------+----------+--------------------+-------+-------------+--------------+------+------------------+---------+--------------------+--------------------+-----------+------------+------+-------------+--------------------+\n",
      "|     id|schoolyear|semester|      code|         description|credits|instructor_id|    instructor|srcode|          fullname|   campus|             college|             program|grade_final|grade_reexam|status|grade_numeric|grade_classification|\n",
      "+-------+----------+--------+----------+--------------------+-------+-------------+--------------+------+------------------+---------+--------------------+--------------------+-----------+------------+------+-------------+--------------------+\n",
      "|1446516| 2021-2022|  SECOND|  ENGG 403|Computer-Aided De...|      1|            2|      LN2, FN2|107764|LN107764, FN107764|ALANGILAN|College of Engine...|BS Electrical Eng...|       1.00|        null|PASSED|         1.00|              NORMAL|\n",
      "|1446514| 2021-2022|  SECOND|   GEd 109|Science, Technolo...|      3|            2|      LN2, FN2|107764|LN107764, FN107764|ALANGILAN|College of Engine...|BS Electrical Eng...|       1.00|        null|PASSED|         1.00|              NORMAL|\n",
      "|1446517| 2021-2022|  SECOND|  MATH 402|   Integral Calculus|      3|            2|      LN2, FN2|107764|LN107764, FN107764|ALANGILAN|College of Engine...|BS Electrical Eng...|       1.00|        null|PASSED|         1.00|              NORMAL|\n",
      "|1446518| 2021-2022|  SECOND|  ENGG 402| Engineering Drawing|      1|            2|      LN2, FN2|107764|LN107764, FN107764|ALANGILAN|College of Engine...|BS Electrical Eng...|       1.00|        null|PASSED|         1.00|              NORMAL|\n",
      "|1446513| 2021-2022|  SECOND|   GEd 105|Readings in Phili...|      3|            2|      LN2, FN2|107764|LN107764, FN107764|ALANGILAN|College of Engine...|BS Electrical Eng...|       1.75|        null|PASSED|         1.75|              NORMAL|\n",
      "|1446515| 2021-2022|  SECOND|NSTP 111CW|NSTP - Civic Welf...|      3|            2|      LN2, FN2|107764|LN107764, FN107764|ALANGILAN|College of Engine...|BS Electrical Eng...|       1.25|        null|PASSED|         1.25|              NORMAL|\n",
      "|1444621| 2023-2024|   FIRST|   GEd 101|Understanding the...|      3|         4445|LN4445, FN4445|107764|LN107764, FN107764|ALANGILAN|College of Engine...|BS Electrical Eng...|       1.25|        null|PASSED|         1.25|              NORMAL|\n",
      "|1444622| 2023-2024|   FIRST|   ECE 401|    Electromagnetics|      4|         4197|LN4197, FN4197|107764|LN107764, FN107764|ALANGILAN|College of Engine...|BS Electrical Eng...|       1.25|        null|PASSED|         1.25|              NORMAL|\n",
      "|1444623| 2023-2024|   FIRST|   GEd 106|Purposive Communi...|      3|         2497|LN2497, FN2497|107764|LN107764, FN107764|ALANGILAN|College of Engine...|BS Electrical Eng...|       1.00|        null|PASSED|         1.00|              NORMAL|\n",
      "|1444624| 2023-2024|   FIRST|   GEd 102|Mathematics in th...|      3|         2612|LN2612, FN2612|107764|LN107764, FN107764|ALANGILAN|College of Engine...|BS Electrical Eng...|       1.25|        null|PASSED|         1.25|              NORMAL|\n",
      "|1444626| 2023-2024|   FIRST|   SCI 401|   General Chemistry|      4|         3249|LN3249, FN3249|107764|LN107764, FN107764|ALANGILAN|College of Engine...|BS Electrical Eng...|       1.25|        null|PASSED|         1.25|              NORMAL|\n",
      "|1444620| 2023-2024|   FIRST|  ENGG 409|Engineering Mecha...|      3|         4438|LN4438, FN4438|107764|LN107764, FN107764|ALANGILAN|College of Engine...|BS Electrical Eng...|       2.00|        null|PASSED|         2.00|              NORMAL|\n",
      "|1444625| 2023-2024|   FIRST|    EE 401|Electrical Circui...|      4|         2429|LN2429, FN2429|107764|LN107764, FN107764|ALANGILAN|College of Engine...|BS Electrical Eng...|       2.00|        null|PASSED|         2.00|              NORMAL|\n",
      "|1444611| 2023-2024|  SECOND|   CpE 401|Computer Programm...|      1|         4067|LN4067, FN4067|107764|LN107764, FN107764|ALANGILAN|College of Engine...|BS Electrical Eng...|       1.00|        null|PASSED|         1.00|              NORMAL|\n",
      "|1444610| 2023-2024|  SECOND|NSTP 121CW|NSTP - Civic Welf...|      3|         4202|LN4202, FN4202|107764|LN107764, FN107764|ALANGILAN|College of Engine...|BS Electrical Eng...|       1.25|        null|PASSED|         1.25|              NORMAL|\n",
      "|1444609| 2023-2024|  SECOND|   ECE 421|Electronic Circui...|      4|         4197|LN4197, FN4197|107764|LN107764, FN107764|ALANGILAN|College of Engine...|BS Electrical Eng...|       2.00|        null|PASSED|         2.00|              NORMAL|\n",
      "|1444612| 2023-2024|  SECOND|    EE 404|Electrical Machin...|      4|         3894|LN3894, FN3894|107764|LN107764, FN107764|ALANGILAN|College of Engine...|BS Electrical Eng...|       2.25|        null|PASSED|         2.25|              NORMAL|\n",
      "|1444615| 2023-2024|  SECOND|   GEd 104|The Contemporary ...|      3|         2201|LN2201, FN2201|107764|LN107764, FN107764|ALANGILAN|College of Engine...|BS Electrical Eng...|       1.50|        null|PASSED|         1.50|              NORMAL|\n",
      "|1444614| 2023-2024|  SECOND|    PE 104|         Team Sports|      2|         3023|LN3023, FN3023|107764|LN107764, FN107764|ALANGILAN|College of Engine...|BS Electrical Eng...|       1.50|        null|PASSED|         1.50|              NORMAL|\n",
      "|1444608| 2023-2024|  SECOND|    EE 402|Advanced Mathemat...|      3|         1025|LN1025, FN1025|107764|LN107764, FN107764|ALANGILAN|College of Engine...|BS Electrical Eng...|       2.75|        null|PASSED|         2.75|              NORMAL|\n",
      "|1444613| 2023-2024|  SECOND|    PE 102| Rhythmic Activities|      2|         3066|LN3066, FN3066|107764|LN107764, FN107764|ALANGILAN|College of Engine...|BS Electrical Eng...|       1.25|        null|PASSED|         1.25|              NORMAL|\n",
      "|1444632| 2023-2024|  SECOND|    EE 403|Electrical Circui...|      4|         4735|LN4735, FN4735|107764|LN107764, FN107764|ALANGILAN|College of Engine...|BS Electrical Eng...|       2.25|        null|PASSED|         2.25|              NORMAL|\n",
      "|1444631| 2023-2024|  SUMMER|   SCI 402|      Modern Biology|      3|         3518|LN3518, FN3518|107764|LN107764, FN107764|ALANGILAN|College of Engine...|BS Electrical Eng...|       1.25|        null|PASSED|         1.25|              NORMAL|\n",
      "|1444616| 2024-2025|   FIRST|  Fili 101|Kontekstwalisadon...|      3|          871|  LN871, FN871|107764|LN107764, FN107764|ALANGILAN|College of Engine...|BS Electrical Eng...|       1.50|        null|PASSED|         1.50|              NORMAL|\n",
      "|1444617| 2024-2025|   FIRST|   ECE 423|Fundamentals of E...|      3|         2908|LN2908, FN2908|107764|LN107764, FN107764|ALANGILAN|College of Engine...|BS Electrical Eng...|       1.00|        null|PASSED|         1.00|              NORMAL|\n",
      "|1444618| 2024-2025|   FIRST|    EE 406|Electrical Machin...|      4|          780|  LN780, FN780|107764|LN107764, FN107764|ALANGILAN|College of Engine...|BS Electrical Eng...|       2.25|        null|PASSED|         2.25|              NORMAL|\n",
      "|1444627| 2024-2025|   FIRST|   CpE 409|Logic Circuits an...|      3|         4753|LN4753, FN4753|107764|LN107764, FN107764|ALANGILAN|College of Engine...|BS Electrical Eng...|       1.25|        null|PASSED|         1.25|              NORMAL|\n",
      "|1444619| 2024-2025|   FIRST|  MATH 403|Engineering Data ...|      3|         2445|LN2445, FN2445|107764|LN107764, FN107764|ALANGILAN|College of Engine...|BS Electrical Eng...|       1.25|        null|PASSED|         1.25|              NORMAL|\n",
      "|1444628| 2024-2025|   FIRST|    ME 431|      Thermodynamics|      3|         3895|LN3895, FN3895|107764|LN107764, FN107764|ALANGILAN|College of Engine...|BS Electrical Eng...|       2.00|        null|PASSED|         2.00|              NORMAL|\n",
      "|1444629| 2024-2025|   FIRST|    EE 405|Electrical Appara...|      3|         4188|LN4188, FN4188|107764|LN107764, FN107764|ALANGILAN|College of Engine...|BS Electrical Eng...|       1.75|        null|PASSED|         1.75|              NORMAL|\n",
      "|1444630| 2024-2025|   FIRST|    PE 103|Individual and Du...|      2|         3479|LN3479, FN3479|107764|LN107764, FN107764|ALANGILAN|College of Engine...|BS Electrical Eng...|       1.25|        null|PASSED|         1.25|              NORMAL|\n",
      "+-------+----------+--------+----------+--------------------+-------+-------------+--------------+------+------------------+---------+--------------------+--------------------+-----------+------------+------+-------------+--------------------+\n",
      "\n"
     ]
    }
   ],
   "source": [
    "cleaned_df.createOrReplaceTempView('filtered_data_with_id')\n",
    "show_data = spark.sql(\"\"\"select * from filtered_data_with_id where srcode = '107764' order by schoolyear, semester asc\"\"\")\n",
    "show_data.show(50)"
   ]
  },
  {
   "cell_type": "code",
   "execution_count": 65,
   "metadata": {},
   "outputs": [
    {
     "data": {
      "text/plain": [
       "'from pyspark.sql.functions import when\\n# Initial count\\ninitial_count = df.count()\\nprint(f\"Initial number of records: {initial_count}\")\\n\\n# After removing previous programs\\ncleaned_df = remove_previous_programs(df)\\nafter_shifters_count = cleaned_df.count()\\nshifters_removed = initial_count - after_shifters_count\\nprint(f\"Records removed after handling shifters: {shifters_removed}\")\\n\\n# After semester cleaning\\nvalid_semesters = [\"FIRST\", \"SECOND\", \"SUMMER\", \"SUMMER2\"]\\ncleaned_df = cleaned_df.withColumn(\\n    \"semester\",\\n    when(cleaned_df[\"semester\"].isin(\"SECOND_X\", \"SECOND SEMESTER\"), \"SECOND\")\\n    .when(cleaned_df[\"semester\"].isin(valid_semesters), cleaned_df[\"semester\"])\\n    .otherwise(None)\\n).filter(col(\"semester\").isNotNull())\\n\\nafter_semester_count = cleaned_df.count()\\nsemester_removed = after_shifters_count - after_semester_count\\nprint(f\"Records removed after cleaning semesters: {semester_removed}\")\\n\\n# After removing NULL programs\\ncleaned_df = cleaned_df.filter(col(\"program\").isNotNull())\\nfinal_count = cleaned_df.count()\\nnull_program_removed = after_semester_count - final_count\\nprint(f\"Records removed with NULL programs: {null_program_removed}\")\\n\\n# Total records removed\\ntotal_removed = initial_count - final_count\\nprint(f\"\\nTotal records removed: {total_removed}\")\\nprint(f\"Final number of records: {final_count}\")\\nprint(f\"Percentage of data retained: {(final_count/initial_count)*100:.2f}%\")'"
      ]
     },
     "execution_count": 65,
     "metadata": {},
     "output_type": "execute_result"
    }
   ],
   "source": [
    "'''from pyspark.sql.functions import when\n",
    "# Initial count\n",
    "initial_count = df.count()\n",
    "print(f\"Initial number of records: {initial_count}\")\n",
    "\n",
    "# After removing previous programs\n",
    "cleaned_df = remove_previous_programs(df)\n",
    "after_shifters_count = cleaned_df.count()\n",
    "shifters_removed = initial_count - after_shifters_count\n",
    "print(f\"Records removed after handling shifters: {shifters_removed}\")\n",
    "\n",
    "# After semester cleaning\n",
    "valid_semesters = [\"FIRST\", \"SECOND\", \"SUMMER\", \"SUMMER2\"]\n",
    "cleaned_df = cleaned_df.withColumn(\n",
    "    \"semester\",\n",
    "    when(cleaned_df[\"semester\"].isin(\"SECOND_X\", \"SECOND SEMESTER\"), \"SECOND\")\n",
    "    .when(cleaned_df[\"semester\"].isin(valid_semesters), cleaned_df[\"semester\"])\n",
    "    .otherwise(None)\n",
    ").filter(col(\"semester\").isNotNull())\n",
    "\n",
    "after_semester_count = cleaned_df.count()\n",
    "semester_removed = after_shifters_count - after_semester_count\n",
    "print(f\"Records removed after cleaning semesters: {semester_removed}\")\n",
    "\n",
    "# After removing NULL programs\n",
    "cleaned_df = cleaned_df.filter(col(\"program\").isNotNull())\n",
    "final_count = cleaned_df.count()\n",
    "null_program_removed = after_semester_count - final_count\n",
    "print(f\"Records removed with NULL programs: {null_program_removed}\")\n",
    "\n",
    "# Total records removed\n",
    "total_removed = initial_count - final_count\n",
    "print(f\"\\nTotal records removed: {total_removed}\")\n",
    "print(f\"Final number of records: {final_count}\")\n",
    "print(f\"Percentage of data retained: {(final_count/initial_count)*100:.2f}%\")'''"
   ]
  },
  {
   "cell_type": "code",
   "execution_count": 67,
   "metadata": {},
   "outputs": [
    {
     "data": {
      "text/plain": [
       "1950114"
      ]
     },
     "execution_count": 67,
     "metadata": {},
     "output_type": "execute_result"
    }
   ],
   "source": [
    "cleaned_df.count()"
   ]
  }
 ],
 "metadata": {
  "kernelspec": {
   "display_name": "venv",
   "language": "python",
   "name": "python3"
  },
  "language_info": {
   "codemirror_mode": {
    "name": "ipython",
    "version": 3
   },
   "file_extension": ".py",
   "mimetype": "text/x-python",
   "name": "python",
   "nbconvert_exporter": "python",
   "pygments_lexer": "ipython3",
   "version": "3.10.11"
  }
 },
 "nbformat": 4,
 "nbformat_minor": 2
}
